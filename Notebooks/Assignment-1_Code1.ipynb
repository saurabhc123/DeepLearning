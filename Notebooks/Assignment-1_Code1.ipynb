{
 "cells": [
  {
   "cell_type": "code",
   "execution_count": 655,
   "metadata": {},
   "outputs": [],
   "source": [
    "import numpy as np\n",
    "from random import seed\n",
    "from random import random\n",
    "from math import exp"
   ]
  },
  {
   "cell_type": "code",
   "execution_count": null,
   "metadata": {},
   "outputs": [],
   "source": [
    ""
   ]
  },
  {
   "cell_type": "code",
   "execution_count": 656,
   "metadata": {},
   "outputs": [],
   "source": [
    "def initialize_matrix_network(n_inputs, n_neurons , n_outputs):\n",
    "\tnetwork = list()\n",
    "\thidden_layer1 = {}\n",
    "\thidden_layer1['weights'] =  np.random.random((n_inputs,n_neurons))\n",
    "\tnetwork.append(hidden_layer1)\n",
    "\thidden_layer2  = {}\n",
    "\thidden_layer2['weights'] =  np.random.random((n_neurons,n_neurons))\n",
    "\tnetwork.append(hidden_layer2)\n",
    "\toutput_layer  = {}\n",
    "\toutput_layer['weights'] =   np.random.random((n_neurons,n_outputs))\n",
    "\tnetwork.append(output_layer)\n",
    "\treturn network"
   ]
  },
  {
   "cell_type": "code",
   "execution_count": 657,
   "metadata": {},
   "outputs": [],
   "source": [
    "inputFilenameWithPath = 'train_data.txt'\n",
    "inputData = np.loadtxt(inputFilenameWithPath, delimiter=\",\")\n",
    "#print('Number of training examples: '+ str(len(inputData)))\n",
    "#n_inputs = len(inputData[0]) - 1\n",
    "n_outputs = len(set([row[-1] for row in inputData]))\n",
    "#print('Number of features: '+ str(n_inputs) + \" Number of classes:\" + str(n_outputs))\n",
    "\n",
    "network = initialize_matrix_network(n_inputs, 3, n_outputs)"
   ]
  },
  {
   "cell_type": "code",
   "execution_count": 658,
   "metadata": {},
   "outputs": [],
   "source": [
    "def sigmoid_derivative(z):\n",
    "    return z*(1-z)"
   ]
  },
  {
   "cell_type": "code",
   "execution_count": 659,
   "metadata": {},
   "outputs": [],
   "source": [
    "def softmax(z):\n",
    "    sum = np.sum(np.exp(z), axis=1, keepdims=True)\n",
    "    return np.divide(np.exp(z),sum)"
   ]
  },
  {
   "cell_type": "code",
   "execution_count": 660,
   "metadata": {},
   "outputs": [
    {
     "name": "stdout",
     "output_type": "stream",
     "text": [
      "('a', array([[ 0.66231308,  0.6948515 ,  0.44575596]]))\n",
      "('a', array([[ 0.70518283,  0.71919247,  0.63793602]]))\n",
      "('a', array([[ 0.45322474,  0.54677526]]))\n",
      "[[ 0.45322474  0.54677526]]\n"
     ]
    }
   ],
   "source": [
    "def forward_propagate(network, inputData):\n",
    "    layerInput = inputData\n",
    "    #print(layerInput.shape)\n",
    "    sigmoid = np.vectorize(lambda x: 1.0 / (1.0 + np.exp(-x)))\n",
    "    #First hidden layer\n",
    "    layerIterator = 0;\n",
    "    for layer in network:\n",
    "        z = np.dot(layerInput, layer['weights']) #Just for the input layer\n",
    "        #z = np.dot(layerInput, layer['weights']) #For the other layers\n",
    "        layer['z'] = z\n",
    "        #print(\"z\",z)\n",
    "        if(layerIterator == len(network) - 1):\n",
    "            layer['output'] = softmax(z)\n",
    "        else:\n",
    "            layer['output'] = sigmoid(z)\n",
    "        print(\"a\",layer['output'])\n",
    "        layerInput = layer['output'] #[1 x n_neurons]\n",
    "        layerIterator += 1\n",
    "    return network[-1]['output']\n",
    "    \n",
    "forward_propagate(network, inputData[12:13,:2])\n",
    "print(network[2]['output'])"
   ]
  },
  {
   "cell_type": "code",
   "execution_count": 661,
   "metadata": {},
   "outputs": [],
   "source": [
    "def softmax_derivative(y1, y2):\n",
    "    return y1\n",
    "    #return y1(1 - y1) - y1*y2"
   ]
  },
  {
   "cell_type": "code",
   "execution_count": 662,
   "metadata": {},
   "outputs": [],
   "source": [
    "def error_output(y_predicted, y_actual):\n",
    "    return 2*(y_predicted - y_actual)"
   ]
  },
  {
   "cell_type": "code",
   "execution_count": 663,
   "metadata": {},
   "outputs": [],
   "source": [
    "def backward_propagate(network,prediction, trueValue):\n",
    "    layerInput = prediction * np.ones(n_outputs)\n",
    "    truth = trueValue  * np.ones(n_outputs)\n",
    "    print(\"Prediction\",layerInput)\n",
    "    print(\"Truth\",truth)\n",
    "    #error = np.vectorize(lambda x: error_output(outputData ,x))\n",
    "    dy_dz_operation = np.vectorize(lambda x: softmax_derivative(x, 1-x));\n",
    "    sigmoid_derivative_operation = np.vectorize(lambda x: sigmoid_derivative(x))\n",
    "    for i in reversed(range(len(network))):\n",
    "        dL_dy = network[i]['error'] = (trueValue - layerInput)\n",
    "        if(i == len(network) - 1):\n",
    "            print('The Error - dL_dy:', dL_dy)\n",
    "            print(\"Loss:\", np.sum(dL_dy**2))\n",
    "            dy_dz = dy_dz_operation(network[i]['output']);\n",
    "            delta = network[i]['delta'] = dL_dy * dy_dz\n",
    "            #print('delta', delta)\n",
    "            network[i]['weight_update'] = layerInput = dL_dw = np.outer(delta, network[i-1]['output'])\n",
    "            \n",
    "        else:\n",
    "            #print('delta.shape:', delta.shape)\n",
    "            #print('network[i+1][weights].shape:', network[i+1]['weights'].T.shape)\n",
    "            wT_dot_delta = np.dot(delta, network[i+1]['weights'].T)\n",
    "            #print('wT_dot_delta.shape:', wT_dot_delta.shape)\n",
    "            delta = network[i]['delta'] = wT_dot_delta * sigmoid_derivative_operation(network[i]['z'])\n",
    "            network[i]['weight_update'] = layerInput = dL_dw =  np.outer(delta , network[i-1]['output']) \n",
    "        #print(delta)\n",
    "        #print('layerInput.shape:', layerInput.shape)\n",
    "        #layerInput = dL_dw = np.outer(delta, network[i-1]['output'])\n",
    "        #print('dL_dw.shape',dL_dw.shape)\n",
    "        #layerInput = error * \n",
    "        \n",
    "#start_index = 500  \n",
    "#prediction = forward_propagate(network, inputData[start_index:start_index + 1,:2])   \n",
    "#print(prediction)\n",
    "#backward_propagate(network, prediction,inputData[start_index:start_index + 1,2])\n",
    "#update_weights(network, eta)"
   ]
  },
  {
   "cell_type": "code",
   "execution_count": 664,
   "metadata": {},
   "outputs": [],
   "source": [
    "def error_hidden(H, Wo, Eo):\n",
    "    # H * (1-H) * (E . Wo^T)\n",
    "    return np.multiply(np.multiply(H,(1 - H)), Eo.dot(Wo.T))"
   ]
  },
  {
   "cell_type": "code",
   "execution_count": 675,
   "metadata": {},
   "outputs": [],
   "source": [
    "def update_weights(network, eta):\n",
    "    for i in reversed(range(len(network))):\n",
    "        update = network[i]['weight_update']\n",
    "        #print('update.shape',update.shape)\n",
    "        #print('network[i][weights].shape',network[i]['weights'].shape)\n",
    "        network[i]['weights'] -= update*eta\n",
    "        #print(network[i]['weights'])\n",
    "#eta = 0.1\n",
    "#update_weights(network, eta)"
   ]
  },
  {
   "cell_type": "code",
   "execution_count": 666,
   "metadata": {},
   "outputs": [],
   "source": [
    "def predict(inputRow,network):\n",
    "    return forward_propagate(network, inputRow)\n",
    "\n",
    "#predict(inputData[:1,:2], network)"
   ]
  },
  {
   "cell_type": "code",
   "execution_count": 671,
   "metadata": {},
   "outputs": [],
   "source": [
    "n_epochs = 50\n",
    "eta = 0.05\n",
    "\n",
    "def runSGD(inputData,network):\n",
    "    n_inputs = len(inputData[0]) - 1\n",
    "    network = initialize_matrix_network(n_inputs, 3, n_outputs)\n",
    "    n_iterations = 50\n",
    "    for epoch in range(n_epochs): #For each epoch\n",
    "        for i in range(n_iterations):\n",
    "            random_index = np.random.randint(n_iterations)\n",
    "            inputRow = inputData[random_index:random_index+1,:]\n",
    "            #print(inputRow)\n",
    "            prediction = forward_propagate(network, inputRow[:,:2])\n",
    "            backward_propagate(network,prediction,inputRow[:,2])\n",
    "            print(\"Prediction:\",prediction,\" Truth:\",inputRow[:,2])\n",
    "            update_weights(network, eta)\n",
    "            #print(network)"
   ]
  },
  {
   "cell_type": "code",
   "execution_count": 676,
   "metadata": {},
   "outputs": [
    {
     "name": "stdout",
     "output_type": "stream",
     "text": [
      "('a', array([[ 0.802256  ,  0.86178891,  0.53165097]]))\n",
      "('a', array([[ 0.77082761,  0.80720876,  0.80864198]]))\n",
      "('a', array([[ 0.5343925,  0.4656075]]))\n",
      "('Prediction', array([[ 0.5343925,  0.4656075]]))\n",
      "('Truth', array([ 1.,  1.]))\n",
      "('The Error - dL_dy:', array([[ 0.4656075,  0.5343925]]))\n",
      "('Loss:', 0.50236568812978832)\n",
      "('Prediction:', array([[ 0.5343925,  0.4656075]]), ' Truth:', array([ 1.]))\n"
     ]
    },
    {
     "ename": "ValueError",
     "evalue": "operands could not be broadcast together with shapes (3,2) (2,3) (3,2) ",
     "output_type": "error",
     "traceback": [
      "\u001b[0;31m---------------------------------------------------------------------------\u001b[0m",
      "\u001b[0;31mValueError\u001b[0m                                Traceback (most recent call last)",
      "\u001b[0;32m<ipython-input-676-bc0d576d8a32>\u001b[0m in \u001b[0;36m<module>\u001b[0;34m()\u001b[0m\n\u001b[0;32m----> 1\u001b[0;31m \u001b[0mrunSGD\u001b[0m\u001b[0;34m(\u001b[0m\u001b[0minputData\u001b[0m\u001b[0;34m,\u001b[0m\u001b[0mnetwork\u001b[0m\u001b[0;34m)\u001b[0m\u001b[0;34m\u001b[0m\u001b[0m\n\u001b[0m",
      "\u001b[0;32m<ipython-input-671-ab1e308b4eca>\u001b[0m in \u001b[0;36mrunSGD\u001b[0;34m(inputData, network)\u001b[0m\n\u001b[1;32m     14\u001b[0m             \u001b[0mbackward_propagate\u001b[0m\u001b[0;34m(\u001b[0m\u001b[0mnetwork\u001b[0m\u001b[0;34m,\u001b[0m\u001b[0mprediction\u001b[0m\u001b[0;34m,\u001b[0m\u001b[0minputRow\u001b[0m\u001b[0;34m[\u001b[0m\u001b[0;34m:\u001b[0m\u001b[0;34m,\u001b[0m\u001b[0;36m2\u001b[0m\u001b[0;34m]\u001b[0m\u001b[0;34m)\u001b[0m\u001b[0;34m\u001b[0m\u001b[0m\n\u001b[1;32m     15\u001b[0m             \u001b[0;32mprint\u001b[0m\u001b[0;34m(\u001b[0m\u001b[0;34m\"Prediction:\"\u001b[0m\u001b[0;34m,\u001b[0m\u001b[0mprediction\u001b[0m\u001b[0;34m,\u001b[0m\u001b[0;34m\" Truth:\"\u001b[0m\u001b[0;34m,\u001b[0m\u001b[0minputRow\u001b[0m\u001b[0;34m[\u001b[0m\u001b[0;34m:\u001b[0m\u001b[0;34m,\u001b[0m\u001b[0;36m2\u001b[0m\u001b[0;34m]\u001b[0m\u001b[0;34m)\u001b[0m\u001b[0;34m\u001b[0m\u001b[0m\n\u001b[0;32m---> 16\u001b[0;31m             \u001b[0mupdate_weights\u001b[0m\u001b[0;34m(\u001b[0m\u001b[0mnetwork\u001b[0m\u001b[0;34m,\u001b[0m \u001b[0meta\u001b[0m\u001b[0;34m)\u001b[0m\u001b[0;34m\u001b[0m\u001b[0m\n\u001b[0m\u001b[1;32m     17\u001b[0m             \u001b[0;31m#print(network)\u001b[0m\u001b[0;34m\u001b[0m\u001b[0;34m\u001b[0m\u001b[0m\n",
      "\u001b[0;32m<ipython-input-675-910444a27b9e>\u001b[0m in \u001b[0;36mupdate_weights\u001b[0;34m(network, eta)\u001b[0m\n\u001b[1;32m      4\u001b[0m         \u001b[0;31m#print('update.shape',update.shape)\u001b[0m\u001b[0;34m\u001b[0m\u001b[0;34m\u001b[0m\u001b[0m\n\u001b[1;32m      5\u001b[0m         \u001b[0;31m#print('network[i][weights].shape',network[i]['weights'].shape)\u001b[0m\u001b[0;34m\u001b[0m\u001b[0;34m\u001b[0m\u001b[0m\n\u001b[0;32m----> 6\u001b[0;31m         \u001b[0mnetwork\u001b[0m\u001b[0;34m[\u001b[0m\u001b[0mi\u001b[0m\u001b[0;34m]\u001b[0m\u001b[0;34m[\u001b[0m\u001b[0;34m'weights'\u001b[0m\u001b[0;34m]\u001b[0m \u001b[0;34m-=\u001b[0m \u001b[0mupdate\u001b[0m\u001b[0;34m*\u001b[0m\u001b[0meta\u001b[0m\u001b[0;34m\u001b[0m\u001b[0m\n\u001b[0m\u001b[1;32m      7\u001b[0m         \u001b[0;31m#print(network[i]['weights'])\u001b[0m\u001b[0;34m\u001b[0m\u001b[0;34m\u001b[0m\u001b[0m\n\u001b[1;32m      8\u001b[0m \u001b[0;31m#eta = 0.1\u001b[0m\u001b[0;34m\u001b[0m\u001b[0;34m\u001b[0m\u001b[0m\n",
      "\u001b[0;31mValueError\u001b[0m: operands could not be broadcast together with shapes (3,2) (2,3) (3,2) "
     ]
    }
   ],
   "source": [
    "runSGD(inputData,network)"
   ]
  },
  {
   "cell_type": "code",
   "execution_count": null,
   "metadata": {},
   "outputs": [],
   "source": [
    ""
   ]
  },
  {
   "cell_type": "code",
   "execution_count": null,
   "metadata": {},
   "outputs": [],
   "source": [
    ""
   ]
  }
 ],
 "metadata": {
  "kernelspec": {
   "display_name": "Python 2",
   "language": "python",
   "name": "python2"
  },
  "language_info": {
   "codemirror_mode": {
    "name": "ipython",
    "version": 2.0
   },
   "file_extension": ".py",
   "mimetype": "text/x-python",
   "name": "python",
   "nbconvert_exporter": "python",
   "pygments_lexer": "ipython2",
   "version": "2.7.10"
  }
 },
 "nbformat": 4,
 "nbformat_minor": 2
}