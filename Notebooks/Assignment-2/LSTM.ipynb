{
 "cells": [
  {
   "cell_type": "code",
   "execution_count": 1,
   "metadata": {},
   "outputs": [
    {
     "name": "stdout",
     "output_type": "stream",
     "text": [
      "[['0.68491' '0.32385' '-0.11592' ..., '0.17874' '-0.1693' '0.062375']\n",
      " ['0.96193' '0.012516' '0.21733' ..., '0.14032' '-0.38468' '-0.38712']\n",
      " ['0.6008' '0.18044' '0.078339' ..., '-0.016404' '-0.65372' '-0.38255']\n",
      " ..., \n",
      " ['0.88387' '-0.14199' '0.13566' ..., '0.52711' '-0.20148' '0.0095952']\n",
      " ['-0.0010919' '0.33324' '0.35743' ..., '-0.45697' '-0.048969' '1.1316']\n",
      " ['-0.55114' '-0.16296' '-0.95494' ..., '-1.0346' '-0.25143' '1.4836']]\n"
     ]
    }
   ],
   "source": [
    "import tensorflow as tf\n",
    "from tensorflow.examples.tutorials.mnist import input_data\n",
    "import csv\n",
    "import numpy as np\n",
    "\n",
    "DATA_DIR = 'MNIST'\n",
    "sentiment_data = 'sentiment-data'\n",
    "\n",
    "\n",
    "def getWordVectorDict():\n",
    "    reader = csv.reader(open(sentiment_data +'/word-vectors-refine.txt'))\n",
    "\n",
    "    word_vector_dict = {}\n",
    "    for row in reader:\n",
    "        key = row[0]\n",
    "        if key in word_vector_dict:\n",
    "            # implement your duplicate row handling here\n",
    "            pass\n",
    "        word_vector_dict[key] = np.array(row[1:])\n",
    "    return word_vector_dict\n",
    "\n",
    "def getPaddedSentenceMatrix(sentenceMatrix):\n",
    "    wordCount = 100\n",
    "    return np.vstack((sentenceMatrix, np.zeros((wordCount - np.shape(sentenceMatrix)[0],np.shape(sentenceMatrix)[1]), dtype=np.float32)))\n",
    "\n",
    "def getVectorForSentence(sentence, word_vec_dict):\n",
    "    sentence_matrix = []\n",
    "    for word in sentence.split(' '):\n",
    "        word_vec = word_vec_dict[word]\n",
    "        if(len(sentence_matrix) == 0):\n",
    "            sentence_matrix = word_vec\n",
    "        else:\n",
    "            sentence_matrix = np.vstack((sentence_matrix,word_vec))\n",
    "    return getPaddedSentenceMatrix(sentence_matrix)\n",
    "\n",
    "def getData(fileName):\n",
    "    reader = csv.reader(open(sentiment_data +'/' + fileName))\n",
    "    trainingData = []\n",
    "    for row in reader:\n",
    "        data = {}\n",
    "        data['label'] =  1 if row[0] == 'postive' else 0\n",
    "        data['sentence'] = row[1:]\n",
    "        trainingData.append(data)\n",
    "    return trainingData\n",
    "\n",
    "word_vec_dict = getWordVectorDict()\n",
    "\n",
    "\n",
    "def transform(row):\n",
    "    return row['label'], getVectorForSentence(row['sentence'][0], word_vec_dict)\n",
    "\n",
    "\n",
    "word_vector_size = 50;\n",
    "time_steps = 100;\n",
    "num_classes = 2\n",
    "batch_size = 1000;\n",
    "n_iterations = 10;\n",
    "hidden_layer_size = 64\n",
    "\n",
    "training_data = getData('train.csv')\n",
    "training_rows  = map(lambda row: transform(row), training_data)\n",
    "training_data = map(lambda row: row[1], training_rows)\n",
    "training_labels = map(lambda row: row[0], training_rows)\n",
    "#test_data = map(lambda row: transform(row), getData('test.csv'))\n",
    "test_data = getData('test.csv')\n",
    "test_rows  = map(lambda row: transform(row), test_data)\n",
    "test_data = map(lambda row: row[1], test_rows)\n",
    "test_labels = map(lambda row: row[0], test_rows)\n",
    "print training_data[0]"
   ]
  },
  {
   "cell_type": "code",
   "execution_count": null,
   "metadata": {
    "collapsed": true
   },
   "outputs": [],
   "source": []
  },
  {
   "cell_type": "code",
   "execution_count": 2,
   "metadata": {},
   "outputs": [],
   "source": [
    "#Setting up the input and labels placeholders\n",
    "_inputs = tf.placeholder(tf.float32, shape=[None, time_steps,\n",
    "                                            word_vector_size])\n",
    "y = tf.placeholder(tf.int32, shape=[None, num_classes])\n",
    "#y_one_hot = tf.one_hot( y , num_classes )\n",
    "\n",
    "# TensorFlow built-in functions\n",
    "# Creating the RNN cell and creating the outputs\n",
    "with tf.variable_scope(\"lstm\"):\n",
    "    lstm_cell = tf.contrib.rnn.BasicLSTMCell(hidden_layer_size,\n",
    "                                             forget_bias=1.0)\n",
    "    outputs, states = tf.nn.dynamic_rnn(lstm_cell,_inputs, dtype=tf.float32)\n",
    "    final_output = tf.layers.dense(states[-1], num_classes)\n",
    "\n",
    "softmax = tf.nn.softmax_cross_entropy_with_logits(logits = final_output,\n",
    "                                                  labels = y)                         \n",
    "cross_entropy = tf.reduce_mean(softmax)\n",
    "\n",
    "train_step = tf.train.RMSPropOptimizer(0.001, 0.9).minimize(cross_entropy)\n",
    "correct_prediction = tf.equal(tf.argmax(y,1),\n",
    "                              tf.argmax(final_output,1))\n",
    "accuracy = (tf.reduce_mean(tf.cast(correct_prediction,\n",
    "                                   tf.float32)))*100"
   ]
  },
  {
   "cell_type": "code",
   "execution_count": null,
   "metadata": {
    "collapsed": true
   },
   "outputs": [],
   "source": []
  },
  {
   "cell_type": "code",
   "execution_count": 3,
   "metadata": {},
   "outputs": [
    {
     "name": "stdout",
     "output_type": "stream",
     "text": [
      "(100, 2)\n"
     ]
    }
   ],
   "source": [
    "def dense_to_one_hot(labels_dense, num_classes=10):\n",
    "  \"\"\"Convert class labels from scalars to one-hot vectors.\"\"\"\n",
    "  num_labels = labels_dense.shape[0]\n",
    "  index_offset = np.arange(num_labels) * num_classes\n",
    "  labels_one_hot = np.zeros((num_labels, num_classes))\n",
    "  labels_one_hot.flat[index_offset + labels_dense.ravel()] = 1\n",
    "  return labels_one_hot\n",
    "\n",
    "label_batch = np.array(training_labels[100 : 200])\n",
    "l = np.array(dense_to_one_hot(label_batch,2)).reshape(len(label_batch), num_classes)\n",
    "\n",
    "print l.shape"
   ]
  },
  {
   "cell_type": "code",
   "execution_count": null,
   "metadata": {
    "collapsed": true
   },
   "outputs": [],
   "source": []
  },
  {
   "cell_type": "code",
   "execution_count": 8,
   "metadata": {},
   "outputs": [
    {
     "name": "stdout",
     "output_type": "stream",
     "text": [
      "Epoch: 0\n",
      "(2, 100, 64)\n",
      "[ 0.35349229  0.05408145 -0.04980248 -0.45747414  0.41008607 -0.03149027\n",
      "  0.11453526  0.13162792  0.10055377 -0.48948216 -0.18477607  0.27962115\n",
      " -0.30516392  0.17821287 -0.2416973   0.52791929 -0.29342145  0.34865117\n",
      " -0.25682735 -0.07945392  0.15725668 -0.1070148   0.26514405 -0.26032311\n",
      "  0.04420391  0.33511406  0.19800459 -0.07995418  0.35081276 -0.42272994\n",
      "  0.31618991 -0.03953188 -0.0676325   0.14503707  0.24785855 -0.2982927\n",
      " -0.56670523 -0.07529755  0.25244197  0.40332064 -0.11389636  0.06781029\n",
      "  0.45683414 -0.08514323  0.28867003  0.43941334  0.14131245 -0.39798155\n",
      "  0.43895504  0.03019102 -0.2628535   0.36864814 -0.40637255  0.11533556\n",
      "  0.04287367 -0.16855547  0.02681988 -0.32058918 -0.25340486  0.02896073\n",
      " -0.24523804 -0.0589234   0.21734823 -0.12484624]\n",
      "[ 0.35349229  0.05408145 -0.04980248 -0.45747414  0.41008607 -0.03149027\n",
      "  0.11453526  0.13162792  0.10055377 -0.48948216 -0.18477607  0.27962115\n",
      " -0.30516392  0.17821287 -0.2416973   0.52791929 -0.29342145  0.34865117\n",
      " -0.25682735 -0.07945392  0.15725668 -0.1070148   0.26514405 -0.26032311\n",
      "  0.04420391  0.33511406  0.19800459 -0.07995418  0.35081276 -0.42272994\n",
      "  0.31618991 -0.03953188 -0.0676325   0.14503707  0.24785855 -0.2982927\n",
      " -0.56670523 -0.07529755  0.25244197  0.40332064 -0.11389636  0.06781029\n",
      "  0.45683414 -0.08514323  0.28867003  0.43941334  0.14131245 -0.39798155\n",
      "  0.43895504  0.03019102 -0.2628535   0.36864814 -0.40637255  0.11533556\n",
      "  0.04287367 -0.16855547  0.02681988 -0.32058918 -0.25340486  0.02896073\n",
      " -0.24523804 -0.0589234   0.21734823 -0.12484624]\n",
      "(64,)\n",
      "Iter 0, Minibatch Loss= 0.676765, Training Accuracy= 54.00000\n",
      "Epoch: 1\n"
     ]
    },
    {
     "ename": "KeyboardInterrupt",
     "evalue": "",
     "output_type": "error",
     "traceback": [
      "\u001b[0;31m---------------------------------------------------------------------------\u001b[0m",
      "\u001b[0;31mKeyboardInterrupt\u001b[0m                         Traceback (most recent call last)",
      "\u001b[0;32m<ipython-input-8-42141c2e914e>\u001b[0m in \u001b[0;36m<module>\u001b[0;34m()\u001b[0m\n\u001b[1;32m     17\u001b[0m             \u001b[0mbatch_y\u001b[0m \u001b[0;34m=\u001b[0m \u001b[0mdense_to_one_hot\u001b[0m\u001b[0;34m(\u001b[0m\u001b[0mnp\u001b[0m\u001b[0;34m.\u001b[0m\u001b[0marray\u001b[0m\u001b[0;34m(\u001b[0m\u001b[0mtraining_labels\u001b[0m\u001b[0;34m[\u001b[0m\u001b[0mstartIndex\u001b[0m \u001b[0;34m:\u001b[0m \u001b[0mendIndex\u001b[0m\u001b[0;34m]\u001b[0m\u001b[0;34m)\u001b[0m\u001b[0;34m,\u001b[0m\u001b[0mnum_classes\u001b[0m\u001b[0;34m)\u001b[0m\u001b[0;34m\u001b[0m\u001b[0m\n\u001b[1;32m     18\u001b[0m             sess.run(train_step, feed_dict={_inputs: batch_x,\n\u001b[0;32m---> 19\u001b[0;31m                                             y: batch_y})\n\u001b[0m\u001b[1;32m     20\u001b[0m         \u001b[0;32mif\u001b[0m \u001b[0mepoch\u001b[0m \u001b[0;34m%\u001b[0m \u001b[0;36m1\u001b[0m \u001b[0;34m==\u001b[0m \u001b[0;36m0\u001b[0m\u001b[0;34m:\u001b[0m\u001b[0;34m\u001b[0m\u001b[0m\n\u001b[1;32m     21\u001b[0m             \u001b[0macc\u001b[0m \u001b[0;34m=\u001b[0m \u001b[0msess\u001b[0m\u001b[0;34m.\u001b[0m\u001b[0mrun\u001b[0m\u001b[0;34m(\u001b[0m\u001b[0maccuracy\u001b[0m\u001b[0;34m,\u001b[0m \u001b[0mfeed_dict\u001b[0m\u001b[0;34m=\u001b[0m\u001b[0;34m{\u001b[0m\u001b[0m_inputs\u001b[0m\u001b[0;34m:\u001b[0m \u001b[0mbatch_x\u001b[0m\u001b[0;34m,\u001b[0m \u001b[0my\u001b[0m\u001b[0;34m:\u001b[0m \u001b[0mbatch_y\u001b[0m\u001b[0;34m}\u001b[0m\u001b[0;34m)\u001b[0m\u001b[0;34m\u001b[0m\u001b[0m\n",
      "\u001b[0;32m/Users/saur6410/.virtualenvs/blacksburg/lib/python2.7/site-packages/tensorflow/python/client/session.pyc\u001b[0m in \u001b[0;36mrun\u001b[0;34m(self, fetches, feed_dict, options, run_metadata)\u001b[0m\n\u001b[1;32m    893\u001b[0m     \u001b[0;32mtry\u001b[0m\u001b[0;34m:\u001b[0m\u001b[0;34m\u001b[0m\u001b[0m\n\u001b[1;32m    894\u001b[0m       result = self._run(None, fetches, feed_dict, options_ptr,\n\u001b[0;32m--> 895\u001b[0;31m                          run_metadata_ptr)\n\u001b[0m\u001b[1;32m    896\u001b[0m       \u001b[0;32mif\u001b[0m \u001b[0mrun_metadata\u001b[0m\u001b[0;34m:\u001b[0m\u001b[0;34m\u001b[0m\u001b[0m\n\u001b[1;32m    897\u001b[0m         \u001b[0mproto_data\u001b[0m \u001b[0;34m=\u001b[0m \u001b[0mtf_session\u001b[0m\u001b[0;34m.\u001b[0m\u001b[0mTF_GetBuffer\u001b[0m\u001b[0;34m(\u001b[0m\u001b[0mrun_metadata_ptr\u001b[0m\u001b[0;34m)\u001b[0m\u001b[0;34m\u001b[0m\u001b[0m\n",
      "\u001b[0;32m/Users/saur6410/.virtualenvs/blacksburg/lib/python2.7/site-packages/tensorflow/python/client/session.pyc\u001b[0m in \u001b[0;36m_run\u001b[0;34m(self, handle, fetches, feed_dict, options, run_metadata)\u001b[0m\n\u001b[1;32m   1122\u001b[0m     \u001b[0;32mif\u001b[0m \u001b[0mfinal_fetches\u001b[0m \u001b[0;32mor\u001b[0m \u001b[0mfinal_targets\u001b[0m \u001b[0;32mor\u001b[0m \u001b[0;34m(\u001b[0m\u001b[0mhandle\u001b[0m \u001b[0;32mand\u001b[0m \u001b[0mfeed_dict_tensor\u001b[0m\u001b[0;34m)\u001b[0m\u001b[0;34m:\u001b[0m\u001b[0;34m\u001b[0m\u001b[0m\n\u001b[1;32m   1123\u001b[0m       results = self._do_run(handle, final_targets, final_fetches,\n\u001b[0;32m-> 1124\u001b[0;31m                              feed_dict_tensor, options, run_metadata)\n\u001b[0m\u001b[1;32m   1125\u001b[0m     \u001b[0;32melse\u001b[0m\u001b[0;34m:\u001b[0m\u001b[0;34m\u001b[0m\u001b[0m\n\u001b[1;32m   1126\u001b[0m       \u001b[0mresults\u001b[0m \u001b[0;34m=\u001b[0m \u001b[0;34m[\u001b[0m\u001b[0;34m]\u001b[0m\u001b[0;34m\u001b[0m\u001b[0m\n",
      "\u001b[0;32m/Users/saur6410/.virtualenvs/blacksburg/lib/python2.7/site-packages/tensorflow/python/client/session.pyc\u001b[0m in \u001b[0;36m_do_run\u001b[0;34m(self, handle, target_list, fetch_list, feed_dict, options, run_metadata)\u001b[0m\n\u001b[1;32m   1319\u001b[0m     \u001b[0;32mif\u001b[0m \u001b[0mhandle\u001b[0m \u001b[0;32mis\u001b[0m \u001b[0mNone\u001b[0m\u001b[0;34m:\u001b[0m\u001b[0;34m\u001b[0m\u001b[0m\n\u001b[1;32m   1320\u001b[0m       return self._do_call(_run_fn, self._session, feeds, fetches, targets,\n\u001b[0;32m-> 1321\u001b[0;31m                            options, run_metadata)\n\u001b[0m\u001b[1;32m   1322\u001b[0m     \u001b[0;32melse\u001b[0m\u001b[0;34m:\u001b[0m\u001b[0;34m\u001b[0m\u001b[0m\n\u001b[1;32m   1323\u001b[0m       \u001b[0;32mreturn\u001b[0m \u001b[0mself\u001b[0m\u001b[0;34m.\u001b[0m\u001b[0m_do_call\u001b[0m\u001b[0;34m(\u001b[0m\u001b[0m_prun_fn\u001b[0m\u001b[0;34m,\u001b[0m \u001b[0mself\u001b[0m\u001b[0;34m.\u001b[0m\u001b[0m_session\u001b[0m\u001b[0;34m,\u001b[0m \u001b[0mhandle\u001b[0m\u001b[0;34m,\u001b[0m \u001b[0mfeeds\u001b[0m\u001b[0;34m,\u001b[0m \u001b[0mfetches\u001b[0m\u001b[0;34m)\u001b[0m\u001b[0;34m\u001b[0m\u001b[0m\n",
      "\u001b[0;32m/Users/saur6410/.virtualenvs/blacksburg/lib/python2.7/site-packages/tensorflow/python/client/session.pyc\u001b[0m in \u001b[0;36m_do_call\u001b[0;34m(self, fn, *args)\u001b[0m\n\u001b[1;32m   1325\u001b[0m   \u001b[0;32mdef\u001b[0m \u001b[0m_do_call\u001b[0m\u001b[0;34m(\u001b[0m\u001b[0mself\u001b[0m\u001b[0;34m,\u001b[0m \u001b[0mfn\u001b[0m\u001b[0;34m,\u001b[0m \u001b[0;34m*\u001b[0m\u001b[0margs\u001b[0m\u001b[0;34m)\u001b[0m\u001b[0;34m:\u001b[0m\u001b[0;34m\u001b[0m\u001b[0m\n\u001b[1;32m   1326\u001b[0m     \u001b[0;32mtry\u001b[0m\u001b[0;34m:\u001b[0m\u001b[0;34m\u001b[0m\u001b[0m\n\u001b[0;32m-> 1327\u001b[0;31m       \u001b[0;32mreturn\u001b[0m \u001b[0mfn\u001b[0m\u001b[0;34m(\u001b[0m\u001b[0;34m*\u001b[0m\u001b[0margs\u001b[0m\u001b[0;34m)\u001b[0m\u001b[0;34m\u001b[0m\u001b[0m\n\u001b[0m\u001b[1;32m   1328\u001b[0m     \u001b[0;32mexcept\u001b[0m \u001b[0merrors\u001b[0m\u001b[0;34m.\u001b[0m\u001b[0mOpError\u001b[0m \u001b[0;32mas\u001b[0m \u001b[0me\u001b[0m\u001b[0;34m:\u001b[0m\u001b[0;34m\u001b[0m\u001b[0m\n\u001b[1;32m   1329\u001b[0m       \u001b[0mmessage\u001b[0m \u001b[0;34m=\u001b[0m \u001b[0mcompat\u001b[0m\u001b[0;34m.\u001b[0m\u001b[0mas_text\u001b[0m\u001b[0;34m(\u001b[0m\u001b[0me\u001b[0m\u001b[0;34m.\u001b[0m\u001b[0mmessage\u001b[0m\u001b[0;34m)\u001b[0m\u001b[0;34m\u001b[0m\u001b[0m\n",
      "\u001b[0;32m/Users/saur6410/.virtualenvs/blacksburg/lib/python2.7/site-packages/tensorflow/python/client/session.pyc\u001b[0m in \u001b[0;36m_run_fn\u001b[0;34m(session, feed_dict, fetch_list, target_list, options, run_metadata)\u001b[0m\n\u001b[1;32m   1304\u001b[0m           return tf_session.TF_Run(session, options,\n\u001b[1;32m   1305\u001b[0m                                    \u001b[0mfeed_dict\u001b[0m\u001b[0;34m,\u001b[0m \u001b[0mfetch_list\u001b[0m\u001b[0;34m,\u001b[0m \u001b[0mtarget_list\u001b[0m\u001b[0;34m,\u001b[0m\u001b[0;34m\u001b[0m\u001b[0m\n\u001b[0;32m-> 1306\u001b[0;31m                                    status, run_metadata)\n\u001b[0m\u001b[1;32m   1307\u001b[0m \u001b[0;34m\u001b[0m\u001b[0m\n\u001b[1;32m   1308\u001b[0m     \u001b[0;32mdef\u001b[0m \u001b[0m_prun_fn\u001b[0m\u001b[0;34m(\u001b[0m\u001b[0msession\u001b[0m\u001b[0;34m,\u001b[0m \u001b[0mhandle\u001b[0m\u001b[0;34m,\u001b[0m \u001b[0mfeed_dict\u001b[0m\u001b[0;34m,\u001b[0m \u001b[0mfetch_list\u001b[0m\u001b[0;34m)\u001b[0m\u001b[0;34m:\u001b[0m\u001b[0;34m\u001b[0m\u001b[0m\n",
      "\u001b[0;31mKeyboardInterrupt\u001b[0m: "
     ]
    }
   ],
   "source": [
    "batch_size = 100;\n",
    "n_iterations = 10;\n",
    "\n",
    "#Initialize session\n",
    "with tf.Session() as sess:\n",
    "    sess.run(tf.global_variables_initializer())\n",
    "\n",
    "    for epoch in range(n_iterations):\n",
    "        print \"Epoch:\", epoch\n",
    "        for j in range(len(training_data)/batch_size):\n",
    "            #print \"j:\", j\n",
    "            if(j == 100):\n",
    "                break\n",
    "            startIndex = j*batch_size\n",
    "            endIndex = startIndex + batch_size\n",
    "            batch_x = np.array(training_data[startIndex : endIndex]).reshape((-1,time_steps, word_vector_size))\n",
    "            batch_y = dense_to_one_hot(np.array(training_labels[startIndex : endIndex]),num_classes)\n",
    "            sess.run(train_step, feed_dict={_inputs: batch_x,\n",
    "                                            y: batch_y})\n",
    "        if epoch % 1 == 0:\n",
    "            acc = sess.run(accuracy, feed_dict={_inputs: batch_x, y: batch_y})\n",
    "            loss = sess.run(cross_entropy, feed_dict={_inputs: batch_x, y: batch_y})\n",
    "            _states = np.array(sess.run(states, feed_dict={_inputs: batch_x, y: batch_y}))\n",
    "            _outputs = np.array(sess.run(outputs, feed_dict={_inputs: batch_x, y: batch_y}))\n",
    "      \n",
    "            final_op = _outputs[-1][-1]\n",
    "            print (_states.shape)\n",
    "            print (_states[-1][-1])\n",
    "            print (final_op)\n",
    "            print (final_op.shape)\n",
    "            print (\"Iter \" + str(epoch) + \", Minibatch Loss= \" + \\\n",
    "                    \"{:.6f}\".format(loss) + \", Training Accuracy= \" + \\\n",
    "                    \"{:.5f}\".format(acc))\n",
    "\n",
    "\n",
    "    print (\"Testing Accuracy:\",\n",
    "        sess.run(accuracy, feed_dict={_inputs: test_data, y: dense_to_one_hot(np.array(test_labels), num_classes)}))"
   ]
  },
  {
   "cell_type": "code",
   "execution_count": null,
   "metadata": {
    "collapsed": true
   },
   "outputs": [],
   "source": [
    "weights = {\n",
    "        'linear_layer': tf.Variable(tf.truncated_normal([hidden_layer_size,\n",
    "                                                         num_classes],\n",
    "                                                         mean=0,stddev=.01))\n",
    "}\n",
    "\n",
    "\n",
    "# Extract the last relevant output and use in a linear layer\n",
    "final_output = tf.matmul(states[-1],\n",
    "                         weights[\"linear_layer\"])"
   ]
  }
 ],
 "metadata": {
  "kernelspec": {
   "display_name": "Python 2",
   "language": "python",
   "name": "python2"
  },
  "language_info": {
   "codemirror_mode": {
    "name": "ipython",
    "version": 2
   },
   "file_extension": ".py",
   "mimetype": "text/x-python",
   "name": "python",
   "nbconvert_exporter": "python",
   "pygments_lexer": "ipython2",
   "version": "2.7.10"
  }
 },
 "nbformat": 4,
 "nbformat_minor": 2
}
