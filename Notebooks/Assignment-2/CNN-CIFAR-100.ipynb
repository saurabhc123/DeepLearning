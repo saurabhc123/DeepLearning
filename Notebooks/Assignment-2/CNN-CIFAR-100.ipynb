{
 "cells": [
  {
   "cell_type": "code",
   "execution_count": 1,
   "metadata": {
    "collapsed": true
   },
   "outputs": [],
   "source": [
    "import tensorflow as tf\n",
    "from tensorflow.contrib.layers import fully_connected\n",
    "from tensorflow.examples.tutorials.mnist import input_data\n",
    "import os\n",
    "import numpy as np\n",
    "import matplotlib.pyplot as plt\n",
    "from skimage.transform import resize\n",
    "import ConvHelper\n",
    "import pickle\n",
    "import math as math"
   ]
  },
  {
   "cell_type": "code",
   "execution_count": 14,
   "metadata": {},
   "outputs": [],
   "source": [
    "DATA_PATH = \"cifar-100-python\"\n",
    "STEPS = 50\n",
    "MINIBATCH_SIZE = 100\n",
    "n_classes = 100\n",
    "\n",
    "class CifarLoader(object):\n",
    "    def __init__(self, source_files):\n",
    "        self._source = source_files\n",
    "        self._i = 0\n",
    "        self.images = None\n",
    "        self.labels = None\n",
    "\n",
    "    def load(self):\n",
    "        data = [unpickle(f) for f in self._source]\n",
    "        images = np.vstack([d[\"data\"] for d in data])\n",
    "        n = len(images)\n",
    "        self.images = images.reshape(n, 3, 32, 32).transpose(0, 2, 3, 1)\\\n",
    "                          .astype(float) / 255\n",
    "        self.labels = one_hot(np.hstack([d[\"fine_labels\"] for d in data]), n_classes)\n",
    "        return self\n",
    "\n",
    "    def next_batch(self, batch_size):\n",
    "        x, y = self.images[self._i:self._i+batch_size],self.labels[self._i:self._i+batch_size]\n",
    "        self._i = (self._i + batch_size) % len(self.images)\n",
    "        return x, y\n",
    "\n",
    "class CifarDataManager(object):\n",
    "    def __init__(self):\n",
    "        self.train = CifarLoader([\"train\"]).load()\n",
    "        self.test = CifarLoader([\"test\"]).load()\n",
    "\n",
    "\n",
    "def unpickle(file):\n",
    "    with open(os.path.join(DATA_PATH, file), 'rb') as fo:\n",
    "        dict = pickle.load(fo)\n",
    "    return dict\n",
    "\n",
    "def one_hot(vec, vals=n_classes):\n",
    "    n = len(vec)\n",
    "    out = np.zeros((n, vals))\n",
    "    out[range(n), vec] = 1\n",
    "    return out\n",
    "\n",
    "def display_cifar(images, size):\n",
    "    n = len(images)\n",
    "    plt.figure()\n",
    "    plt.gca().set_axis_off()\n",
    "    im = np.vstack([np.hstack([images[np.random.choice(n)] for i in range(size)])\n",
    "                    for i in range(size)])\n",
    "    plt.imshow(im)\n",
    "    plt.show()\n",
    "    \n",
    "def weight_variable(shape):\n",
    "    initial = tf.truncated_normal(shape, stddev=0.1)\n",
    "    return tf.Variable(initial)\n",
    "\n",
    "def bias_variable(shape):\n",
    "    initial = tf.constant(0.1, shape=shape)\n",
    "    return tf.Variable(initial)\n",
    "\n",
    "def conv2d(x, W):\n",
    "    return tf.nn.conv2d(x, W, strides=[1, 1, 1, 1], padding='SAME')\n",
    "\n",
    "def max_pool_2x2(x):\n",
    "    return tf.nn.max_pool(x, ksize=[1, 2, 2, 1], strides=[1, 2, 2, 1], padding='SAME')\n",
    "\n",
    "def conv_layer(input, shape):\n",
    "    W = weight_variable(shape)\n",
    "    b = bias_variable([shape[3]])\n",
    "    return tf.nn.relu(conv2d(input, W) + b), W\n",
    "\n",
    "def full_layer(input, size):\n",
    "    in_size = int(input.get_shape()[1])\n",
    "    W = weight_variable([in_size, size])\n",
    "    b = bias_variable([size])\n",
    "    return tf.matmul(input, W) + b\n",
    "\n",
    "def display_images(images, size):\n",
    "    n = len(images)\n",
    "    plt.figure()\n",
    "    plt.gca().set_axis_off()\n",
    "    im = np.hstack([images[i] for i in range(size)])\n",
    "    plt.title('True labels in images')\n",
    "    plt.imshow(im)\n",
    "    plt.show()\n",
    "    \n",
    "def display_custom1(custom_item):\n",
    "    n_items = custom_item.shape[3]\n",
    "    for i in range(n_items):\n",
    "        plt.imshow(cv1[0,:,:,i],cmap = \"gray\")\n",
    "        plt.show()\n",
    "\n",
    "def display_filters(custom_item):\n",
    "    print \"Filters Input :\", custom_item.shape\n",
    "    plotNNFilter(custom_item)\n",
    "    \n",
    "\n",
    "        \n",
    "def plotNNFilter(units):\n",
    "    filters = units.shape[3]\n",
    "    \n",
    "    n_columns = 8\n",
    "    n_rows = math.ceil(filters / n_columns) + 1\n",
    "    for i in range(filters):\n",
    "        plt.figure(i, figsize=(20,20))\n",
    "        plt.subplot(n_rows, n_columns, i+1)\n",
    "        plt.title('Filter ' + str(i))\n",
    "        plt.imshow(units[:,:,1,i], interpolation=\"nearest\", cmap=\"gray\")\n",
    "\n",
    "\n",
    "    \n",
    "def display_filters(custom_item):\n",
    "    #print \"Filter Input :\", custom_item.shape\n",
    "    plotNNFilter(custom_item)\n",
    "    \n",
    "def plotNNFilter(units):\n",
    "    filters = units.shape[3]\n",
    "    fig = plt.figure(100, figsize=(20,20))\n",
    "    n_columns = 6\n",
    "    n_rows = math.ceil(filters / n_columns) + 1\n",
    "    plt.axis('off')\n",
    "    ax = fig.gca()\n",
    "    ax.grid(False)\n",
    "    for i in range(filters):\n",
    "        #print \"Unit shape :\",units[:,:,:,i].shape\n",
    "        disp_img = units[:,:,:,i].reshape((units.shape[0],units.shape[1],units.shape[2]))\n",
    "        #print \"Disp_img shape :\",disp_img.shape\n",
    "        plt.subplot(n_rows, n_columns, i+1)\n",
    "        plt.title('L-1 Filter ' + str(i))\n",
    "        plt.imshow(disp_img, interpolation=\"nearest\", cmap=\"gray\")\n",
    "        \n",
    "def display_filters_with_depth(custom_item):\n",
    "    print \"Filter Input :\", custom_item.shape\n",
    "    plotNNFilter_with_depth(custom_item)\n",
    "    \n",
    "def plotNNFilter_with_depth(units):\n",
    "    filters = units.shape[3]\n",
    "    plt.figure(200, figsize=(20,20))\n",
    "    n_columns = 6\n",
    "    n_rows = math.ceil(filters / n_columns) + 1\n",
    "    plt.axis('off')\n",
    "    for i in range(filters):\n",
    "        depth = units.shape[2]\n",
    "        for j in range(depth):\n",
    "            #print \"Unit shape :\",units[:,:,:,i].shape\n",
    "            disp_img = units[:,:,j,i].reshape((units.shape[0],units.shape[1]))\n",
    "            #print \"Disp_img shape :\",disp_img.shape\n",
    "            plt.subplot(n_rows, n_columns, i+1)\n",
    "            plt.title('L-2 Filter ' + str(i))\n",
    "            plt.imshow(disp_img, interpolation=\"nearest\", cmap=\"gray\")\n",
    "\n",
    "def display_feature_map(custom_item, i):\n",
    "    #print \"Feature Map Input :\", custom_item.shape\n",
    "    plotNNFeatureMap(custom_item, i)\n",
    "        \n",
    "def plotNNFeatureMap(units, image_index):\n",
    "    filters = units.shape[3]\n",
    "    plt.figure(image_index, figsize=(20,20))\n",
    "    n_columns = 6\n",
    "    n_rows = math.ceil(filters / n_columns) + 1\n",
    "    for i in range(filters):\n",
    "        plt.subplot(n_rows, n_columns, i+1)\n",
    "        plt.title('Feature Map ' + str(i))\n",
    "        plt.imshow(units[image_index,:,:,i], interpolation=\"nearest\", cmap=\"gray\")"
   ]
  },
  {
   "cell_type": "code",
   "execution_count": null,
   "metadata": {
    "collapsed": true
   },
   "outputs": [],
   "source": []
  },
  {
   "cell_type": "code",
   "execution_count": null,
   "metadata": {
    "collapsed": true
   },
   "outputs": [],
   "source": []
  },
  {
   "cell_type": "code",
   "execution_count": null,
   "metadata": {
    "collapsed": true
   },
   "outputs": [],
   "source": []
  },
  {
   "cell_type": "code",
   "execution_count": null,
   "metadata": {
    "collapsed": true
   },
   "outputs": [],
   "source": []
  },
  {
   "cell_type": "code",
   "execution_count": null,
   "metadata": {
    "collapsed": true
   },
   "outputs": [],
   "source": []
  },
  {
   "cell_type": "code",
   "execution_count": null,
   "metadata": {
    "collapsed": true
   },
   "outputs": [],
   "source": []
  },
  {
   "cell_type": "code",
   "execution_count": 3,
   "metadata": {
    "collapsed": true
   },
   "outputs": [],
   "source": [
    "num_of_samples_to_test = 10\n",
    "\n",
    "def test(sess):\n",
    "    print \"Starting Test\"\n",
    "    X = cifar.test.images.reshape(num_of_samples_to_test, 1000, 32, 32, 3)\n",
    "    Y = cifar.test.labels.reshape(num_of_samples_to_test, 1000, n_classes)\n",
    "    acc = np.mean([sess.run(accuracy, feed_dict={x: X[i], y_: Y[i],\n",
    "                                                 keep_prob: 1.0})\n",
    "                   for i in range(num_of_samples_to_test)])\n",
    "    print \"Accuracy: {:.4}%\".format(acc * 100)"
   ]
  },
  {
   "cell_type": "code",
   "execution_count": 4,
   "metadata": {},
   "outputs": [],
   "source": [
    "cifar = CifarDataManager()\n",
    "\n",
    "x = tf.placeholder(tf.float32, shape=[None, 32, 32, 3])\n",
    "y_ = tf.placeholder(tf.float32, shape=[None, n_classes])\n",
    "keep_prob = tf.placeholder(tf.float32)\n",
    "\n",
    "\n",
    "x = tf.placeholder(tf.float32, shape=[None, 32, 32, 3])\n",
    "y_ = tf.placeholder(tf.float32, shape=[None, n_classes])\n",
    "\n",
    "shape1=[5, 5, 3, 32]\n",
    "W1 = weight_variable(shape1)\n",
    "conv1 = tf.nn.conv2d(x, W1, strides=[1, 1, 1, 1], padding='SAME')\n",
    "conv1_pool = ConvHelper.max_pool_2x2(conv1)\n",
    "\n",
    "shape2 = [5, 5, 32, 64]\n",
    "W2 = weight_variable(shape2)\n",
    "conv2 = tf.nn.conv2d(conv1_pool, W2, strides=[1, 1, 1, 1], padding='SAME')\n",
    "conv2_pool = ConvHelper.max_pool_2x2(conv2)\n",
    "conv2_flat = tf.reshape(conv2_pool, [-1, 8 * 8 * 64])\n",
    "\n",
    "full_1 = tf.nn.elu(ConvHelper.full_layer(conv2_flat, 1024))\n",
    "full1_drop = tf.nn.dropout(full_1, keep_prob=keep_prob)\n",
    "\n",
    "y_conv = ConvHelper.full_layer(full1_drop, n_classes)"
   ]
  },
  {
   "cell_type": "code",
   "execution_count": 5,
   "metadata": {
    "collapsed": true
   },
   "outputs": [],
   "source": [
    "cross_entropy = tf.reduce_mean(tf.nn.softmax_cross_entropy_with_logits(logits= y_conv,\n",
    "                                                               labels=y_))\n",
    "loss = tf.reduce_mean(cross_entropy)\n",
    "train_step = tf.train.AdamOptimizer(1e-5).minimize(loss)\n",
    "\n",
    "correct_prediction = tf.equal(tf.argmax(y_conv, 1), tf.argmax(y_, 1))\n",
    "accuracy = tf.reduce_mean(tf.cast(correct_prediction, tf.float32))"
   ]
  },
  {
   "cell_type": "code",
   "execution_count": null,
   "metadata": {},
   "outputs": [
    {
     "name": "stdout",
     "output_type": "stream",
     "text": [
      "Starting\n",
      "Starting epoch 0\n",
      "Iter 0, Minibatch Loss= 34.919106\n",
      "Filter Input : (5, 5, 32, 64)\n"
     ]
    }
   ],
   "source": [
    "STEPS = 1 #20\n",
    "MINIBATCH_SIZE = 10 #100\n",
    "\n",
    "print \"Starting\"\n",
    "with tf.Session() as sess:\n",
    "    sess.run(tf.global_variables_initializer())\n",
    "\n",
    "    for epoch in range(STEPS):\n",
    "        print \"Starting epoch\", epoch\n",
    "        for batch_count in range(5):\n",
    "            batch = cifar.train.next_batch(MINIBATCH_SIZE)\n",
    "            sess.run(train_step, feed_dict={x: batch[0], y_: batch[1],\n",
    "                                        keep_prob: 1.0})\n",
    "        if(epoch%1 == 0):\n",
    "            loss = sess.run(cross_entropy, feed_dict={x: batch[0], y_: batch[1], keep_prob: 1.0})\n",
    "            print (\"Iter \" + str(epoch) + \", Minibatch Loss= \" + \\\n",
    "                    \"{:.6f}\".format(loss) )\n",
    "            #test(sess)\n",
    "\n",
    "    #test(sess)\n",
    "    render_batch = cifar.test.next_batch(9)\n",
    "    images = render_batch[0].reshape(9,32,32,3)\n",
    "    filters1 = sess.run(W1,feed_dict = {x: render_batch[0]})\n",
    "    display_filters(np.array(filters1))\n",
    "    cv1 = sess.run(conv1,feed_dict = {x: render_batch[0]})\n",
    "    for i in range(np.array(cv1).shape[0]):\n",
    "        display_feature_map(np.array(cv1),i)\n",
    "    filters2 = sess.run(W2,feed_dict = {x: render_batch[0]})\n",
    "    display_filters_with_depth(np.array(filters2))\n",
    "    cv2 = sess.run(conv2,feed_dict = {x: render_batch[0]})\n",
    "    for i in range(np.array(cv2).shape[0]):\n",
    "        display_feature_map(np.array(cv2),i)\n",
    "    \n",
    "    labs = sess.run(tf.argmax(y_conv, 1),feed_dict = {x: render_batch[0], y_: render_batch[1],keep_prob: 1.0})\n",
    "    print \"Predicted Labels:\", labs\n",
    "    display_images(images,9)\n",
    "    #print \"True Labels:\", render_batch[1]\n"
   ]
  },
  {
   "cell_type": "code",
   "execution_count": null,
   "metadata": {
    "collapsed": true
   },
   "outputs": [],
   "source": []
  },
  {
   "cell_type": "code",
   "execution_count": null,
   "metadata": {
    "collapsed": true
   },
   "outputs": [],
   "source": []
  },
  {
   "cell_type": "code",
   "execution_count": null,
   "metadata": {
    "collapsed": true
   },
   "outputs": [],
   "source": []
  },
  {
   "cell_type": "code",
   "execution_count": null,
   "metadata": {
    "collapsed": true
   },
   "outputs": [],
   "source": []
  },
  {
   "cell_type": "code",
   "execution_count": null,
   "metadata": {
    "collapsed": true
   },
   "outputs": [],
   "source": []
  },
  {
   "cell_type": "code",
   "execution_count": null,
   "metadata": {
    "collapsed": true
   },
   "outputs": [],
   "source": []
  },
  {
   "cell_type": "code",
   "execution_count": null,
   "metadata": {
    "collapsed": true
   },
   "outputs": [],
   "source": []
  },
  {
   "cell_type": "code",
   "execution_count": null,
   "metadata": {
    "collapsed": true
   },
   "outputs": [],
   "source": []
  },
  {
   "cell_type": "code",
   "execution_count": null,
   "metadata": {
    "collapsed": true
   },
   "outputs": [],
   "source": []
  },
  {
   "cell_type": "code",
   "execution_count": null,
   "metadata": {
    "collapsed": true
   },
   "outputs": [],
   "source": []
  },
  {
   "cell_type": "code",
   "execution_count": null,
   "metadata": {
    "collapsed": true
   },
   "outputs": [],
   "source": []
  },
  {
   "cell_type": "code",
   "execution_count": null,
   "metadata": {
    "collapsed": true
   },
   "outputs": [],
   "source": []
  }
 ],
 "metadata": {
  "kernelspec": {
   "display_name": "Python 2",
   "language": "python",
   "name": "python2"
  },
  "language_info": {
   "codemirror_mode": {
    "name": "ipython",
    "version": 2
   },
   "file_extension": ".py",
   "mimetype": "text/x-python",
   "name": "python",
   "nbconvert_exporter": "python",
   "pygments_lexer": "ipython2",
   "version": "2.7.10"
  }
 },
 "nbformat": 4,
 "nbformat_minor": 2
}
