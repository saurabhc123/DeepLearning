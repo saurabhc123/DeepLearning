{
 "cells": [
  {
   "cell_type": "code",
   "execution_count": 1,
   "metadata": {},
   "outputs": [
    {
     "name": "stdout",
     "output_type": "stream",
     "text": [
      "[['0.68491' '0.32385' '-0.11592' ..., '0.17874' '-0.1693' '0.062375']\n",
      " ['0.96193' '0.012516' '0.21733' ..., '0.14032' '-0.38468' '-0.38712']\n",
      " ['0.6008' '0.18044' '0.078339' ..., '-0.016404' '-0.65372' '-0.38255']\n",
      " ..., \n",
      " ['0.88387' '-0.14199' '0.13566' ..., '0.52711' '-0.20148' '0.0095952']\n",
      " ['-0.0010919' '0.33324' '0.35743' ..., '-0.45697' '-0.048969' '1.1316']\n",
      " ['-0.55114' '-0.16296' '-0.95494' ..., '-1.0346' '-0.25143' '1.4836']]\n"
     ]
    }
   ],
   "source": [
    "import tensorflow as tf\n",
    "from tensorflow.examples.tutorials.mnist import input_data\n",
    "import csv\n",
    "import numpy as np\n",
    "\n",
    "DATA_DIR = 'MNIST'\n",
    "sentiment_data = 'sentiment-data'\n",
    "\n",
    "\n",
    "def getWordVectorDict():\n",
    "    reader = csv.reader(open(sentiment_data +'/word-vectors-refine.txt'))\n",
    "\n",
    "    word_vector_dict = {}\n",
    "    for row in reader:\n",
    "        key = row[0]\n",
    "        if key in word_vector_dict:\n",
    "            # implement your duplicate row handling here\n",
    "            pass\n",
    "        word_vector_dict[key] = np.array(row[1:])\n",
    "    return word_vector_dict\n",
    "\n",
    "def getPaddedSentenceMatrix(sentenceMatrix):\n",
    "    wordCount = 100\n",
    "    return np.vstack((sentenceMatrix, np.zeros((wordCount - np.shape(sentenceMatrix)[0],np.shape(sentenceMatrix)[1]), dtype=np.float32)))\n",
    "\n",
    "def getVectorForSentence(sentence, word_vec_dict):\n",
    "    sentence_matrix = []\n",
    "    for word in sentence.split(' '):\n",
    "        word_vec = word_vec_dict[word]\n",
    "        if(len(sentence_matrix) == 0):\n",
    "            sentence_matrix = word_vec\n",
    "        else:\n",
    "            sentence_matrix = np.vstack((sentence_matrix,word_vec))\n",
    "    return getPaddedSentenceMatrix(sentence_matrix)\n",
    "\n",
    "def getData(fileName):\n",
    "    reader = csv.reader(open(sentiment_data +'/' + fileName))\n",
    "    trainingData = []\n",
    "    for row in reader:\n",
    "        data = {}\n",
    "        data['label'] =  1 if row[0] == 'postive' else 0\n",
    "        data['sentence'] = row[1:]\n",
    "        trainingData.append(data)\n",
    "    return trainingData\n",
    "\n",
    "word_vec_dict = getWordVectorDict()\n",
    "\n",
    "\n",
    "def transform(row):\n",
    "    return row['label'], getVectorForSentence(row['sentence'][0], word_vec_dict)\n",
    "\n",
    "\n",
    "word_vector_size = 50;\n",
    "time_steps = 100;\n",
    "num_classes = 2\n",
    "batch_size = 1000;\n",
    "n_iterations = 10;\n",
    "hidden_layer_size = 64\n",
    "\n",
    "training_data = getData('train.csv')\n",
    "training_rows  = map(lambda row: transform(row), training_data)\n",
    "training_data = map(lambda row: row[1], training_rows)\n",
    "training_labels = map(lambda row: row[0], training_rows)\n",
    "#test_data = map(lambda row: transform(row), getData('test.csv'))\n",
    "test_data = getData('test.csv')\n",
    "test_rows  = map(lambda row: transform(row), test_data)\n",
    "test_data = map(lambda row: row[1], test_rows)\n",
    "test_labels = map(lambda row: row[0], test_rows)\n",
    "print training_data[0]"
   ]
  },
  {
   "cell_type": "code",
   "execution_count": 2,
   "metadata": {},
   "outputs": [],
   "source": [
    "\n",
    "#Setting up the input and labels placeholders\n",
    "_inputs = tf.placeholder(tf.float32, shape=[None, time_steps,\n",
    "                                            word_vector_size])\n",
    "y = tf.placeholder(tf.int32, shape=[None, num_classes])\n",
    "y_one_hot = tf.one_hot( y , num_classes )\n",
    "\n",
    "# TensorFlow built-in functions\n",
    "# Creating the RNN cell and creating the outputs\n",
    "with tf.variable_scope(\"gru\"):\n",
    "    gru_cell = tf.contrib.rnn.GRUCell(hidden_layer_size)\n",
    "    outputs, states = tf.nn.dynamic_rnn(gru_cell,_inputs, dtype=tf.float32)\n",
    "    final_output = tf.layers.dense(states, num_classes)\n",
    "\n",
    "\n",
    "\n",
    "softmax = tf.nn.softmax_cross_entropy_with_logits(logits = final_output,\n",
    "                                                  labels = y)                         \n",
    "cross_entropy = tf.reduce_mean(softmax)\n",
    "optimizer = tf.train.RMSPropOptimizer(0.001, 0.9)\n",
    "gvs = optimizer.compute_gradients(cross_entropy)\n",
    "capped_gvs = [(tf.clip_by_value(grad, -1., 1.), var) for grad, var in gvs]\n",
    "train_step = optimizer.apply_gradients(capped_gvs)\n",
    "correct_prediction = tf.equal(tf.argmax(y,1),\n",
    "                              tf.argmax(final_output,1))\n",
    "accuracy = (tf.reduce_mean(tf.cast(correct_prediction,\n",
    "                                   tf.float32)))*100\n",
    "\n",
    "\n",
    "\n",
    "\n"
   ]
  },
  {
   "cell_type": "code",
   "execution_count": null,
   "metadata": {},
   "outputs": [
    {
     "name": "stdout",
     "output_type": "stream",
     "text": [
      "(100, 2)\n"
     ]
    }
   ],
   "source": [
    "def dense_to_one_hot(labels_dense, num_classes=10):\n",
    "  \"\"\"Convert class labels from scalars to one-hot vectors.\"\"\"\n",
    "  num_labels = labels_dense.shape[0]\n",
    "  index_offset = np.arange(num_labels) * num_classes\n",
    "  labels_one_hot = np.zeros((num_labels, num_classes))\n",
    "  labels_one_hot.flat[index_offset + labels_dense.ravel()] = 1\n",
    "  return labels_one_hot\n",
    "\n",
    "label_batch = np.array(training_labels[100 : 200])\n",
    "l = np.array(dense_to_one_hot(label_batch,2)).reshape(len(label_batch), num_classes)\n",
    "\n",
    "print l.shape"
   ]
  },
  {
   "cell_type": "code",
   "execution_count": null,
   "metadata": {
    "collapsed": true
   },
   "outputs": [],
   "source": []
  },
  {
   "cell_type": "code",
   "execution_count": null,
   "metadata": {},
   "outputs": [
    {
     "name": "stdout",
     "output_type": "stream",
     "text": [
      "Epoch: 0\n",
      "Iter 0, Minibatch Loss= 0.697023, Training Accuracy= 50.00000\n"
     ]
    }
   ],
   "source": [
    "batch_size = 100;\n",
    "n_iterations = 20;\n",
    "\n",
    "#Initialize session\n",
    "with tf.Session() as sess:\n",
    "    sess.run(tf.global_variables_initializer())\n",
    "\n",
    "    for epoch in range(n_iterations):\n",
    "        print \"Epoch:\", epoch\n",
    "        for j in range(len(training_data)/batch_size):\n",
    "            #print \"j:\", j\n",
    "            if(j == 100):\n",
    "                break\n",
    "            startIndex = j*batch_size\n",
    "            endIndex = startIndex + batch_size\n",
    "            batch_x = np.array(training_data[startIndex : endIndex]).reshape((-1,time_steps, word_vector_size))\n",
    "            batch_y = dense_to_one_hot(np.array(training_labels[startIndex : endIndex]),num_classes)\n",
    "            sess.run(train_step, feed_dict={_inputs: batch_x,\n",
    "                                            y: batch_y})\n",
    "        if epoch % 1 == 0:\n",
    "            acc = sess.run(accuracy, feed_dict={_inputs: batch_x, y: batch_y})\n",
    "            loss = sess.run(cross_entropy, feed_dict={_inputs: batch_x, y: batch_y})\n",
    "            print (\"Iter \" + str(epoch) + \", Minibatch Loss= \" + \\\n",
    "                    \"{:.6f}\".format(loss) + \", Training Accuracy= \" + \\\n",
    "                    \"{:.5f}\".format(acc))\n",
    "            \n",
    "            _states = np.array(sess.run(states, feed_dict={_inputs: batch_x, y: batch_y}))\n",
    "            _outputs = np.array(sess.run(outputs, feed_dict={_inputs: batch_x, y: batch_y}))\n",
    "      \n",
    "            final_op = _outputs[-1][-1]\n",
    "            #final_op = final_op[-1]\n",
    "            print (_states.shape)\n",
    "            print (_outputs.shape)\n",
    "            print (_states[-1])\n",
    "            print (final_op)\n",
    "            print (final_op.shape)\n",
    "\n",
    "\n",
    "    print (\"Testing Accuracy:\",\n",
    "        sess.run(accuracy, feed_dict={_inputs: test_data, y: dense_to_one_hot(np.array(test_labels), num_classes)}))"
   ]
  },
  {
   "cell_type": "markdown",
   "metadata": {
    "collapsed": true
   },
   "source": [
    "The accuracies for the RNN, LSTM and GRU are 70.7%, 78.08% and 77.26% respectively."
   ]
  },
  {
   "cell_type": "code",
   "execution_count": null,
   "metadata": {
    "collapsed": true
   },
   "outputs": [],
   "source": [
    "weights = {\n",
    "        'linear_layer': tf.Variable(tf.truncated_normal([hidden_layer_size,\n",
    "                                                         num_classes],\n",
    "                                                         mean=0,stddev=.01))\n",
    "}\n",
    "\n",
    "\n",
    "# Extract the last relevant output and use in a linear layer\n",
    "final_output = tf.matmul(states,\n",
    "                         weights[\"linear_layer\"])"
   ]
  }
 ],
 "metadata": {
  "kernelspec": {
   "display_name": "Python 2",
   "language": "python",
   "name": "python2"
  },
  "language_info": {
   "codemirror_mode": {
    "name": "ipython",
    "version": 2
   },
   "file_extension": ".py",
   "mimetype": "text/x-python",
   "name": "python",
   "nbconvert_exporter": "python",
   "pygments_lexer": "ipython2",
   "version": "2.7.10"
  }
 },
 "nbformat": 4,
 "nbformat_minor": 2
}
