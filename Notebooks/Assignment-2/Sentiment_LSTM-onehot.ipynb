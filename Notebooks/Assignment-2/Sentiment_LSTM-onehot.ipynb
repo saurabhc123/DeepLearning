{
 "cells": [
  {
   "cell_type": "code",
   "execution_count": 1,
   "metadata": {},
   "outputs": [
    {
     "name": "stdout",
     "output_type": "stream",
     "text": [
      "[['0.68491' '0.32385' '-0.11592' ..., '0.17874' '-0.1693' '0.062375']\n",
      " ['0.96193' '0.012516' '0.21733' ..., '0.14032' '-0.38468' '-0.38712']\n",
      " ['0.6008' '0.18044' '0.078339' ..., '-0.016404' '-0.65372' '-0.38255']\n",
      " ..., \n",
      " ['0.88387' '-0.14199' '0.13566' ..., '0.52711' '-0.20148' '0.0095952']\n",
      " ['-0.0010919' '0.33324' '0.35743' ..., '-0.45697' '-0.048969' '1.1316']\n",
      " ['-0.55114' '-0.16296' '-0.95494' ..., '-1.0346' '-0.25143' '1.4836']]\n"
     ]
    }
   ],
   "source": [
    "import tensorflow as tf\n",
    "from tensorflow.examples.tutorials.mnist import input_data\n",
    "import csv\n",
    "import numpy as np\n",
    "\n",
    "DATA_DIR = 'MNIST'\n",
    "sentiment_data = 'sentiment-data'\n",
    "\n",
    "\n",
    "def getWordVectorDict():\n",
    "    reader = csv.reader(open(sentiment_data +'/word-vectors-refine.txt'))\n",
    "\n",
    "    word_vector_dict = {}\n",
    "    for row in reader:\n",
    "        key = row[0]\n",
    "        if key in word_vector_dict:\n",
    "            # implement your duplicate row handling here\n",
    "            pass\n",
    "        word_vector_dict[key] = np.array(row[1:])\n",
    "    return word_vector_dict\n",
    "\n",
    "def getPaddedSentenceMatrix(sentenceMatrix):\n",
    "    wordCount = 100\n",
    "    return np.vstack((sentenceMatrix, np.zeros((wordCount - np.shape(sentenceMatrix)[0],np.shape(sentenceMatrix)[1]), dtype=np.float32)))\n",
    "\n",
    "def getVectorForSentence(sentence, word_vec_dict):\n",
    "    sentence_matrix = []\n",
    "    for word in sentence.split(' '):\n",
    "        word_vec = word_vec_dict[word]\n",
    "        if(len(sentence_matrix) == 0):\n",
    "            sentence_matrix = word_vec\n",
    "        else:\n",
    "            sentence_matrix = np.vstack((sentence_matrix,word_vec))\n",
    "    return getPaddedSentenceMatrix(sentence_matrix)\n",
    "\n",
    "def getData(fileName):\n",
    "    reader = csv.reader(open(sentiment_data +'/' + fileName))\n",
    "    trainingData = []\n",
    "    for row in reader:\n",
    "        data = {}\n",
    "        data['label'] =  1 if row[0] == 'postive' else 0\n",
    "        data['sentence'] = row[1:]\n",
    "        trainingData.append(data)\n",
    "    return trainingData\n",
    "\n",
    "word_vec_dict = getWordVectorDict()\n",
    "\n",
    "\n",
    "def transform(row):\n",
    "    return row['label'], getVectorForSentence(row['sentence'][0], word_vec_dict)\n",
    "\n",
    "\n",
    "word_vector_size = 50;\n",
    "time_steps = 100;\n",
    "num_classes = 2\n",
    "batch_size = 1000;\n",
    "n_iterations = 10;\n",
    "hidden_layer_size = 50\n",
    "\n",
    "training_data = getData('train.csv')\n",
    "training_rows  = map(lambda row: transform(row), training_data)\n",
    "training_data = map(lambda row: row[1], training_rows)\n",
    "training_labels = map(lambda row: row[0], training_rows)\n",
    "#test_data = map(lambda row: transform(row), getData('test.csv'))\n",
    "test_data = getData('test.csv')\n",
    "test_rows  = map(lambda row: transform(row), test_data)\n",
    "test_data = map(lambda row: row[1], test_rows)\n",
    "test_labels = map(lambda row: row[0], test_rows)\n",
    "print training_data[0]"
   ]
  },
  {
   "cell_type": "code",
   "execution_count": 2,
   "metadata": {},
   "outputs": [],
   "source": [
    "\n",
    "#Setting up the input and labels placeholders\n",
    "_inputs = tf.placeholder(tf.float32, shape=[None, time_steps,\n",
    "                                            word_vector_size])\n",
    "y = tf.placeholder(tf.int32, shape=[None, num_classes])\n",
    "y_one_hot = tf.one_hot( y , num_classes )\n",
    "\n",
    "# TensorFlow built-in functions\n",
    "# Creating the RNN cell and creating the outputs\n",
    "rnn_cell = tf.contrib.rnn.BasicRNNCell(hidden_layer_size, activation= tf.tanh)\n",
    "outputs, states = tf.nn.dynamic_rnn(rnn_cell, _inputs, dtype=tf.float32)\n",
    "\n",
    "#Create the network\n",
    "final_output = tf.layers.dense(states, num_classes)\n",
    "softmax = tf.nn.softmax_cross_entropy_with_logits(logits=final_output,labels=y_one_hot)\n",
    "\n",
    "#Cross entropy and the optimizer + minimizer\n",
    "cross_entropy = tf.reduce_mean(softmax)\n",
    "train_step = tf.train.RMSPropOptimizer(0.1, 0.9, 0.01).minimize(cross_entropy)\n",
    "#train_step = tf.train.AdamOptimizer(0.1).minimize(cross_entropy)\n",
    "\n",
    "#Metrics\n",
    "correct_prediction = tf.equal(tf.argmax(y_one_hot,1), tf.argmax(final_output,1))\n",
    "accuracy = (tf.reduce_mean(tf.cast(correct_prediction, tf.float32)))*100\n",
    "\n",
    "\n",
    "\n",
    "\n"
   ]
  },
  {
   "cell_type": "code",
   "execution_count": 10,
   "metadata": {},
   "outputs": [
    {
     "name": "stdout",
     "output_type": "stream",
     "text": [
      "(100, 2)\n"
     ]
    }
   ],
   "source": [
    "def dense_to_one_hot(labels_dense, num_classes=10):\n",
    "  \"\"\"Convert class labels from scalars to one-hot vectors.\"\"\"\n",
    "  num_labels = labels_dense.shape[0]\n",
    "  index_offset = np.arange(num_labels) * num_classes\n",
    "  labels_one_hot = np.zeros((num_labels, num_classes))\n",
    "  labels_one_hot.flat[index_offset + labels_dense.ravel()] = 1\n",
    "  return labels_one_hot\n",
    "\n",
    "label_batch = np.array(training_labels[100 : 200])\n",
    "l = np.array(dense_to_one_hot(label_batch,2)).reshape(len(label_batch), num_classes)\n",
    "\n",
    "print l.shape"
   ]
  },
  {
   "cell_type": "code",
   "execution_count": null,
   "metadata": {},
   "outputs": [],
   "source": []
  },
  {
   "cell_type": "code",
   "execution_count": 11,
   "metadata": {},
   "outputs": [
    {
     "name": "stdout",
     "output_type": "stream",
     "text": [
      "Epoch: 0\n",
      "1000\n",
      "X: 1000\n",
      "Y: 1000\n"
     ]
    },
    {
     "ename": "InvalidArgumentError",
     "evalue": "logits and labels must be same size: logits_size=[1000,2] labels_size=[2000,2]\n\t [[Node: SoftmaxCrossEntropyWithLogits = SoftmaxCrossEntropyWithLogits[T=DT_FLOAT, _device=\"/job:localhost/replica:0/task:0/cpu:0\"](Reshape, Reshape_1)]]\n\nCaused by op u'SoftmaxCrossEntropyWithLogits', defined at:\n  File \"/System/Library/Frameworks/Python.framework/Versions/2.7/lib/python2.7/runpy.py\", line 162, in _run_module_as_main\n    \"__main__\", fname, loader, pkg_name)\n  File \"/System/Library/Frameworks/Python.framework/Versions/2.7/lib/python2.7/runpy.py\", line 72, in _run_code\n    exec code in run_globals\n  File \"/Users/saur6410/.virtualenvs/blacksburg/lib/python2.7/site-packages/ipykernel_launcher.py\", line 16, in <module>\n    app.launch_new_instance()\n  File \"/Users/saur6410/.virtualenvs/blacksburg/lib/python2.7/site-packages/traitlets/config/application.py\", line 658, in launch_instance\n    app.start()\n  File \"/Users/saur6410/.virtualenvs/blacksburg/lib/python2.7/site-packages/ipykernel/kernelapp.py\", line 477, in start\n    ioloop.IOLoop.instance().start()\n  File \"/Users/saur6410/.virtualenvs/blacksburg/lib/python2.7/site-packages/zmq/eventloop/ioloop.py\", line 177, in start\n    super(ZMQIOLoop, self).start()\n  File \"/Users/saur6410/.virtualenvs/blacksburg/lib/python2.7/site-packages/tornado/ioloop.py\", line 888, in start\n    handler_func(fd_obj, events)\n  File \"/Users/saur6410/.virtualenvs/blacksburg/lib/python2.7/site-packages/tornado/stack_context.py\", line 277, in null_wrapper\n    return fn(*args, **kwargs)\n  File \"/Users/saur6410/.virtualenvs/blacksburg/lib/python2.7/site-packages/zmq/eventloop/zmqstream.py\", line 440, in _handle_events\n    self._handle_recv()\n  File \"/Users/saur6410/.virtualenvs/blacksburg/lib/python2.7/site-packages/zmq/eventloop/zmqstream.py\", line 472, in _handle_recv\n    self._run_callback(callback, msg)\n  File \"/Users/saur6410/.virtualenvs/blacksburg/lib/python2.7/site-packages/zmq/eventloop/zmqstream.py\", line 414, in _run_callback\n    callback(*args, **kwargs)\n  File \"/Users/saur6410/.virtualenvs/blacksburg/lib/python2.7/site-packages/tornado/stack_context.py\", line 277, in null_wrapper\n    return fn(*args, **kwargs)\n  File \"/Users/saur6410/.virtualenvs/blacksburg/lib/python2.7/site-packages/ipykernel/kernelbase.py\", line 283, in dispatcher\n    return self.dispatch_shell(stream, msg)\n  File \"/Users/saur6410/.virtualenvs/blacksburg/lib/python2.7/site-packages/ipykernel/kernelbase.py\", line 235, in dispatch_shell\n    handler(stream, idents, msg)\n  File \"/Users/saur6410/.virtualenvs/blacksburg/lib/python2.7/site-packages/ipykernel/kernelbase.py\", line 399, in execute_request\n    user_expressions, allow_stdin)\n  File \"/Users/saur6410/.virtualenvs/blacksburg/lib/python2.7/site-packages/ipykernel/ipkernel.py\", line 196, in do_execute\n    res = shell.run_cell(code, store_history=store_history, silent=silent)\n  File \"/Users/saur6410/.virtualenvs/blacksburg/lib/python2.7/site-packages/ipykernel/zmqshell.py\", line 533, in run_cell\n    return super(ZMQInteractiveShell, self).run_cell(*args, **kwargs)\n  File \"/Users/saur6410/.virtualenvs/blacksburg/lib/python2.7/site-packages/IPython/core/interactiveshell.py\", line 2718, in run_cell\n    interactivity=interactivity, compiler=compiler, result=result)\n  File \"/Users/saur6410/.virtualenvs/blacksburg/lib/python2.7/site-packages/IPython/core/interactiveshell.py\", line 2822, in run_ast_nodes\n    if self.run_code(code, result):\n  File \"/Users/saur6410/.virtualenvs/blacksburg/lib/python2.7/site-packages/IPython/core/interactiveshell.py\", line 2882, in run_code\n    exec(code_obj, self.user_global_ns, self.user_ns)\n  File \"<ipython-input-2-dfe715a6edde>\", line 15, in <module>\n    softmax = tf.nn.softmax_cross_entropy_with_logits(logits=final_output,labels=y_one_hot)\n  File \"/Users/saur6410/.virtualenvs/blacksburg/lib/python2.7/site-packages/tensorflow/python/ops/nn_ops.py\", line 1597, in softmax_cross_entropy_with_logits\n    precise_logits, labels, name=name)\n  File \"/Users/saur6410/.virtualenvs/blacksburg/lib/python2.7/site-packages/tensorflow/python/ops/gen_nn_ops.py\", line 2385, in _softmax_cross_entropy_with_logits\n    features=features, labels=labels, name=name)\n  File \"/Users/saur6410/.virtualenvs/blacksburg/lib/python2.7/site-packages/tensorflow/python/framework/op_def_library.py\", line 767, in apply_op\n    op_def=op_def)\n  File \"/Users/saur6410/.virtualenvs/blacksburg/lib/python2.7/site-packages/tensorflow/python/framework/ops.py\", line 2630, in create_op\n    original_op=self._default_original_op, op_def=op_def)\n  File \"/Users/saur6410/.virtualenvs/blacksburg/lib/python2.7/site-packages/tensorflow/python/framework/ops.py\", line 1204, in __init__\n    self._traceback = self._graph._extract_stack()  # pylint: disable=protected-access\n\nInvalidArgumentError (see above for traceback): logits and labels must be same size: logits_size=[1000,2] labels_size=[2000,2]\n\t [[Node: SoftmaxCrossEntropyWithLogits = SoftmaxCrossEntropyWithLogits[T=DT_FLOAT, _device=\"/job:localhost/replica:0/task:0/cpu:0\"](Reshape, Reshape_1)]]\n",
     "output_type": "error",
     "traceback": [
      "\u001b[0;31m---------------------------------------------------------------------------\u001b[0m",
      "\u001b[0;31mInvalidArgumentError\u001b[0m                      Traceback (most recent call last)",
      "\u001b[0;32m<ipython-input-11-f9f5e18db53b>\u001b[0m in \u001b[0;36m<module>\u001b[0;34m()\u001b[0m\n\u001b[1;32m     21\u001b[0m         \u001b[0;31m#batch_x = batch_x.reshape((batch_size, time_steps, word_vector_size))\u001b[0m\u001b[0;34m\u001b[0m\u001b[0;34m\u001b[0m\u001b[0m\n\u001b[1;32m     22\u001b[0m         sess.run(train_step, feed_dict={_inputs: batch_x,\n\u001b[0;32m---> 23\u001b[0;31m                                         y: batch_y})\n\u001b[0m\u001b[1;32m     24\u001b[0m         \u001b[0;32mif\u001b[0m \u001b[0mepoch\u001b[0m \u001b[0;34m%\u001b[0m \u001b[0;36m1\u001b[0m \u001b[0;34m==\u001b[0m \u001b[0;36m0\u001b[0m\u001b[0;34m:\u001b[0m\u001b[0;34m\u001b[0m\u001b[0m\n\u001b[1;32m     25\u001b[0m             \u001b[0macc\u001b[0m \u001b[0;34m=\u001b[0m \u001b[0msess\u001b[0m\u001b[0;34m.\u001b[0m\u001b[0mrun\u001b[0m\u001b[0;34m(\u001b[0m\u001b[0maccuracy\u001b[0m\u001b[0;34m,\u001b[0m \u001b[0mfeed_dict\u001b[0m\u001b[0;34m=\u001b[0m\u001b[0;34m{\u001b[0m\u001b[0m_inputs\u001b[0m\u001b[0;34m:\u001b[0m \u001b[0mbatch_x\u001b[0m\u001b[0;34m,\u001b[0m \u001b[0my\u001b[0m\u001b[0;34m:\u001b[0m \u001b[0mbatch_y\u001b[0m\u001b[0;34m}\u001b[0m\u001b[0;34m)\u001b[0m\u001b[0;34m\u001b[0m\u001b[0m\n",
      "\u001b[0;32m/Users/saur6410/.virtualenvs/blacksburg/lib/python2.7/site-packages/tensorflow/python/client/session.pyc\u001b[0m in \u001b[0;36mrun\u001b[0;34m(self, fetches, feed_dict, options, run_metadata)\u001b[0m\n\u001b[1;32m    893\u001b[0m     \u001b[0;32mtry\u001b[0m\u001b[0;34m:\u001b[0m\u001b[0;34m\u001b[0m\u001b[0m\n\u001b[1;32m    894\u001b[0m       result = self._run(None, fetches, feed_dict, options_ptr,\n\u001b[0;32m--> 895\u001b[0;31m                          run_metadata_ptr)\n\u001b[0m\u001b[1;32m    896\u001b[0m       \u001b[0;32mif\u001b[0m \u001b[0mrun_metadata\u001b[0m\u001b[0;34m:\u001b[0m\u001b[0;34m\u001b[0m\u001b[0m\n\u001b[1;32m    897\u001b[0m         \u001b[0mproto_data\u001b[0m \u001b[0;34m=\u001b[0m \u001b[0mtf_session\u001b[0m\u001b[0;34m.\u001b[0m\u001b[0mTF_GetBuffer\u001b[0m\u001b[0;34m(\u001b[0m\u001b[0mrun_metadata_ptr\u001b[0m\u001b[0;34m)\u001b[0m\u001b[0;34m\u001b[0m\u001b[0m\n",
      "\u001b[0;32m/Users/saur6410/.virtualenvs/blacksburg/lib/python2.7/site-packages/tensorflow/python/client/session.pyc\u001b[0m in \u001b[0;36m_run\u001b[0;34m(self, handle, fetches, feed_dict, options, run_metadata)\u001b[0m\n\u001b[1;32m   1122\u001b[0m     \u001b[0;32mif\u001b[0m \u001b[0mfinal_fetches\u001b[0m \u001b[0;32mor\u001b[0m \u001b[0mfinal_targets\u001b[0m \u001b[0;32mor\u001b[0m \u001b[0;34m(\u001b[0m\u001b[0mhandle\u001b[0m \u001b[0;32mand\u001b[0m \u001b[0mfeed_dict_tensor\u001b[0m\u001b[0;34m)\u001b[0m\u001b[0;34m:\u001b[0m\u001b[0;34m\u001b[0m\u001b[0m\n\u001b[1;32m   1123\u001b[0m       results = self._do_run(handle, final_targets, final_fetches,\n\u001b[0;32m-> 1124\u001b[0;31m                              feed_dict_tensor, options, run_metadata)\n\u001b[0m\u001b[1;32m   1125\u001b[0m     \u001b[0;32melse\u001b[0m\u001b[0;34m:\u001b[0m\u001b[0;34m\u001b[0m\u001b[0m\n\u001b[1;32m   1126\u001b[0m       \u001b[0mresults\u001b[0m \u001b[0;34m=\u001b[0m \u001b[0;34m[\u001b[0m\u001b[0;34m]\u001b[0m\u001b[0;34m\u001b[0m\u001b[0m\n",
      "\u001b[0;32m/Users/saur6410/.virtualenvs/blacksburg/lib/python2.7/site-packages/tensorflow/python/client/session.pyc\u001b[0m in \u001b[0;36m_do_run\u001b[0;34m(self, handle, target_list, fetch_list, feed_dict, options, run_metadata)\u001b[0m\n\u001b[1;32m   1319\u001b[0m     \u001b[0;32mif\u001b[0m \u001b[0mhandle\u001b[0m \u001b[0;32mis\u001b[0m \u001b[0mNone\u001b[0m\u001b[0;34m:\u001b[0m\u001b[0;34m\u001b[0m\u001b[0m\n\u001b[1;32m   1320\u001b[0m       return self._do_call(_run_fn, self._session, feeds, fetches, targets,\n\u001b[0;32m-> 1321\u001b[0;31m                            options, run_metadata)\n\u001b[0m\u001b[1;32m   1322\u001b[0m     \u001b[0;32melse\u001b[0m\u001b[0;34m:\u001b[0m\u001b[0;34m\u001b[0m\u001b[0m\n\u001b[1;32m   1323\u001b[0m       \u001b[0;32mreturn\u001b[0m \u001b[0mself\u001b[0m\u001b[0;34m.\u001b[0m\u001b[0m_do_call\u001b[0m\u001b[0;34m(\u001b[0m\u001b[0m_prun_fn\u001b[0m\u001b[0;34m,\u001b[0m \u001b[0mself\u001b[0m\u001b[0;34m.\u001b[0m\u001b[0m_session\u001b[0m\u001b[0;34m,\u001b[0m \u001b[0mhandle\u001b[0m\u001b[0;34m,\u001b[0m \u001b[0mfeeds\u001b[0m\u001b[0;34m,\u001b[0m \u001b[0mfetches\u001b[0m\u001b[0;34m)\u001b[0m\u001b[0;34m\u001b[0m\u001b[0m\n",
      "\u001b[0;32m/Users/saur6410/.virtualenvs/blacksburg/lib/python2.7/site-packages/tensorflow/python/client/session.pyc\u001b[0m in \u001b[0;36m_do_call\u001b[0;34m(self, fn, *args)\u001b[0m\n\u001b[1;32m   1338\u001b[0m         \u001b[0;32mexcept\u001b[0m \u001b[0mKeyError\u001b[0m\u001b[0;34m:\u001b[0m\u001b[0;34m\u001b[0m\u001b[0m\n\u001b[1;32m   1339\u001b[0m           \u001b[0;32mpass\u001b[0m\u001b[0;34m\u001b[0m\u001b[0m\n\u001b[0;32m-> 1340\u001b[0;31m       \u001b[0;32mraise\u001b[0m \u001b[0mtype\u001b[0m\u001b[0;34m(\u001b[0m\u001b[0me\u001b[0m\u001b[0;34m)\u001b[0m\u001b[0;34m(\u001b[0m\u001b[0mnode_def\u001b[0m\u001b[0;34m,\u001b[0m \u001b[0mop\u001b[0m\u001b[0;34m,\u001b[0m \u001b[0mmessage\u001b[0m\u001b[0;34m)\u001b[0m\u001b[0;34m\u001b[0m\u001b[0m\n\u001b[0m\u001b[1;32m   1341\u001b[0m \u001b[0;34m\u001b[0m\u001b[0m\n\u001b[1;32m   1342\u001b[0m   \u001b[0;32mdef\u001b[0m \u001b[0m_extend_graph\u001b[0m\u001b[0;34m(\u001b[0m\u001b[0mself\u001b[0m\u001b[0;34m)\u001b[0m\u001b[0;34m:\u001b[0m\u001b[0;34m\u001b[0m\u001b[0m\n",
      "\u001b[0;31mInvalidArgumentError\u001b[0m: logits and labels must be same size: logits_size=[1000,2] labels_size=[2000,2]\n\t [[Node: SoftmaxCrossEntropyWithLogits = SoftmaxCrossEntropyWithLogits[T=DT_FLOAT, _device=\"/job:localhost/replica:0/task:0/cpu:0\"](Reshape, Reshape_1)]]\n\nCaused by op u'SoftmaxCrossEntropyWithLogits', defined at:\n  File \"/System/Library/Frameworks/Python.framework/Versions/2.7/lib/python2.7/runpy.py\", line 162, in _run_module_as_main\n    \"__main__\", fname, loader, pkg_name)\n  File \"/System/Library/Frameworks/Python.framework/Versions/2.7/lib/python2.7/runpy.py\", line 72, in _run_code\n    exec code in run_globals\n  File \"/Users/saur6410/.virtualenvs/blacksburg/lib/python2.7/site-packages/ipykernel_launcher.py\", line 16, in <module>\n    app.launch_new_instance()\n  File \"/Users/saur6410/.virtualenvs/blacksburg/lib/python2.7/site-packages/traitlets/config/application.py\", line 658, in launch_instance\n    app.start()\n  File \"/Users/saur6410/.virtualenvs/blacksburg/lib/python2.7/site-packages/ipykernel/kernelapp.py\", line 477, in start\n    ioloop.IOLoop.instance().start()\n  File \"/Users/saur6410/.virtualenvs/blacksburg/lib/python2.7/site-packages/zmq/eventloop/ioloop.py\", line 177, in start\n    super(ZMQIOLoop, self).start()\n  File \"/Users/saur6410/.virtualenvs/blacksburg/lib/python2.7/site-packages/tornado/ioloop.py\", line 888, in start\n    handler_func(fd_obj, events)\n  File \"/Users/saur6410/.virtualenvs/blacksburg/lib/python2.7/site-packages/tornado/stack_context.py\", line 277, in null_wrapper\n    return fn(*args, **kwargs)\n  File \"/Users/saur6410/.virtualenvs/blacksburg/lib/python2.7/site-packages/zmq/eventloop/zmqstream.py\", line 440, in _handle_events\n    self._handle_recv()\n  File \"/Users/saur6410/.virtualenvs/blacksburg/lib/python2.7/site-packages/zmq/eventloop/zmqstream.py\", line 472, in _handle_recv\n    self._run_callback(callback, msg)\n  File \"/Users/saur6410/.virtualenvs/blacksburg/lib/python2.7/site-packages/zmq/eventloop/zmqstream.py\", line 414, in _run_callback\n    callback(*args, **kwargs)\n  File \"/Users/saur6410/.virtualenvs/blacksburg/lib/python2.7/site-packages/tornado/stack_context.py\", line 277, in null_wrapper\n    return fn(*args, **kwargs)\n  File \"/Users/saur6410/.virtualenvs/blacksburg/lib/python2.7/site-packages/ipykernel/kernelbase.py\", line 283, in dispatcher\n    return self.dispatch_shell(stream, msg)\n  File \"/Users/saur6410/.virtualenvs/blacksburg/lib/python2.7/site-packages/ipykernel/kernelbase.py\", line 235, in dispatch_shell\n    handler(stream, idents, msg)\n  File \"/Users/saur6410/.virtualenvs/blacksburg/lib/python2.7/site-packages/ipykernel/kernelbase.py\", line 399, in execute_request\n    user_expressions, allow_stdin)\n  File \"/Users/saur6410/.virtualenvs/blacksburg/lib/python2.7/site-packages/ipykernel/ipkernel.py\", line 196, in do_execute\n    res = shell.run_cell(code, store_history=store_history, silent=silent)\n  File \"/Users/saur6410/.virtualenvs/blacksburg/lib/python2.7/site-packages/ipykernel/zmqshell.py\", line 533, in run_cell\n    return super(ZMQInteractiveShell, self).run_cell(*args, **kwargs)\n  File \"/Users/saur6410/.virtualenvs/blacksburg/lib/python2.7/site-packages/IPython/core/interactiveshell.py\", line 2718, in run_cell\n    interactivity=interactivity, compiler=compiler, result=result)\n  File \"/Users/saur6410/.virtualenvs/blacksburg/lib/python2.7/site-packages/IPython/core/interactiveshell.py\", line 2822, in run_ast_nodes\n    if self.run_code(code, result):\n  File \"/Users/saur6410/.virtualenvs/blacksburg/lib/python2.7/site-packages/IPython/core/interactiveshell.py\", line 2882, in run_code\n    exec(code_obj, self.user_global_ns, self.user_ns)\n  File \"<ipython-input-2-dfe715a6edde>\", line 15, in <module>\n    softmax = tf.nn.softmax_cross_entropy_with_logits(logits=final_output,labels=y_one_hot)\n  File \"/Users/saur6410/.virtualenvs/blacksburg/lib/python2.7/site-packages/tensorflow/python/ops/nn_ops.py\", line 1597, in softmax_cross_entropy_with_logits\n    precise_logits, labels, name=name)\n  File \"/Users/saur6410/.virtualenvs/blacksburg/lib/python2.7/site-packages/tensorflow/python/ops/gen_nn_ops.py\", line 2385, in _softmax_cross_entropy_with_logits\n    features=features, labels=labels, name=name)\n  File \"/Users/saur6410/.virtualenvs/blacksburg/lib/python2.7/site-packages/tensorflow/python/framework/op_def_library.py\", line 767, in apply_op\n    op_def=op_def)\n  File \"/Users/saur6410/.virtualenvs/blacksburg/lib/python2.7/site-packages/tensorflow/python/framework/ops.py\", line 2630, in create_op\n    original_op=self._default_original_op, op_def=op_def)\n  File \"/Users/saur6410/.virtualenvs/blacksburg/lib/python2.7/site-packages/tensorflow/python/framework/ops.py\", line 1204, in __init__\n    self._traceback = self._graph._extract_stack()  # pylint: disable=protected-access\n\nInvalidArgumentError (see above for traceback): logits and labels must be same size: logits_size=[1000,2] labels_size=[2000,2]\n\t [[Node: SoftmaxCrossEntropyWithLogits = SoftmaxCrossEntropyWithLogits[T=DT_FLOAT, _device=\"/job:localhost/replica:0/task:0/cpu:0\"](Reshape, Reshape_1)]]\n"
     ]
    }
   ],
   "source": [
    "#Initialize session\n",
    "sess=tf.InteractiveSession()\n",
    "sess.run(tf.global_variables_initializer())\n",
    "\n",
    "#Initialize test data\n",
    "#test_data = mnist.test.images[:batch_size].reshape((-1,time_steps, word_vector_size))\n",
    "#test_label = mnist.test.labels[:batch_size]\n",
    "\n",
    "for epoch in range(n_iterations):\n",
    "    print \"Epoch:\", epoch\n",
    "    for j in range(len(training_data)/batch_size):\n",
    "        #print \"j:\", j\n",
    "        startIndex = j*batch_size\n",
    "        endIndex = startIndex + batch_size\n",
    "        batch_x = np.array(training_data[startIndex : endIndex]).reshape((-1,time_steps, word_vector_size))\n",
    "        print len(training_labels[startIndex : endIndex])\n",
    "        batch_y = dense_to_one_hot(np.array(training_labels[startIndex : endIndex]),num_classes)\n",
    "        print \"X:\", len(batch_x)\n",
    "        print \"Y:\", len(batch_y)\n",
    "        #batch_x, batch_y = mnist.train.next_batch(batch_size)\n",
    "        #batch_x = batch_x.reshape((batch_size, time_steps, word_vector_size))\n",
    "        sess.run(train_step, feed_dict={_inputs: batch_x,\n",
    "                                        y: batch_y})\n",
    "        if epoch % 1 == 0:\n",
    "            acc = sess.run(accuracy, feed_dict={_inputs: batch_x, y: batch_y})\n",
    "            loss = sess.run(cross_entropy, feed_dict={_inputs: batch_x, y: batch_y})\n",
    "            print (\"Iter \" + str(epoch) + \", Minibatch Loss= \" + \\\n",
    "                   \"{:.6f}\".format(loss) + \", Training Accuracy= \" + \\\n",
    "                   \"{:.5f}\".format(acc))\n",
    "\n",
    "\n",
    "print (\"Testing Accuracy:\",\n",
    "    sess.run(accuracy, feed_dict={_inputs: test_data, y: test_labels}))"
   ]
  },
  {
   "cell_type": "code",
   "execution_count": null,
   "metadata": {
    "collapsed": true
   },
   "outputs": [],
   "source": []
  }
 ],
 "metadata": {
  "kernelspec": {
   "display_name": "Python 2",
   "language": "python",
   "name": "python2"
  },
  "language_info": {
   "codemirror_mode": {
    "name": "ipython",
    "version": 2
   },
   "file_extension": ".py",
   "mimetype": "text/x-python",
   "name": "python",
   "nbconvert_exporter": "python",
   "pygments_lexer": "ipython2",
   "version": "2.7.10"
  }
 },
 "nbformat": 4,
 "nbformat_minor": 2
}
