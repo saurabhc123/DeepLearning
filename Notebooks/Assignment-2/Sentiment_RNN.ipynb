{
 "cells": [
  {
   "cell_type": "code",
   "execution_count": 1,
   "metadata": {
    "collapsed": true
   },
   "outputs": [],
   "source": [
    "import tensorflow as tf\n",
    "from tensorflow.contrib.layers import fully_connected\n",
    "from tensorflow.examples.tutorials.mnist import input_data\n",
    "import os\n",
    "import numpy as np\n",
    "import matplotlib.pyplot as plt\n",
    "from skimage.transform import resize\n",
    "import csv\n",
    "import numpy as np"
   ]
  },
  {
   "cell_type": "code",
   "execution_count": 2,
   "metadata": {
    "collapsed": true
   },
   "outputs": [],
   "source": [
    "import numpy as np\n",
    "\n",
    "\n",
    "sentiment_data = 'sentiment-data'\n",
    "\n",
    "\n",
    "def getWordVectorDict():\n",
    "    reader = csv.reader(open(sentiment_data +'/word-vectors-refine.txt'))\n",
    "\n",
    "    word_vector_dict = {}\n",
    "    for row in reader:\n",
    "        key = row[0]\n",
    "        if key in word_vector_dict:\n",
    "            # implement your duplicate row handling here\n",
    "            pass\n",
    "        word_vector_dict[key] = np.array(row[1:])\n",
    "    return word_vector_dict\n",
    "\n",
    "def getPaddedSentenceMatrix(sentenceMatrix):\n",
    "    wordCount = 100\n",
    "    return np.vstack((sentenceMatrix, np.zeros((wordCount - np.shape(sentenceMatrix)[0],np.shape(sentenceMatrix)[1]), dtype=np.float32)))\n",
    "\n",
    "def getVectorForSentence(sentence, word_vec_dict):\n",
    "    sentence_matrix = []\n",
    "    for word in sentence.split(' '):\n",
    "        word_vec = word_vec_dict[word]\n",
    "        if(len(sentence_matrix) == 0):\n",
    "            sentence_matrix = word_vec\n",
    "        else:\n",
    "            sentence_matrix = np.vstack((sentence_matrix,word_vec))\n",
    "    return getPaddedSentenceMatrix(sentence_matrix)"
   ]
  },
  {
   "cell_type": "code",
   "execution_count": 3,
   "metadata": {
    "collapsed": true
   },
   "outputs": [],
   "source": [
    "vocabulary_size = 28\n",
    "n_inputs = 50\n",
    "n_steps = 100\n",
    "n_neurons = 150\n",
    "n_outputs = 2\n",
    "learning_rate = 0.01\n",
    "\n",
    "init = tf.global_variables_initializer()\n",
    "\n",
    "\n",
    "word_vector_size = 50;\n",
    "time_steps = 100;\n",
    "num_classes = 2\n",
    "batch_size = 1000;\n",
    "n_iterations = 10;\n",
    "hidden_layer_size = 50"
   ]
  },
  {
   "cell_type": "code",
   "execution_count": 4,
   "metadata": {
    "collapsed": true
   },
   "outputs": [],
   "source": [
    "\n",
    "def getData(fileName):\n",
    "    reader = csv.reader(open(sentiment_data +'/' + fileName))\n",
    "    trainingData = []\n",
    "    for row in reader:\n",
    "        data = {}\n",
    "        data['label'] =  1 if row[0] == 'postive' else 0\n",
    "        data['sentence'] = row[1:]\n",
    "        trainingData.append(data)\n",
    "    return trainingData"
   ]
  },
  {
   "cell_type": "code",
   "execution_count": 5,
   "metadata": {
    "collapsed": true
   },
   "outputs": [],
   "source": [
    "word_vec_dict = getWordVectorDict()\n",
    "\n",
    "\n",
    "def transform(row):\n",
    "    return row['label'], getVectorForSentence(row['sentence'][0], word_vec_dict)"
   ]
  },
  {
   "cell_type": "code",
   "execution_count": 6,
   "metadata": {},
   "outputs": [
    {
     "name": "stdout",
     "output_type": "stream",
     "text": [
      "[['0.68491' '0.32385' '-0.11592' ..., '0.17874' '-0.1693' '0.062375']\n",
      " ['0.96193' '0.012516' '0.21733' ..., '0.14032' '-0.38468' '-0.38712']\n",
      " ['0.6008' '0.18044' '0.078339' ..., '-0.016404' '-0.65372' '-0.38255']\n",
      " ..., \n",
      " ['0.88387' '-0.14199' '0.13566' ..., '0.52711' '-0.20148' '0.0095952']\n",
      " ['-0.0010919' '0.33324' '0.35743' ..., '-0.45697' '-0.048969' '1.1316']\n",
      " ['-0.55114' '-0.16296' '-0.95494' ..., '-1.0346' '-0.25143' '1.4836']]\n"
     ]
    }
   ],
   "source": [
    "training_data = getData('train.csv')\n",
    "training_rows  = map(lambda row: transform(row), training_data)\n",
    "training_data = map(lambda row: row[1], training_rows)\n",
    "training_labels = map(lambda row: row[0], training_rows)\n",
    "#test_data = map(lambda row: transform(row), getData('test.csv'))\n",
    "test_data = getData('test.csv')\n",
    "test_rows  = map(lambda row: transform(row), test_data)\n",
    "test_data = map(lambda row: row[1], test_rows)\n",
    "test_labels = map(lambda row: row[0], test_rows)\n",
    "print training_data[0]"
   ]
  },
  {
   "cell_type": "code",
   "execution_count": 7,
   "metadata": {},
   "outputs": [],
   "source": [
    "X = tf.placeholder(tf.float32, [None, n_steps, n_inputs])\n",
    "y = tf.placeholder(tf.int32, [None])\n",
    "basic_cell = tf.contrib.rnn.BasicRNNCell(num_units = n_neurons, activation = tf.tanh)\n",
    "outputs , states = tf.nn.dynamic_rnn(basic_cell, X, dtype= tf.float32)\n",
    "logits = tf.layers.dense(states, n_outputs)\n",
    "xentropy = tf.nn.sparse_softmax_cross_entropy_with_logits(labels= y , logits= logits)\n",
    "loss = tf.reduce_mean(xentropy)\n",
    "#optimizer = tf.train.AdamOptimizer(learning_rate=learning_rate)\n",
    "optimizer = tf.train.RMSPropOptimizer(0.1, 0.9, 0.01)\n",
    "training_op = optimizer.minimize(loss)\n",
    "correct = tf.nn.in_top_k(logits, y, 1)\n",
    "accuracy = tf.reduce_mean(tf.cast(correct, tf.float32))"
   ]
  },
  {
   "cell_type": "code",
   "execution_count": 8,
   "metadata": {},
   "outputs": [
    {
     "name": "stdout",
     "output_type": "stream",
     "text": [
      "Running epoch: 0\n",
      "(0, 'Train accuracy:', 0.49875, ' Test accuracy:', 0.50199997)\n",
      "Running epoch: 1\n",
      "(1, 'Train accuracy:', 0.49994999, ' Test accuracy:', 0.50239998)\n",
      "Running epoch: 2\n",
      "(2, 'Train accuracy:', 0.49959999, ' Test accuracy:', 0.50279999)\n",
      "Running epoch: 3\n",
      "(3, 'Train accuracy:', 0.49965, ' Test accuracy:', 0.50279999)\n",
      "Running epoch: 4\n",
      "(4, 'Train accuracy:', 0.49965, ' Test accuracy:', 0.50279999)\n",
      "Running epoch: 5\n",
      "(5, 'Train accuracy:', 0.49959999, ' Test accuracy:', 0.50279999)\n",
      "Running epoch: 6\n",
      "(6, 'Train accuracy:', 0.49965, ' Test accuracy:', 0.50279999)\n",
      "Running epoch: 7\n",
      "(7, 'Train accuracy:', 0.49965, ' Test accuracy:', 0.50279999)\n",
      "Running epoch: 8\n",
      "(8, 'Train accuracy:', 0.49965, ' Test accuracy:', 0.50279999)\n",
      "Running epoch: 9\n",
      "(9, 'Train accuracy:', 0.49965, ' Test accuracy:', 0.50279999)\n",
      "Running epoch: 10\n",
      "(10, 'Train accuracy:', 0.49965, ' Test accuracy:', 0.50279999)\n",
      "Running epoch: 11\n",
      "(11, 'Train accuracy:', 0.49959999, ' Test accuracy:', 0.50279999)\n",
      "Running epoch: 12\n",
      "(12, 'Train accuracy:', 0.49959999, ' Test accuracy:', 0.50279999)\n",
      "Running epoch: 13\n",
      "(13, 'Train accuracy:', 0.49959999, ' Test accuracy:', 0.50279999)\n",
      "Running epoch: 14\n"
     ]
    },
    {
     "ename": "KeyboardInterrupt",
     "evalue": "",
     "output_type": "error",
     "traceback": [
      "\u001b[0;31m---------------------------------------------------------------------------\u001b[0m",
      "\u001b[0;31mKeyboardInterrupt\u001b[0m                         Traceback (most recent call last)",
      "\u001b[0;32m<ipython-input-8-d8bcf541f3df>\u001b[0m in \u001b[0;36m<module>\u001b[0;34m()\u001b[0m\n\u001b[1;32m     16\u001b[0m             \u001b[0mbatch_y\u001b[0m \u001b[0;34m=\u001b[0m \u001b[0mnp\u001b[0m\u001b[0;34m.\u001b[0m\u001b[0marray\u001b[0m\u001b[0;34m(\u001b[0m\u001b[0mtraining_labels\u001b[0m\u001b[0;34m[\u001b[0m\u001b[0mstartIndex\u001b[0m \u001b[0;34m:\u001b[0m \u001b[0mendIndex\u001b[0m\u001b[0;34m]\u001b[0m\u001b[0;34m)\u001b[0m\u001b[0;34m.\u001b[0m\u001b[0mreshape\u001b[0m\u001b[0;34m(\u001b[0m\u001b[0mbatch_size\u001b[0m\u001b[0;34m)\u001b[0m\u001b[0;34m\u001b[0m\u001b[0m\n\u001b[1;32m     17\u001b[0m             \u001b[0msess\u001b[0m\u001b[0;34m.\u001b[0m\u001b[0mrun\u001b[0m\u001b[0;34m(\u001b[0m\u001b[0mtraining_op\u001b[0m\u001b[0;34m,\u001b[0m \u001b[0mfeed_dict\u001b[0m\u001b[0;34m=\u001b[0m\u001b[0;34m{\u001b[0m\u001b[0mX\u001b[0m\u001b[0;34m:\u001b[0m \u001b[0mbatch_x\u001b[0m\u001b[0;34m,\u001b[0m \u001b[0my\u001b[0m\u001b[0;34m:\u001b[0m \u001b[0mbatch_y\u001b[0m\u001b[0;34m}\u001b[0m\u001b[0;34m)\u001b[0m\u001b[0;34m\u001b[0m\u001b[0m\n\u001b[0;32m---> 18\u001b[0;31m         \u001b[0macc_train\u001b[0m \u001b[0;34m=\u001b[0m \u001b[0maccuracy\u001b[0m\u001b[0;34m.\u001b[0m\u001b[0meval\u001b[0m\u001b[0;34m(\u001b[0m\u001b[0mfeed_dict\u001b[0m\u001b[0;34m=\u001b[0m\u001b[0;34m{\u001b[0m\u001b[0mX\u001b[0m\u001b[0;34m:\u001b[0m \u001b[0mnp\u001b[0m\u001b[0;34m.\u001b[0m\u001b[0marray\u001b[0m\u001b[0;34m(\u001b[0m\u001b[0mtraining_data\u001b[0m\u001b[0;34m)\u001b[0m\u001b[0;34m,\u001b[0m \u001b[0my\u001b[0m\u001b[0;34m:\u001b[0m \u001b[0mnp\u001b[0m\u001b[0;34m.\u001b[0m\u001b[0marray\u001b[0m\u001b[0;34m(\u001b[0m\u001b[0mtraining_labels\u001b[0m\u001b[0;34m)\u001b[0m\u001b[0;34m}\u001b[0m\u001b[0;34m)\u001b[0m\u001b[0;34m\u001b[0m\u001b[0m\n\u001b[0m\u001b[1;32m     19\u001b[0m         \u001b[0macc_test\u001b[0m \u001b[0;34m=\u001b[0m \u001b[0maccuracy\u001b[0m\u001b[0;34m.\u001b[0m\u001b[0meval\u001b[0m\u001b[0;34m(\u001b[0m\u001b[0mfeed_dict\u001b[0m\u001b[0;34m=\u001b[0m\u001b[0;34m{\u001b[0m\u001b[0mX\u001b[0m\u001b[0;34m:\u001b[0m \u001b[0mnp\u001b[0m\u001b[0;34m.\u001b[0m\u001b[0marray\u001b[0m\u001b[0;34m(\u001b[0m\u001b[0mtest_data\u001b[0m\u001b[0;34m)\u001b[0m\u001b[0;34m,\u001b[0m \u001b[0my\u001b[0m\u001b[0;34m:\u001b[0m \u001b[0mnp\u001b[0m\u001b[0;34m.\u001b[0m\u001b[0marray\u001b[0m\u001b[0;34m(\u001b[0m\u001b[0mtest_labels\u001b[0m\u001b[0;34m)\u001b[0m\u001b[0;34m}\u001b[0m\u001b[0;34m)\u001b[0m\u001b[0;34m\u001b[0m\u001b[0m\n\u001b[1;32m     20\u001b[0m         \u001b[0;32mprint\u001b[0m\u001b[0;34m(\u001b[0m\u001b[0mepoch\u001b[0m\u001b[0;34m,\u001b[0m\u001b[0;34m\"Train accuracy:\"\u001b[0m\u001b[0;34m,\u001b[0m \u001b[0macc_train\u001b[0m\u001b[0;34m,\u001b[0m \u001b[0;34m\" Test accuracy:\"\u001b[0m\u001b[0;34m,\u001b[0m \u001b[0macc_test\u001b[0m\u001b[0;34m)\u001b[0m\u001b[0;34m\u001b[0m\u001b[0m\n",
      "\u001b[0;32m/Users/saur6410/.virtualenvs/blacksburg/lib/python2.7/site-packages/tensorflow/python/framework/ops.pyc\u001b[0m in \u001b[0;36meval\u001b[0;34m(self, feed_dict, session)\u001b[0m\n\u001b[1;32m    539\u001b[0m \u001b[0;34m\u001b[0m\u001b[0m\n\u001b[1;32m    540\u001b[0m     \"\"\"\n\u001b[0;32m--> 541\u001b[0;31m     \u001b[0;32mreturn\u001b[0m \u001b[0m_eval_using_default_session\u001b[0m\u001b[0;34m(\u001b[0m\u001b[0mself\u001b[0m\u001b[0;34m,\u001b[0m \u001b[0mfeed_dict\u001b[0m\u001b[0;34m,\u001b[0m \u001b[0mself\u001b[0m\u001b[0;34m.\u001b[0m\u001b[0mgraph\u001b[0m\u001b[0;34m,\u001b[0m \u001b[0msession\u001b[0m\u001b[0;34m)\u001b[0m\u001b[0;34m\u001b[0m\u001b[0m\n\u001b[0m\u001b[1;32m    542\u001b[0m \u001b[0;34m\u001b[0m\u001b[0m\n\u001b[1;32m    543\u001b[0m \u001b[0;34m\u001b[0m\u001b[0m\n",
      "\u001b[0;32m/Users/saur6410/.virtualenvs/blacksburg/lib/python2.7/site-packages/tensorflow/python/framework/ops.pyc\u001b[0m in \u001b[0;36m_eval_using_default_session\u001b[0;34m(tensors, feed_dict, graph, session)\u001b[0m\n\u001b[1;32m   4083\u001b[0m                        \u001b[0;34m\"the tensor's graph is different from the session's \"\u001b[0m\u001b[0;34m\u001b[0m\u001b[0m\n\u001b[1;32m   4084\u001b[0m                        \"graph.\")\n\u001b[0;32m-> 4085\u001b[0;31m   \u001b[0;32mreturn\u001b[0m \u001b[0msession\u001b[0m\u001b[0;34m.\u001b[0m\u001b[0mrun\u001b[0m\u001b[0;34m(\u001b[0m\u001b[0mtensors\u001b[0m\u001b[0;34m,\u001b[0m \u001b[0mfeed_dict\u001b[0m\u001b[0;34m)\u001b[0m\u001b[0;34m\u001b[0m\u001b[0m\n\u001b[0m\u001b[1;32m   4086\u001b[0m \u001b[0;34m\u001b[0m\u001b[0m\n\u001b[1;32m   4087\u001b[0m \u001b[0;34m\u001b[0m\u001b[0m\n",
      "\u001b[0;32m/Users/saur6410/.virtualenvs/blacksburg/lib/python2.7/site-packages/tensorflow/python/client/session.pyc\u001b[0m in \u001b[0;36mrun\u001b[0;34m(self, fetches, feed_dict, options, run_metadata)\u001b[0m\n\u001b[1;32m    893\u001b[0m     \u001b[0;32mtry\u001b[0m\u001b[0;34m:\u001b[0m\u001b[0;34m\u001b[0m\u001b[0m\n\u001b[1;32m    894\u001b[0m       result = self._run(None, fetches, feed_dict, options_ptr,\n\u001b[0;32m--> 895\u001b[0;31m                          run_metadata_ptr)\n\u001b[0m\u001b[1;32m    896\u001b[0m       \u001b[0;32mif\u001b[0m \u001b[0mrun_metadata\u001b[0m\u001b[0;34m:\u001b[0m\u001b[0;34m\u001b[0m\u001b[0m\n\u001b[1;32m    897\u001b[0m         \u001b[0mproto_data\u001b[0m \u001b[0;34m=\u001b[0m \u001b[0mtf_session\u001b[0m\u001b[0;34m.\u001b[0m\u001b[0mTF_GetBuffer\u001b[0m\u001b[0;34m(\u001b[0m\u001b[0mrun_metadata_ptr\u001b[0m\u001b[0;34m)\u001b[0m\u001b[0;34m\u001b[0m\u001b[0m\n",
      "\u001b[0;32m/Users/saur6410/.virtualenvs/blacksburg/lib/python2.7/site-packages/tensorflow/python/client/session.pyc\u001b[0m in \u001b[0;36m_run\u001b[0;34m(self, handle, fetches, feed_dict, options, run_metadata)\u001b[0m\n\u001b[1;32m   1091\u001b[0m             \u001b[0mfeed_handles\u001b[0m\u001b[0;34m[\u001b[0m\u001b[0msubfeed_t\u001b[0m\u001b[0;34m]\u001b[0m \u001b[0;34m=\u001b[0m \u001b[0msubfeed_val\u001b[0m\u001b[0;34m\u001b[0m\u001b[0m\n\u001b[1;32m   1092\u001b[0m           \u001b[0;32melse\u001b[0m\u001b[0;34m:\u001b[0m\u001b[0;34m\u001b[0m\u001b[0m\n\u001b[0;32m-> 1093\u001b[0;31m             \u001b[0mnp_val\u001b[0m \u001b[0;34m=\u001b[0m \u001b[0mnp\u001b[0m\u001b[0;34m.\u001b[0m\u001b[0masarray\u001b[0m\u001b[0;34m(\u001b[0m\u001b[0msubfeed_val\u001b[0m\u001b[0;34m,\u001b[0m \u001b[0mdtype\u001b[0m\u001b[0;34m=\u001b[0m\u001b[0msubfeed_dtype\u001b[0m\u001b[0;34m)\u001b[0m\u001b[0;34m\u001b[0m\u001b[0m\n\u001b[0m\u001b[1;32m   1094\u001b[0m \u001b[0;34m\u001b[0m\u001b[0m\n\u001b[1;32m   1095\u001b[0m           if (not is_tensor_handle_feed and\n",
      "\u001b[0;32m/Users/saur6410/.virtualenvs/blacksburg/lib/python2.7/site-packages/numpy/core/numeric.pyc\u001b[0m in \u001b[0;36masarray\u001b[0;34m(a, dtype, order)\u001b[0m\n\u001b[1;32m    529\u001b[0m \u001b[0;34m\u001b[0m\u001b[0m\n\u001b[1;32m    530\u001b[0m     \"\"\"\n\u001b[0;32m--> 531\u001b[0;31m     \u001b[0;32mreturn\u001b[0m \u001b[0marray\u001b[0m\u001b[0;34m(\u001b[0m\u001b[0ma\u001b[0m\u001b[0;34m,\u001b[0m \u001b[0mdtype\u001b[0m\u001b[0;34m,\u001b[0m \u001b[0mcopy\u001b[0m\u001b[0;34m=\u001b[0m\u001b[0mFalse\u001b[0m\u001b[0;34m,\u001b[0m \u001b[0morder\u001b[0m\u001b[0;34m=\u001b[0m\u001b[0morder\u001b[0m\u001b[0;34m)\u001b[0m\u001b[0;34m\u001b[0m\u001b[0m\n\u001b[0m\u001b[1;32m    532\u001b[0m \u001b[0;34m\u001b[0m\u001b[0m\n\u001b[1;32m    533\u001b[0m \u001b[0;34m\u001b[0m\u001b[0m\n",
      "\u001b[0;31mKeyboardInterrupt\u001b[0m: "
     ]
    }
   ],
   "source": [
    "\n",
    "init = tf.global_variables_initializer()\n",
    "\n",
    "\n",
    "batch_size = 100;\n",
    "n_iterations = 20;\n",
    "\n",
    "with tf.Session() as sess:\n",
    "    init.run()\n",
    "    for epoch in range(n_iterations):\n",
    "        print \"Running epoch:\",epoch\n",
    "        for j in range(len(training_data)/batch_size):\n",
    "            startIndex = j*batch_size\n",
    "            endIndex = startIndex + batch_size\n",
    "            batch_x = np.array(training_data[startIndex : endIndex]).reshape((-1,time_steps, word_vector_size))\n",
    "            batch_y = np.array(training_labels[startIndex : endIndex]).reshape(batch_size)\n",
    "            sess.run(training_op, feed_dict={X: batch_x, y: batch_y})\n",
    "        acc_train = accuracy.eval(feed_dict={X: np.array(training_data), y: np.array(training_labels)})\n",
    "        acc_test = accuracy.eval(feed_dict={X: np.array(test_data), y: np.array(test_labels)})\n",
    "        print(epoch,\"Train accuracy:\", acc_train, \" Test accuracy:\", acc_test)\n",
    "\n",
    "    print (\"Testing Accuracy:\",\n",
    "    sess.run(accuracy, feed_dict={X: test_data, y: test_labels}))"
   ]
  },
  {
   "cell_type": "code",
   "execution_count": null,
   "metadata": {
    "collapsed": true
   },
   "outputs": [],
   "source": []
  }
 ],
 "metadata": {
  "kernelspec": {
   "display_name": "Python 2",
   "language": "python",
   "name": "python2"
  },
  "language_info": {
   "codemirror_mode": {
    "name": "ipython",
    "version": 2
   },
   "file_extension": ".py",
   "mimetype": "text/x-python",
   "name": "python",
   "nbconvert_exporter": "python",
   "pygments_lexer": "ipython2",
   "version": "2.7.10"
  }
 },
 "nbformat": 4,
 "nbformat_minor": 2
}
