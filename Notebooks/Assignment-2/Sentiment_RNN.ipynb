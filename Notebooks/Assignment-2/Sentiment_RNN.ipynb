{
 "cells": [
  {
   "cell_type": "code",
   "execution_count": 1,
   "metadata": {
    "collapsed": true
   },
   "outputs": [],
   "source": [
    "import tensorflow as tf\n",
    "from tensorflow.contrib.layers import fully_connected\n",
    "from tensorflow.examples.tutorials.mnist import input_data\n",
    "import os\n",
    "import numpy as np\n",
    "import matplotlib.pyplot as plt\n",
    "from skimage.transform import resize\n",
    "import csv\n",
    "import numpy as np"
   ]
  },
  {
   "cell_type": "code",
   "execution_count": 2,
   "metadata": {
    "collapsed": true
   },
   "outputs": [],
   "source": [
    "import numpy as np\n",
    "\n",
    "\n",
    "sentiment_data = 'sentiment-data'\n",
    "\n",
    "\n",
    "def getWordVectorDict():\n",
    "    reader = csv.reader(open(sentiment_data +'/word-vectors-refine.txt'))\n",
    "\n",
    "    word_vector_dict = {}\n",
    "    for row in reader:\n",
    "        key = row[0]\n",
    "        if key in word_vector_dict:\n",
    "            # implement your duplicate row handling here\n",
    "            pass\n",
    "        word_vector_dict[key] = np.array(row[1:])\n",
    "    return word_vector_dict\n",
    "\n",
    "def getPaddedSentenceMatrix(sentenceMatrix):\n",
    "    wordCount = 100\n",
    "    return np.vstack((sentenceMatrix, np.zeros((wordCount - np.shape(sentenceMatrix)[0],np.shape(sentenceMatrix)[1]), dtype=np.float32)))\n",
    "\n",
    "def getVectorForSentence(sentence, word_vec_dict):\n",
    "    sentence_matrix = []\n",
    "    for word in sentence.split(' '):\n",
    "        word_vec = word_vec_dict[word]\n",
    "        if(len(sentence_matrix) == 0):\n",
    "            sentence_matrix = word_vec\n",
    "        else:\n",
    "            sentence_matrix = np.vstack((sentence_matrix,word_vec))\n",
    "    return getPaddedSentenceMatrix(sentence_matrix)"
   ]
  },
  {
   "cell_type": "code",
   "execution_count": 3,
   "metadata": {
    "collapsed": true
   },
   "outputs": [],
   "source": [
    "vocabulary_size = 28\n",
    "n_inputs = 50\n",
    "n_steps = 100\n",
    "n_neurons = 150\n",
    "n_outputs = 2\n",
    "learning_rate = 1e-4\n",
    "\n",
    "init = tf.global_variables_initializer()\n",
    "\n",
    "\n",
    "word_vector_size = 50;\n",
    "time_steps = 100;\n",
    "num_classes = 2\n",
    "batch_size = 1000;\n",
    "n_iterations = 10;\n",
    "hidden_layer_size = 50"
   ]
  },
  {
   "cell_type": "code",
   "execution_count": 4,
   "metadata": {
    "collapsed": true
   },
   "outputs": [],
   "source": [
    "\n",
    "def getData(fileName):\n",
    "    reader = csv.reader(open(sentiment_data +'/' + fileName))\n",
    "    trainingData = []\n",
    "    for row in reader:\n",
    "        data = {}\n",
    "        data['label'] =  1 if row[0] == 'postive' else 0\n",
    "        data['sentence'] = row[1:]\n",
    "        trainingData.append(data)\n",
    "    return trainingData"
   ]
  },
  {
   "cell_type": "code",
   "execution_count": 5,
   "metadata": {
    "collapsed": true
   },
   "outputs": [],
   "source": [
    "word_vec_dict = getWordVectorDict()\n",
    "\n",
    "\n",
    "def transform(row):\n",
    "    return row['label'], getVectorForSentence(row['sentence'][0], word_vec_dict)"
   ]
  },
  {
   "cell_type": "code",
   "execution_count": 6,
   "metadata": {},
   "outputs": [
    {
     "name": "stdout",
     "output_type": "stream",
     "text": [
      "[['0.68491' '0.32385' '-0.11592' ..., '0.17874' '-0.1693' '0.062375']\n",
      " ['0.96193' '0.012516' '0.21733' ..., '0.14032' '-0.38468' '-0.38712']\n",
      " ['0.6008' '0.18044' '0.078339' ..., '-0.016404' '-0.65372' '-0.38255']\n",
      " ..., \n",
      " ['0.88387' '-0.14199' '0.13566' ..., '0.52711' '-0.20148' '0.0095952']\n",
      " ['-0.0010919' '0.33324' '0.35743' ..., '-0.45697' '-0.048969' '1.1316']\n",
      " ['-0.55114' '-0.16296' '-0.95494' ..., '-1.0346' '-0.25143' '1.4836']]\n"
     ]
    }
   ],
   "source": [
    "training_data = getData('train.csv')\n",
    "training_rows  = map(lambda row: transform(row), training_data)\n",
    "training_data = map(lambda row: row[1], training_rows)\n",
    "training_labels = map(lambda row: row[0], training_rows)\n",
    "#test_data = map(lambda row: transform(row), getData('test.csv'))\n",
    "test_data = getData('test.csv')\n",
    "test_rows  = map(lambda row: transform(row), test_data)\n",
    "test_data = map(lambda row: row[1], test_rows)\n",
    "test_labels = map(lambda row: row[0], test_rows)\n",
    "print training_data[0]"
   ]
  },
  {
   "cell_type": "code",
   "execution_count": null,
   "metadata": {
    "collapsed": true
   },
   "outputs": [],
   "source": [
    "\n"
   ]
  },
  {
   "cell_type": "code",
   "execution_count": 7,
   "metadata": {},
   "outputs": [],
   "source": [
    "X = tf.placeholder(tf.float32, [None, n_steps, n_inputs])\n",
    "y = tf.placeholder(tf.int32, [None])\n",
    "basic_cell = tf.contrib.rnn.BasicRNNCell(num_units = n_neurons, activation = tf.tanh)\n",
    "basic_cell = tf.contrib.rnn.DropoutWrapper(basic_cell, output_keep_prob=0.75)\n",
    "outputs , states = tf.nn.dynamic_rnn(basic_cell, X, dtype= tf.float32)\n",
    "logits = tf.layers.dense(states, n_outputs)\n",
    "xentropy = tf.nn.sparse_softmax_cross_entropy_with_logits(labels= y , logits= logits)\n",
    "loss = tf.reduce_mean(xentropy)\n",
    "optimizer = tf.train.AdamOptimizer(learning_rate=learning_rate)\n",
    "gvs = optimizer.compute_gradients(loss)\n",
    "capped_gvs = [(tf.clip_by_value(grad, -1., 1.), var) for grad, var in gvs]\n",
    "training_op = optimizer.apply_gradients(capped_gvs)\n",
    "#optimizer = tf.train.RMSPropOptimizer(0.1, 0.9, 0.01)\n",
    "#training_op = optimizer.minimize(loss)\n",
    "correct = tf.nn.in_top_k(logits, y, 1)\n",
    "accuracy = tf.reduce_mean(tf.cast(correct, tf.float32))"
   ]
  },
  {
   "cell_type": "code",
   "execution_count": 8,
   "metadata": {},
   "outputs": [
    {
     "name": "stdout",
     "output_type": "stream",
     "text": [
      "Running epoch: 0\n",
      "(0, 'Train accuracy:', 0.58450001, ' Test accuracy:', 0.579)\n",
      "Running epoch: 1\n",
      "(1, 'Train accuracy:', 0.64775002, ' Test accuracy:', 0.65140003)\n",
      "Running epoch: 2\n",
      "(2, 'Train accuracy:', 0.67030001, ' Test accuracy:', 0.66900003)\n",
      "Running epoch: 3\n",
      "(3, 'Train accuracy:', 0.59214997, ' Test accuracy:', 0.57660002)\n",
      "Running epoch: 4\n",
      "(4, 'Train accuracy:', 0.6803, ' Test accuracy:', 0.67339998)\n",
      "Running epoch: 5\n",
      "(5, 'Train accuracy:', 0.69349998, ' Test accuracy:', 0.68400002)\n",
      "Running epoch: 6\n",
      "(6, 'Train accuracy:', 0.60495001, ' Test accuracy:', 0.58819997)\n",
      "Running epoch: 7\n",
      "(7, 'Train accuracy:', 0.58099997, ' Test accuracy:', 0.56639999)\n",
      "Running epoch: 8\n",
      "(8, 'Train accuracy:', 0.68370003, ' Test accuracy:', 0.6778)\n",
      "Running epoch: 9\n",
      "(9, 'Train accuracy:', 0.54205, ' Test accuracy:', 0.53979999)\n",
      "Running epoch: 10\n",
      "(10, 'Train accuracy:', 0.59369999, ' Test accuracy:', 0.58420002)\n",
      "Running epoch: 11\n",
      "(11, 'Train accuracy:', 0.59644997, ' Test accuracy:', 0.58840001)\n",
      "Running epoch: 12\n",
      "(12, 'Train accuracy:', 0.60350001, ' Test accuracy:', 0.59100002)\n",
      "Running epoch: 13\n",
      "(13, 'Train accuracy:', 0.61040002, ' Test accuracy:', 0.60140002)\n",
      "Running epoch: 14\n",
      "(14, 'Train accuracy:', 0.65079999, ' Test accuracy:', 0.65960002)\n",
      "Running epoch: 15\n",
      "(15, 'Train accuracy:', 0.6753, ' Test accuracy:', 0.676)\n",
      "Running epoch: 16\n",
      "(16, 'Train accuracy:', 0.69475001, ' Test accuracy:', 0.6918)\n",
      "Running epoch: 17\n",
      "(17, 'Train accuracy:', 0.69714999, ' Test accuracy:', 0.6832)\n",
      "Running epoch: 18\n",
      "(18, 'Train accuracy:', 0.69695002, ' Test accuracy:', 0.68800002)\n",
      "Running epoch: 19\n",
      "(19, 'Train accuracy:', 0.68769997, ' Test accuracy:', 0.67919999)\n",
      "Running epoch: 20\n",
      "(20, 'Train accuracy:', 0.59214997, ' Test accuracy:', 0.58020002)\n",
      "Running epoch: 21\n",
      "(21, 'Train accuracy:', 0.69889998, ' Test accuracy:', 0.69840002)\n",
      "Running epoch: 22\n",
      "(22, 'Train accuracy:', 0.59445, ' Test accuracy:', 0.57560003)\n",
      "Running epoch: 23\n",
      "(23, 'Train accuracy:', 0.58394998, ' Test accuracy:', 0.55919999)\n",
      "Running epoch: 24\n",
      "(24, 'Train accuracy:', 0.69314998, ' Test accuracy:', 0.69080001)\n",
      "Running epoch: 25\n",
      "(25, 'Train accuracy:', 0.69464999, ' Test accuracy:', 0.68220001)\n",
      "Running epoch: 26\n",
      "(26, 'Train accuracy:', 0.67439997, ' Test accuracy:', 0.66939998)\n",
      "Running epoch: 27\n",
      "(27, 'Train accuracy:', 0.69515002, ' Test accuracy:', 0.68379998)\n",
      "Running epoch: 28\n",
      "(28, 'Train accuracy:', 0.67940003, ' Test accuracy:', 0.66140002)\n",
      "Running epoch: 29\n",
      "(29, 'Train accuracy:', 0.68510002, ' Test accuracy:', 0.67140001)\n",
      "Running epoch: 30\n",
      "(30, 'Train accuracy:', 0.70314997, ' Test accuracy:', 0.69160002)\n",
      "Running epoch: 31\n",
      "(31, 'Train accuracy:', 0.71195, ' Test accuracy:', 0.70319998)\n",
      "Running epoch: 32\n",
      "(32, 'Train accuracy:', 0.71670002, ' Test accuracy:', 0.7098)\n",
      "Running epoch: 33\n",
      "(33, 'Train accuracy:', 0.71039999, ' Test accuracy:', 0.69679999)\n",
      "Running epoch: 34\n",
      "(34, 'Train accuracy:', 0.72039998, ' Test accuracy:', 0.7112)\n",
      "Running epoch: 35\n",
      "(35, 'Train accuracy:', 0.68760002, ' Test accuracy:', 0.6688)\n",
      "Running epoch: 36\n",
      "(36, 'Train accuracy:', 0.69800001, ' Test accuracy:', 0.68300003)\n",
      "Running epoch: 37\n",
      "(37, 'Train accuracy:', 0.71990001, ' Test accuracy:', 0.70819998)\n",
      "Running epoch: 38\n",
      "(38, 'Train accuracy:', 0.69234997, ' Test accuracy:', 0.68080002)\n",
      "Running epoch: 39\n",
      "(39, 'Train accuracy:', 0.70770001, ' Test accuracy:', 0.69260001)\n",
      "Running epoch: 40\n",
      "(40, 'Train accuracy:', 0.72584999, ' Test accuracy:', 0.71240002)\n",
      "Running epoch: 41\n",
      "(41, 'Train accuracy:', 0.72135001, ' Test accuracy:', 0.70300001)\n",
      "Running epoch: 42\n",
      "(42, 'Train accuracy:', 0.71635002, ' Test accuracy:', 0.71060002)\n",
      "Running epoch: 43\n",
      "(43, 'Train accuracy:', 0.58450001, ' Test accuracy:', 0.57539999)\n",
      "Running epoch: 44\n",
      "(44, 'Train accuracy:', 0.6929, ' Test accuracy:', 0.68440002)\n",
      "Running epoch: 45\n",
      "(45, 'Train accuracy:', 0.72000003, ' Test accuracy:', 0.70819998)\n",
      "Running epoch: 46\n",
      "(46, 'Train accuracy:', 0.72030002, ' Test accuracy:', 0.70719999)\n",
      "Running epoch: 47\n",
      "(47, 'Train accuracy:', 0.7198, ' Test accuracy:', 0.7076)\n",
      "Running epoch: 48\n",
      "(48, 'Train accuracy:', 0.71350002, ' Test accuracy:', 0.70120001)\n",
      "Running epoch: 49\n",
      "(49, 'Train accuracy:', 0.72825003, ' Test accuracy:', 0.70779997)\n",
      "('Testing Accuracy:', 0.70779997)\n"
     ]
    }
   ],
   "source": [
    "\n",
    "init = tf.global_variables_initializer()\n",
    "\n",
    "\n",
    "batch_size = 100;\n",
    "n_iterations = 50;\n",
    "\n",
    "with tf.Session() as sess:\n",
    "    init.run()\n",
    "    for epoch in range(n_iterations):\n",
    "        print \"Running epoch:\",epoch\n",
    "        for j in range(len(training_data)/batch_size):\n",
    "            startIndex = j*batch_size\n",
    "            endIndex = startIndex + batch_size\n",
    "            batch_x = np.array(training_data[startIndex : endIndex]).reshape((-1,time_steps, word_vector_size))\n",
    "            batch_y = np.array(training_labels[startIndex : endIndex]).reshape(batch_size)\n",
    "            sess.run(training_op, feed_dict={X: batch_x, y: batch_y})\n",
    "        acc_train = accuracy.eval(feed_dict={X: np.array(training_data), y: np.array(training_labels)})\n",
    "        acc_test = accuracy.eval(feed_dict={X: np.array(test_data), y: np.array(test_labels)})\n",
    "        print(epoch,\"Train accuracy:\", acc_train, \" Test accuracy:\", acc_test)\n",
    "\n",
    "    print (\"Testing Accuracy:\",\n",
    "    sess.run(accuracy, feed_dict={X: test_data, y: test_labels}))"
   ]
  },
  {
   "cell_type": "code",
   "execution_count": null,
   "metadata": {
    "collapsed": true
   },
   "outputs": [],
   "source": []
  }
 ],
 "metadata": {
  "kernelspec": {
   "display_name": "Python 2",
   "language": "python",
   "name": "python2"
  },
  "language_info": {
   "codemirror_mode": {
    "name": "ipython",
    "version": 2
   },
   "file_extension": ".py",
   "mimetype": "text/x-python",
   "name": "python",
   "nbconvert_exporter": "python",
   "pygments_lexer": "ipython2",
   "version": "2.7.10"
  }
 },
 "nbformat": 4,
 "nbformat_minor": 2
}
