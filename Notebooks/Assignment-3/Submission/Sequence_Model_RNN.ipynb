{
 "cells": [
  {
   "cell_type": "code",
   "execution_count": 1,
   "metadata": {},
   "outputs": [],
   "source": [
    "import tensorflow as tf\n",
    "from tensorflow.contrib.layers import fully_connected\n",
    "from tensorflow.examples.tutorials.mnist import input_data\n",
    "import os\n",
    "import numpy as np\n",
    "import matplotlib.pyplot as plt\n",
    "from skimage.transform import resize\n",
    "import csv\n",
    "import random"
   ]
  },
  {
   "cell_type": "code",
   "execution_count": 2,
   "metadata": {},
   "outputs": [],
   "source": [
    "input_filename = 'text_file.txt'\n",
    "\n",
    "\n",
    "def get_words_from_file(input_filename):\n",
    "    f = open(input_filename,\"r\")\n",
    "    buffer = f.read()\n",
    "    words = buffer.split(' ')\n",
    "    word_dict = {}\n",
    "    word_list = []\n",
    "    i = 0\n",
    "    for word in words:\n",
    "        if(not word_dict.__contains__(word)):\n",
    "            word_dict[word] = i\n",
    "            word_list.append(word)\n",
    "            i += 1\n",
    "\n",
    "\n",
    "    return word_dict, word_list"
   ]
  },
  {
   "cell_type": "code",
   "execution_count": 3,
   "metadata": {},
   "outputs": [],
   "source": [
    "def get_n_words_random(word_list, n):\n",
    "    random_index = random.randrange(1, len(word_list) -  n - 1)\n",
    "    return np.array(range(random_index - 1,random_index + n - 1)), np.array(range(random_index + n - 1,random_index + n))\n",
    "\n",
    "def get_n_words(word_list, start_index, n):\n",
    "    random_index = start_index\n",
    "    return np.array(range(random_index - 1,random_index + n - 1)), np.array(range(random_index + n - 1,random_index + n))\n",
    "\n",
    "def get_training_data(word_list):\n",
    "    train_x = []\n",
    "    train_y = []\n",
    "    for i in range(len(word_list)/batch_size):\n",
    "        x, y = get_n_words(word_list, i*batch_size, n_steps)\n",
    "        train_x.append(x)\n",
    "        train_y.append(y)\n",
    "    return np.array(train_x), np.array(train_y)\n",
    "\n",
    "\n",
    "words_dict, words_list = get_words_from_file(input_filename)"
   ]
  },
  {
   "cell_type": "code",
   "execution_count": 4,
   "metadata": {},
   "outputs": [],
   "source": [
    "n_inputs = 1\n",
    "n_steps = 5\n",
    "n_neurons = 512\n",
    "n_outputs = 1\n",
    "n_layers = 3\n",
    "learning_rate = 0.001\n",
    "\n",
    "\n",
    "X = tf.placeholder(tf.float32, [None, n_steps, n_inputs])\n",
    "y = tf.placeholder(tf.float32, [None])\n",
    "#cell = tf.contrib.rnn.BasicLSTMCell(n_neurons, forget_bias=1.0)\n",
    "layers = [tf.contrib.rnn.BasicLSTMCell(n_neurons, forget_bias=1.0) for layer in range(n_layers)]\n",
    "cell = tf.contrib.rnn.MultiRNNCell(layers)\n",
    "output_cell = tf.contrib.rnn.OutputProjectionWrapper(cell, output_size = n_outputs)\n",
    "outputs , states = tf.nn.dynamic_rnn(output_cell, X, dtype= tf.float32)\n",
    "loss = tf.reduce_mean(tf.square(outputs - y))\n",
    "optimizer = tf.train.AdamOptimizer(learning_rate=learning_rate)\n",
    "#optimizer = tf.train.RMSPropOptimizer(0.1, 0.9, 0.01)\n",
    "training_op = optimizer.minimize(loss)\n",
    "#correct = tf.nn.in_top_k(logits, y, 1)\n",
    "#accuracy = tf.reduce_mean(tf.cast(correct, tf.float32))"
   ]
  },
  {
   "cell_type": "code",
   "execution_count": null,
   "metadata": {},
   "outputs": [],
   "source": []
  },
  {
   "cell_type": "code",
   "execution_count": 6,
   "metadata": {},
   "outputs": [],
   "source": [
    "def test(sess, outputs):\n",
    "    random_index = 150\n",
    "    num_of_words_to_predict = 5\n",
    "    number_of_words_to_generate = 50\n",
    "    x_new = np.array(range(random_index,random_index + num_of_words_to_predict + number_of_words_to_generate))\n",
    "    result = \"\\n\"\n",
    "    truth_indices = []\n",
    "    for index in x_new:\n",
    "        result += (words_list[index]) + \" \"\n",
    "        truth_indices.append(index)\n",
    "        if(index == random_index + num_of_words_to_predict):\n",
    "            result += ' |<-Input. Truth ->| '\n",
    "    predicted_result = ''\n",
    "    match_count = 0\n",
    "    for i in range(number_of_words_to_generate):\n",
    "        x_new = np.array(range(random_index + i,random_index + i + num_of_words_to_predict))\n",
    "        batch_x = x_new.reshape((-1,n_steps,n_inputs))\n",
    "        y_pred = sess.run(outputs, feed_dict={X: batch_x})\n",
    "        word_index = int(y_pred.max())\n",
    "        predicted_result += (words_list[word_index]) + \" \"\n",
    "        if(word_index == truth_indices[i + num_of_words_to_predict]):\n",
    "            match_count += 1\n",
    "    print(\"Accuracy:\", (match_count/float(number_of_words_to_generate)) * 100)\n",
    "    print(result)\n",
    "    print(\"\\n\\n\\nPredicted words:\")\n",
    "    print(predicted_result)\n",
    "    "
   ]
  },
  {
   "cell_type": "code",
   "execution_count": 7,
   "metadata": {},
   "outputs": [
    {
     "name": "stdout",
     "output_type": "stream",
     "text": [
      "Epoch: 0\n",
      "Iter 0, Minibatch Loss= 453662.5\n",
      "('Accuracy:', 0.0)\n",
      "\n",
      "meeting or exceeding all objectives greatly  |<-Input. Truth ->| enhancing flexibility chairman chief executive richard parsons projecting operating earnings growth around expects revenue wider margins accounts as part efforts resolve an inquiry into market regulators already offered pay settle charges deal under review unable estimate amount needed set aside legal reserves previously intends adjust way with german music \n",
      "\n",
      "\n",
      "\n",
      "Predicted words:\n",
      "benefited benefited benefited benefited benefited benefited benefited benefited benefited benefited benefited benefited benefited benefited benefited benefited benefited benefited benefited benefited benefited benefited benefited benefited benefited benefited benefited benefited benefited benefited benefited benefited benefited benefited benefited benefited benefited benefited benefited benefited benefited benefited benefited benefited benefited benefited benefited benefited benefited benefited \n",
      "Epoch: 5000\n",
      "Iter 5000, Minibatch Loss= 1020.15637207\n",
      "('Accuracy:', 8.0)\n",
      "\n",
      "meeting or exceeding all objectives greatly  |<-Input. Truth ->| enhancing flexibility chairman chief executive richard parsons projecting operating earnings growth around expects revenue wider margins accounts as part efforts resolve an inquiry into market regulators already offered pay settle charges deal under review unable estimate amount needed set aside legal reserves previously intends adjust way with german music \n",
      "\n",
      "\n",
      "\n",
      "Predicted words:\n",
      "enhancing enhancing enhancing flexibility flexibility flexibility chairman chairman chief chief executive executive richard parsons projecting operating growth around wider accounts efforts inquiry regulators pay deal review estimate needed set aside legal legal reserves intends adjust adjust way way with with with with with with german german german german german music \n",
      "Epoch: 10000\n",
      "Iter 10000, Minibatch Loss= 1253.59606934\n",
      "('Accuracy:', 0.0)\n",
      "\n",
      "meeting or exceeding all objectives greatly  |<-Input. Truth ->| enhancing flexibility chairman chief executive richard parsons projecting operating earnings growth around expects revenue wider margins accounts as part efforts resolve an inquiry into market regulators already offered pay settle charges deal under review unable estimate amount needed set aside legal reserves previously intends adjust way with german music \n",
      "\n",
      "\n",
      "\n",
      "Predicted words:\n",
      "set set aside aside legal legal legal reserves reserves previously previously previously intends intends adjust adjust adjust way way way with with german music music publisher publisher publisher publisher publisher publisher publisher bertelsmann's bertelsmann's bertelsmann's purchase purchase purchase purchase stake stake stake europe europe europe europe reported reported reported reported \n",
      "Epoch: 15000\n",
      "Iter 15000, Minibatch Loss= 928.06817627\n",
      "('Accuracy:', 0.0)\n",
      "\n",
      "meeting or exceeding all objectives greatly  |<-Input. Truth ->| enhancing flexibility chairman chief executive richard parsons projecting operating earnings growth around expects revenue wider margins accounts as part efforts resolve an inquiry into market regulators already offered pay settle charges deal under review unable estimate amount needed set aside legal reserves previously intends adjust way with german music \n",
      "\n",
      "\n",
      "\n",
      "Predicted words:\n",
      "unable estimate amount needed set aside legal reserves previously intends adjust way with german music publisher bertelsmann's purchase stake europe reported sale loss value dollar hit highest level euro almost after federal reserve trade deficit stabilise alan greenspan government's willingness curb spending household savings factors may reduce late trading new \n",
      "Epoch: 20000\n",
      "Iter 20000, Minibatch Loss= 847.008422852\n",
      "('Accuracy:', 6.0)\n",
      "\n",
      "meeting or exceeding all objectives greatly  |<-Input. Truth ->| enhancing flexibility chairman chief executive richard parsons projecting operating earnings growth around expects revenue wider margins accounts as part efforts resolve an inquiry into market regulators already offered pay settle charges deal under review unable estimate amount needed set aside legal reserves previously intends adjust way with german music \n",
      "\n",
      "\n",
      "\n",
      "Predicted words:\n",
      "objectives objectives greatly greatly greatly enhancing enhancing flexibility flexibility chairman chief richard parsons operating growth expects revenue margins as efforts an into already charges unable needed aside reserves intends adjust way way with with with with with with with german german german german german german german german german german music \n",
      "Epoch: 25000\n",
      "Iter 25000, Minibatch Loss= 640.91619873\n",
      "('Accuracy:', 4.0)\n",
      "\n",
      "meeting or exceeding all objectives greatly  |<-Input. Truth ->| enhancing flexibility chairman chief executive richard parsons projecting operating earnings growth around expects revenue wider margins accounts as part efforts resolve an inquiry into market regulators already offered pay settle charges deal under review unable estimate amount needed set aside legal reserves previously intends adjust way with german music \n",
      "\n",
      "\n",
      "\n",
      "Predicted words:\n",
      "objectives objectives objectives greatly enhancing flexibility chairman executive projecting growth wider as into charges amount reserves intends way with with german german german music music music music music music music publisher publisher publisher publisher music music publisher publisher music music music music music music music music music music music music \n",
      "Epoch: 30000\n",
      "Iter 30000, Minibatch Loss= 955.054077148\n",
      "('Accuracy:', 4.0)\n",
      "\n",
      "meeting or exceeding all objectives greatly  |<-Input. Truth ->| enhancing flexibility chairman chief executive richard parsons projecting operating earnings growth around expects revenue wider margins accounts as part efforts resolve an inquiry into market regulators already offered pay settle charges deal under review unable estimate amount needed set aside legal reserves previously intends adjust way with german music \n",
      "\n",
      "\n",
      "\n",
      "Predicted words:\n",
      "objectives objectives greatly greatly enhancing flexibility chairman chief executive richard parsons projecting operating operating earnings growth around expects wider as resolve market offered deal unable set legal reserves previously previously intends adjust adjust way way with with with with german german german german german german german german german german music \n",
      "Epoch: 35000\n",
      "Iter 35000, Minibatch Loss= 638.170471191\n",
      "('Accuracy:', 0.0)\n",
      "\n",
      "meeting or exceeding all objectives greatly  |<-Input. Truth ->| enhancing flexibility chairman chief executive richard parsons projecting operating earnings growth around expects revenue wider margins accounts as part efforts resolve an inquiry into market regulators already offered pay settle charges deal under review unable estimate amount needed set aside legal reserves previously intends adjust way with german music \n",
      "\n",
      "\n",
      "\n",
      "Predicted words:\n",
      "as part efforts resolve an inquiry into market regulators already offered pay settle charges deal under review review unable estimate amount needed set set aside legal reserves previously previously intends adjust adjust way with german german music publisher publisher bertelsmann's bertelsmann's purchase stake stake europe europe reported reported book sale \n",
      "Epoch: 40000\n",
      "Iter 40000, Minibatch Loss= 345.736328125\n",
      "('Accuracy:', 0.0)\n",
      "\n",
      "meeting or exceeding all objectives greatly  |<-Input. Truth ->| enhancing flexibility chairman chief executive richard parsons projecting operating earnings growth around expects revenue wider margins accounts as part efforts resolve an inquiry into market regulators already offered pay settle charges deal under review unable estimate amount needed set aside legal reserves previously intends adjust way with german music \n",
      "\n",
      "\n",
      "\n",
      "Predicted words:\n",
      "into market regulators already offered settle charges deal under unable estimate amount needed aside legal reserves intends adjust way german music publisher purchase stake europe reported sale loss value hit highest level against euro almost federal reserve head trade deficit stabilise alan greenspan highlighted government's willingness curb spending rising household \n",
      "Epoch: 45000\n",
      "Iter 45000, Minibatch Loss= 243.761688232\n"
     ]
    },
    {
     "name": "stdout",
     "output_type": "stream",
     "text": [
      "('Accuracy:', 0.0)\n",
      "\n",
      "meeting or exceeding all objectives greatly  |<-Input. Truth ->| enhancing flexibility chairman chief executive richard parsons projecting operating earnings growth around expects revenue wider margins accounts as part efforts resolve an inquiry into market regulators already offered pay settle charges deal under review unable estimate amount needed set aside legal reserves previously intends adjust way with german music \n",
      "\n",
      "\n",
      "\n",
      "Predicted words:\n",
      "as part efforts resolve inquiry into market regulators offered pay settle charges under review unable estimate needed reserves intends intends adjust way way with german music publisher bertelsmann's purchase stake europe reported book sale loss value dollar hit highest level against euro almost after federal reserve reserve head trade deficit \n"
     ]
    }
   ],
   "source": [
    "n_iterations = 50000\n",
    "batch_size = 50\n",
    "batches = 50\n",
    "learning_rate = 0.01\n",
    "\n",
    "\n",
    "init = tf.global_variables_initializer()\n",
    "loss_track = []\n",
    "with tf.Session() as sess:\n",
    "    init.run()\n",
    "    for epoch in range(n_iterations):\n",
    "        for i in range((len(words_list) - n_steps)/batch_size):\n",
    "            batch_x, batch_y = get_n_words(words_list, i*batch_size, n_steps)\n",
    "            batch_y =  batch_y.reshape((-1))\n",
    "            batch_x = batch_x.reshape((-1,n_steps,n_inputs))\n",
    "            sess.run(training_op, feed_dict={X: batch_x, y: batch_y})\n",
    "        if epoch % 5000 == 0:\n",
    "            print \"Epoch:\", epoch\n",
    "            mse = loss.eval(feed_dict={X: batch_x,y: batch_y})\n",
    "            loss_track.append(mse)\n",
    "            print (\"Iter \" + str(epoch) + \", Minibatch Loss= \" + \\\n",
    "                    \"{}\".format(mse) )\n",
    "            test(sess, outputs)\n",
    " \n",
    "            "
   ]
  },
  {
   "cell_type": "markdown",
   "metadata": {},
   "source": [
    "*Comments* - This code takes a lot of time to run, and tuning it for accuracy is challenging, since even if one word is out of sync, the index based accuracy calculation goes for a toss. I evaluated the quality of the prediction based on how the text reads. The code takes a lot of time to run for 50000 iterations on my machine since its a 5 year old laptop. But the text generated somewhat makes sense, even if not precisely correct.\n",
    "\n",
    "Also, the plot below shows the loss going down with each iteration."
   ]
  },
  {
   "cell_type": "code",
   "execution_count": 8,
   "metadata": {},
   "outputs": [
    {
     "data": {
      "text/plain": [
       "[<matplotlib.lines.Line2D at 0x116bd1f50>]"
      ]
     },
     "execution_count": 8,
     "metadata": {},
     "output_type": "execute_result"
    },
    {
     "data": {
      "image/png": "[encoded data removed]",
      "text/plain": [
       "<matplotlib.figure.Figure at 0x115b04850>"
      ]
     },
     "metadata": {},
     "output_type": "display_data"
    }
   ],
   "source": [
    "            \n",
    "%matplotlib inline\n",
    "import matplotlib.pyplot as plt\n",
    "plt.plot(loss_track)"
   ]
  },
  {
   "cell_type": "code",
   "execution_count": null,
   "metadata": {},
   "outputs": [],
   "source": []
  },
  {
   "cell_type": "code",
   "execution_count": null,
   "metadata": {},
   "outputs": [],
   "source": []
  },
  {
   "cell_type": "code",
   "execution_count": null,
   "metadata": {},
   "outputs": [],
   "source": []
  },
  {
   "cell_type": "code",
   "execution_count": null,
   "metadata": {},
   "outputs": [],
   "source": []
  },
  {
   "cell_type": "code",
   "execution_count": null,
   "metadata": {},
   "outputs": [],
   "source": []
  },
  {
   "cell_type": "code",
   "execution_count": null,
   "metadata": {},
   "outputs": [],
   "source": []
  },
  {
   "cell_type": "code",
   "execution_count": null,
   "metadata": {},
   "outputs": [],
   "source": []
  },
  {
   "cell_type": "code",
   "execution_count": null,
   "metadata": {},
   "outputs": [],
   "source": []
  },
  {
   "cell_type": "code",
   "execution_count": null,
   "metadata": {},
   "outputs": [],
   "source": []
  },
  {
   "cell_type": "code",
   "execution_count": null,
   "metadata": {},
   "outputs": [],
   "source": []
  },
  {
   "cell_type": "code",
   "execution_count": null,
   "metadata": {},
   "outputs": [],
   "source": []
  },
  {
   "cell_type": "code",
   "execution_count": null,
   "metadata": {},
   "outputs": [],
   "source": []
  },
  {
   "cell_type": "code",
   "execution_count": null,
   "metadata": {},
   "outputs": [],
   "source": []
  },
  {
   "cell_type": "code",
   "execution_count": null,
   "metadata": {},
   "outputs": [],
   "source": []
  },
  {
   "cell_type": "code",
   "execution_count": null,
   "metadata": {},
   "outputs": [],
   "source": []
  },
  {
   "cell_type": "code",
   "execution_count": null,
   "metadata": {},
   "outputs": [],
   "source": []
  },
  {
   "cell_type": "code",
   "execution_count": null,
   "metadata": {},
   "outputs": [],
   "source": []
  },
  {
   "cell_type": "code",
   "execution_count": null,
   "metadata": {},
   "outputs": [],
   "source": []
  },
  {
   "cell_type": "code",
   "execution_count": null,
   "metadata": {},
   "outputs": [],
   "source": []
  },
  {
   "cell_type": "code",
   "execution_count": null,
   "metadata": {},
   "outputs": [],
   "source": []
  }
 ],
 "metadata": {
  "kernelspec": {
   "display_name": "Python 2",
   "language": "python",
   "name": "python2"
  },
  "language_info": {
   "codemirror_mode": {
    "name": "ipython",
    "version": 2
   },
   "file_extension": ".py",
   "mimetype": "text/x-python",
   "name": "python",
   "nbconvert_exporter": "python",
   "pygments_lexer": "ipython2",
   "version": "2.7.10"
  }
 },
 "nbformat": 4,
 "nbformat_minor": 2
}
