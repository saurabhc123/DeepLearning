{
 "cells": [
  {
   "cell_type": "code",
   "execution_count": 1,
   "metadata": {
    "collapsed": true
   },
   "outputs": [],
   "source": [
    "import numpy as np\n",
    "import csv as csv\n",
    "\n",
    "number_of_states = 2\n",
    "number_of_actions = 2\n",
    "\n",
    "Q = np.zeros((number_of_states, number_of_actions),dtype=np.float16)\n",
    "counts = np.zeros((number_of_states, number_of_actions),dtype=np.int16)\n",
    "gamma = 0.9"
   ]
  },
  {
   "cell_type": "code",
   "execution_count": 2,
   "metadata": {
    "collapsed": true
   },
   "outputs": [],
   "source": [
    "def get_alpha():\n",
    "    return 0.1\n",
    "\n",
    "def get_values_from_sample(s):\n",
    "    return int(s[0]) - 1, int(s[1]) - 1,int(s[2]) - 1,int(s[3])\n",
    "\n",
    "def getMaxForState(new_state):\n",
    "    return np.max(Q[new_state])\n",
    "\n",
    "def run_Q_Learning(samples):\n",
    "    for h in range(1,horizons):\n",
    "        total_change = 0\n",
    "        for s in samples:\n",
    "            initial_state,action,new_state,reward = get_values_from_sample(s)\n",
    "            alpha = get_alpha()\n",
    "            old_Q_s_a = Q[initial_state][action]\n",
    "            sample = reward + gamma * getMaxForState(new_state)\n",
    "            Q[initial_state][action] = (1 - alpha) * old_Q_s_a + alpha * sample\n",
    "            change = Q[initial_state][action] - old_Q_s_a\n",
    "            total_change += change\n",
    "            #print Q\n",
    "        print total_change\n",
    "        if(total_change < 0.01):\n",
    "            print \"Converged at horizon:\", h\n",
    "            print Q\n",
    "            return\n",
    "    print Q"
   ]
  },
  {
   "cell_type": "code",
   "execution_count": 3,
   "metadata": {
    "collapsed": true
   },
   "outputs": [],
   "source": [
    "def load_data():\n",
    "    samples = []\n",
    "    inputFilenameWithPath = 'q-learning.dat'\n",
    "    with open(inputFilenameWithPath, 'rb') as csvfile:\n",
    "        reader = csv.reader(csvfile, delimiter=',')\n",
    "        for row in reader:\n",
    "            samples.append(row)\n",
    "    return samples"
   ]
  },
  {
   "cell_type": "code",
   "execution_count": 4,
   "metadata": {},
   "outputs": [
    {
     "name": "stdout",
     "output_type": "stream",
     "text": [
      "3.03210449219\n",
      "2.99060058594\n",
      "2.98315429688\n",
      "2.97265625\n",
      "2.931640625\n",
      "2.8955078125\n",
      "2.8388671875\n",
      "2.767578125\n",
      "2.69921875\n",
      "2.615234375\n",
      "2.53125\n",
      "2.4296875\n",
      "2.35546875\n",
      "2.23828125\n",
      "2.18359375\n",
      "2.09765625\n",
      "1.984375\n",
      "1.9296875\n",
      "1.859375\n",
      "1.765625\n",
      "1.6953125\n",
      "1.6171875\n",
      "1.5390625\n",
      "1.4921875\n",
      "1.421875\n",
      "1.3671875\n",
      "1.3359375\n",
      "1.28125\n",
      "1.1640625\n",
      "1.0859375\n",
      "1.0703125\n",
      "1.0390625\n",
      "1.0078125\n",
      "0.953125\n",
      "0.8671875\n",
      "0.8359375\n",
      "0.828125\n",
      "0.7734375\n",
      "0.7421875\n",
      "0.71875\n",
      "0.6875\n",
      "0.671875\n",
      "0.640625\n",
      "0.59375\n",
      "0.53125\n",
      "0.5\n",
      "0.5\n",
      "0.46875\n",
      "0.46875\n",
      "0.4375\n",
      "0.421875\n",
      "0.4375\n",
      "0.40625\n",
      "0.390625\n",
      "0.40625\n",
      "0.375\n",
      "0.359375\n",
      "0.28125\n",
      "0.296875\n",
      "0.296875\n",
      "0.28125\n",
      "0.25\n",
      "0.1875\n",
      "0.203125\n",
      "0.203125\n",
      "0.1875\n",
      "0.203125\n",
      "0.171875\n",
      "0.1875\n",
      "0.15625\n",
      "0.15625\n",
      "0.171875\n",
      "0.171875\n",
      "0.15625\n",
      "0.171875\n",
      "0.171875\n",
      "0.171875\n",
      "0.125\n",
      "0.125\n",
      "0.125\n",
      "0.125\n",
      "0.125\n",
      "0.125\n",
      "0.125\n",
      "0.109375\n",
      "0.125\n",
      "0.125\n",
      "0.125\n",
      "0.125\n",
      "0.109375\n",
      "0.125\n",
      "0.09375\n",
      "0.09375\n",
      "0.109375\n",
      "0.09375\n",
      "0.078125\n",
      "0.046875\n",
      "0.03125\n",
      "0.0\n",
      "Converged at horizon: 99\n",
      "[[ 21.59375   23.09375 ]\n",
      " [ 22.609375  20.28125 ]]\n"
     ]
    }
   ],
   "source": [
    "horizons = 200\n",
    "samples = load_data()\n",
    "run_Q_Learning(samples)"
   ]
  },
  {
   "cell_type": "code",
   "execution_count": null,
   "metadata": {
    "collapsed": true
   },
   "outputs": [],
   "source": []
  }
 ],
 "metadata": {
  "kernelspec": {
   "display_name": "Python 2",
   "language": "python",
   "name": "python2"
  },
  "language_info": {
   "codemirror_mode": {
    "name": "ipython",
    "version": 2
   },
   "file_extension": ".py",
   "mimetype": "text/x-python",
   "name": "python",
   "nbconvert_exporter": "python",
   "pygments_lexer": "ipython2",
   "version": "2.7.10"
  }
 },
 "nbformat": 4,
 "nbformat_minor": 2
}
