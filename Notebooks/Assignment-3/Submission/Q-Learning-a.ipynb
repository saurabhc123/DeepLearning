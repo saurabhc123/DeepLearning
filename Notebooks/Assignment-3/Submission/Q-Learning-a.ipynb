{
 "cells": [
  {
   "cell_type": "code",
   "execution_count": 7,
   "metadata": {
    "collapsed": true
   },
   "outputs": [],
   "source": [
    "import numpy as np\n",
    "import csv as csv\n",
    "\n",
    "number_of_states = 2\n",
    "number_of_actions = 2\n",
    "\n",
    "Q = np.zeros((number_of_states, number_of_actions),dtype=np.float16)\n",
    "counts = np.zeros((number_of_states, number_of_actions),dtype=np.int16)\n",
    "gamma = 0.9"
   ]
  },
  {
   "cell_type": "code",
   "execution_count": 8,
   "metadata": {
    "collapsed": true
   },
   "outputs": [],
   "source": [
    "def get_alpha():\n",
    "    return 0.1\n",
    "\n",
    "def get_values_from_sample(s):\n",
    "    return int(s[0]) - 1, int(s[1]) - 1,int(s[2]) - 1,int(s[3])\n",
    "\n",
    "def getMaxForState(new_state):\n",
    "    return np.max(Q[new_state])\n",
    "\n",
    "def run_Q_Learning(samples):\n",
    "    for s in samples:\n",
    "        initial_state,action,new_state,reward = get_values_from_sample(s)\n",
    "        alpha = get_alpha()\n",
    "        old_Q_s_a = Q[initial_state][action]\n",
    "        maxForNewState = getMaxForState(new_state)\n",
    "        sample = reward + gamma * maxForNewState\n",
    "        Q[initial_state][action] = (1 - alpha) * old_Q_s_a + alpha * sample\n",
    "        #print(\"State:\",new_state,\"Max Value:\",maxForNewState)\n",
    "        #print Q\n",
    "    print Q\n",
    "\n",
    "def load_data():\n",
    "    samples = []\n",
    "    inputFilenameWithPath = 'q-learning.dat'\n",
    "    with open(inputFilenameWithPath, 'rb') as csvfile:\n",
    "        reader = csv.reader(csvfile, delimiter=',')\n",
    "        for row in reader:\n",
    "            samples.append(row)\n",
    "    return samples"
   ]
  },
  {
   "cell_type": "code",
   "execution_count": 9,
   "metadata": {},
   "outputs": [
    {
     "name": "stdout",
     "output_type": "stream",
     "text": [
      "[[ 1.08105469  1.18359375]\n",
      " [ 0.671875    0.09558105]]\n"
     ]
    }
   ],
   "source": [
    "samples = load_data()\n",
    "run_Q_Learning(samples)"
   ]
  },
  {
   "cell_type": "markdown",
   "metadata": {},
   "source": [
    "The above matrix is the result after the first iteration."
   ]
  },
  {
   "cell_type": "code",
   "execution_count": null,
   "metadata": {
    "collapsed": true
   },
   "outputs": [],
   "source": []
  }
 ],
 "metadata": {
  "kernelspec": {
   "display_name": "Python 2",
   "language": "python",
   "name": "python2"
  },
  "language_info": {
   "codemirror_mode": {
    "name": "ipython",
    "version": 2
   },
   "file_extension": ".py",
   "mimetype": "text/x-python",
   "name": "python",
   "nbconvert_exporter": "python",
   "pygments_lexer": "ipython2",
   "version": "2.7.10"
  }
 },
 "nbformat": 4,
 "nbformat_minor": 2
}
