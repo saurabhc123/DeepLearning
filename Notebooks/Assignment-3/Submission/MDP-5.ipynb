{
 "cells": [
  {
   "cell_type": "code",
   "execution_count": 1,
   "metadata": {
    "collapsed": true
   },
   "outputs": [],
   "source": [
    "import os\n",
    "import numpy as np\n",
    "import math as math\n",
    "import matplotlib.pyplot as plt\n",
    "from skimage.transform import resize\n",
    "\n",
    "\n",
    "class Gridcell:\n",
    "    def __init__(self,value,neighbors, rowIndex, colIndex):\n",
    "        self.value = value\n",
    "        self.neighbors = neighbors\n",
    "        self.rowIndex = rowIndex\n",
    "        self.colIndex = colIndex\n",
    "        self.is_terminal = False\n",
    "\n",
    "    def set_terminal(self, terminal):\n",
    "        self.is_terminal = terminal\n",
    "\n",
    "    def set_neighbors(self, indices):\n",
    "        for i in indices:\n",
    "            self.neighbors.append(Neighbor(input[i], i, 1.0))\n",
    "\n",
    "class Neighbor:\n",
    "    def __init__(self, cell, index, probability):\n",
    "        self.cell = cell\n",
    "        self.probability = probability\n",
    "        self.index = index\n",
    "\n",
    "    def is_terminal(self):\n",
    "        if not self.index == 3 | self.index == 7:\n",
    "            return True\n",
    "        else:\n",
    "            return False"
   ]
  },
  {
   "cell_type": "code",
   "execution_count": 2,
   "metadata": {
    "collapsed": true
   },
   "outputs": [],
   "source": [
    "rows = 3\n",
    "cols = 4\n",
    "input = []\n",
    "for i in range(rows):\n",
    "    col_values = []\n",
    "    for j in range(cols):\n",
    "        col_values.append(Gridcell(0,[],i,j))\n",
    "    input.append(col_values)\n",
    "\n",
    "\n",
    "input[0][3].value = 10\n",
    "input[1][3].value = -10\n",
    "input[0][3].set_terminal(True)\n",
    "input[1][3].set_terminal(True)\n",
    "input[2][1].set_terminal(True)\n",
    "input[2][1].value = 0"
   ]
  },
  {
   "cell_type": "code",
   "execution_count": 3,
   "metadata": {
    "collapsed": true
   },
   "outputs": [],
   "source": [
    "\n",
    "horizon = 50\n",
    "number_of_states = 13\n",
    "max_reward = np.float16(10)\n",
    "number_of_actions = 5\n",
    "gamma = 0.9\n",
    "MAX_REWARD = 10.0\n",
    "q_states = np.zeros((number_of_states,number_of_actions),dtype=np.float16)\n",
    "terminal = np.zeros((number_of_states), dtype = np.bool)\n",
    "R = np.ones((number_of_states,number_of_states),dtype=np.float16)\n",
    "\n",
    "R = -1 * R\n",
    "R[3][12] = 10.0\n",
    "R[7][12] = -10.0"
   ]
  },
  {
   "cell_type": "code",
   "execution_count": 4,
   "metadata": {
    "collapsed": true
   },
   "outputs": [],
   "source": [
    "def get_state_transition_reward(state, new_state):\n",
    "    return R[state][new_state]\n",
    "\n",
    "def get_state_transition_probability(state, new_state):\n",
    "    return 1.0\n",
    "\n",
    "def get_new_states(input_cell):\n",
    "    states = []\n",
    "    if(input_cell.is_terminal):\n",
    "        states.append((Gridcell(0,[],3,0),'exit'))\n",
    "        return states\n",
    "    #go left\n",
    "    if(input_cell.colIndex > 0):\n",
    "        states.append((input[input_cell.rowIndex][input_cell.colIndex - 1],'left'))\n",
    "    #go right\n",
    "    if(input_cell.colIndex < cols - 1):\n",
    "        states.append((input[input_cell.rowIndex][input_cell.colIndex + 1],'right'))\n",
    "    #go up\n",
    "    if(input_cell.rowIndex > 0):\n",
    "        states.append((input[input_cell.rowIndex - 1][input_cell.colIndex],'up'))\n",
    "    #go down\n",
    "    if(input_cell.rowIndex < rows - 1):\n",
    "        states.append((input[input_cell.rowIndex + 1][input_cell.colIndex],'down'))\n",
    "\n",
    "    return states\n",
    "\n",
    "def get_new_state(input_cell, action):\n",
    "    if action == 0: #go left\n",
    "        if(input_cell.colIndex > 0):\n",
    "            return input[input_cell.rowIndex][input_cell.colIndex - 1]\n",
    "    elif action == 1: #go right\n",
    "        if(input_cell.colIndex < cols - 1):\n",
    "            return input[input_cell.rowIndex][input_cell.colIndex + 1]\n",
    "    elif action == 2: #go up\n",
    "        if(input_cell.rowIndex > 0):\n",
    "            return input[input_cell.rowIndex - 1][input_cell.colIndex]\n",
    "    elif action == 3: #go down\n",
    "        if(input_cell.rowIndex < rows - 1):\n",
    "            return input[input_cell.rowIndex + 1][input_cell.colIndex]\n",
    "    elif action == 4: #exit\n",
    "        return None\n",
    "\n",
    "def get_state_index(input_cell):\n",
    "    m = cols * (input_cell.rowIndex) + input_cell.colIndex\n",
    "    return m;\n",
    "\n",
    "def perform_value_iteration(input):\n",
    "    V = np.zeros((horizon,number_of_states), dtype=np.float16)\n",
    "    for h in range(0,1):\n",
    "        for i in range(rows):\n",
    "            for j in range(cols):\n",
    "                V[h][i*cols + j] = 0.0\n",
    "            input.append(col_values)\n",
    "\n",
    "    for h in range(1,horizon):\n",
    "        previous_sum = np.sum(V[h - 1])\n",
    "        for i in range(0,number_of_states-1):\n",
    "            state = i\n",
    "            if(terminal[state]):\n",
    "                V[h][state] = V[h-1][state]\n",
    "                continue\n",
    "            values_so_far = []\n",
    "            m = i/(rows +1)\n",
    "            n = i%cols\n",
    "            #print m,n\n",
    "            for state_context in get_new_states(input[m][n]):\n",
    "                new_state = state_context[0]\n",
    "                action = state_context[1]\n",
    "                new_state_index = get_state_index(new_state)\n",
    "                state_transition_probability = get_state_transition_probability(state, new_state_index)\n",
    "                state_transition_reward = get_state_transition_reward(state, new_state_index)\n",
    "                discounted_future_reward = gamma * V[h-1][new_state_index]\n",
    "                value = state_transition_probability *(state_transition_reward +\n",
    "                                                       discounted_future_reward)\n",
    "                values_so_far.append(value)\n",
    "                if(action == 'exit'):\n",
    "                    terminal[state] = True\n",
    "            V[h][state] = max(values_so_far)\n",
    "            if(V[h][state] >= MAX_REWARD):\n",
    "                terminal[state] = True\n",
    "        new_sum = np.sum(V[h])\n",
    "        if(h > 1): #Let the first iteration go through for convergence check.\n",
    "            if(new_sum - previous_sum) < 0.01:\n",
    "                print \"Converged at iteration:{}\".format(h)\n",
    "                print np.array(V[h][0:number_of_states -1]).reshape((3,4))\n",
    "                return\n",
    "        #print V[h][0:number_of_states -1]"
   ]
  },
  {
   "cell_type": "code",
   "execution_count": 5,
   "metadata": {},
   "outputs": [
    {
     "name": "stdout",
     "output_type": "stream",
     "text": [
      "Converged at iteration:7\n",
      "[[  4.578125     6.19921875   8.          10.        ]\n",
      " [  3.12109375   4.578125     6.19921875 -10.        ]\n",
      " [  1.80859375  -1.           4.578125     3.12109375]]\n"
     ]
    }
   ],
   "source": [
    "perform_value_iteration(input)"
   ]
  },
  {
   "cell_type": "markdown",
   "metadata": {},
   "source": [
    "The iteration number starts with 1."
   ]
  },
  {
   "cell_type": "code",
   "execution_count": null,
   "metadata": {
    "collapsed": true
   },
   "outputs": [],
   "source": []
  }
 ],
 "metadata": {
  "kernelspec": {
   "display_name": "Python 2",
   "language": "python",
   "name": "python2"
  },
  "language_info": {
   "codemirror_mode": {
    "name": "ipython",
    "version": 2
   },
   "file_extension": ".py",
   "mimetype": "text/x-python",
   "name": "python",
   "nbconvert_exporter": "python",
   "pygments_lexer": "ipython2",
   "version": "2.7.10"
  }
 },
 "nbformat": 4,
 "nbformat_minor": 2
}
