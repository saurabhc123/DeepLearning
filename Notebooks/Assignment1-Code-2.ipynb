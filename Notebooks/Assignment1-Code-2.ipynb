{
 "cells": [
  {
   "cell_type": "code",
   "execution_count": 14,
   "metadata": {
    "collapsed": true
   },
   "outputs": [],
   "source": [
    "import numpy as np\n",
    "from random import seed\n",
    "from random import random\n",
    "from math import exp\n",
    "import tensorflow as tf\n",
    "import sklearn as skl\n",
    "from sklearn.metrics import f1_score"
   ]
  },
  {
   "cell_type": "code",
   "execution_count": 15,
   "metadata": {
    "collapsed": true
   },
   "outputs": [],
   "source": [
    "inputFilenameWithPath = 'train_data.txt'\n",
    "testFilenameWithPath = 'test_data.txt'\n",
    "inputData = np.loadtxt(inputFilenameWithPath, delimiter=\",\")\n",
    "testData = np.loadtxt(testFilenameWithPath, delimiter=\",\")\n",
    "n_inputs = len(inputData[0]) - 1\n",
    "n_outputs = len(set([row[-1] for row in inputData]))\n",
    "n_neurons = 3;\n",
    "X = tf.placeholder(tf.float32, shape=(None, n_inputs), name = \"X\")\n",
    "#y = tf.placeholder(tf.float32, shape=(None, 1), name = \"y\")\n",
    "y = tf.placeholder(tf.int32, [None])\n",
    "y_one_hot = tf.one_hot( y , 2 )"
   ]
  },
  {
   "cell_type": "code",
   "execution_count": 16,
   "metadata": {
    "collapsed": true
   },
   "outputs": [],
   "source": [
    "def predict(row):\n",
    "\treturn np.argmax(row, axis=0)\n"
   ]
  },
  {
   "cell_type": "code",
   "execution_count": 17,
   "metadata": {
    "collapsed": true
   },
   "outputs": [],
   "source": [
    "def build_network():\n",
    "    learning_rate = 0.01\n",
    "    intLabelling = np.vectorize(lambda x: int(x))\n",
    "    softmax_op = np.vectorize(lambda data: predict(data))\n",
    "    with tf.name_scope(\"dnn\"):\n",
    "        hidden1 = tf.layers.dense(X,n_neurons, name=\"hidden1\",activation=tf.nn.sigmoid)\n",
    "        hidden2 = tf.layers.dense(hidden1,n_neurons, name=\"hidden2\",activation=tf.nn.sigmoid)\n",
    "        logits = tf.layers.dense(hidden2,n_outputs, name=\"outputs\")\n",
    "    with tf.name_scope(\"loss\"):\n",
    "        xentropy = tf.nn.softmax_cross_entropy_with_logits(labels=y_one_hot, logits = logits)\n",
    "        loss = tf.reduce_mean(xentropy, name=\"loss\")\n",
    "    with tf.name_scope(\"train\"):\n",
    "        optimizer = tf.train.GradientDescentOptimizer(learning_rate)\n",
    "        training_op = optimizer.minimize(loss)\n",
    "    with tf.name_scope(\"eval\"):\n",
    "        correct = tf.nn.in_top_k(logits, y, 1)\n",
    "        accuracy = tf.reduce_mean(tf.cast(correct, tf.float32))\n",
    "    init = tf.global_variables_initializer()\n",
    "    n_iterations = 50\n",
    "    batch_size = 10\n",
    "    n_epochs = 50\n",
    "    with tf.Session() as sess:\n",
    "        init.run()\n",
    "        for epoch in range(n_epochs): #For each epoch\n",
    "            for i in range(n_iterations):\n",
    "                random_index = np.random.randint(n_iterations)\n",
    "                inputRows = inputData[random_index:random_index+batch_size,:]\n",
    "                #print(inputRow)\n",
    "                labels = intLabelling(inputRows[:,2])\n",
    "                sess.run(training_op, feed_dict={X:inputRows[:,:2], y:labels})\n",
    "            acc_train = accuracy.eval(feed_dict={X:inputRows[:,:2], y:labels})\n",
    "            epoch_loss = loss.eval(feed_dict={X:inputRows[:,:2], y:labels})\n",
    "            print('Epoch=%d, Train accuracy:=%.3f , Loss:=%.3f' % (epoch, acc_train, epoch_loss))\n",
    "            \n",
    "        \n",
    "        #Now make the predictions with the trained network\n",
    "        predictions = logits.eval(feed_dict={X:testData[:,:2]})\n",
    "        trueLabels = intLabelling(testData[:,2])\n",
    "        acc_test = accuracy.eval(feed_dict={X:predictions, y:trueLabels})\n",
    "        print(\"Test accuracy:\",acc_test)\n",
    "        return predictions\n",
    "\n",
    "        "
   ]
  },
  {
   "cell_type": "code",
   "execution_count": 18,
   "metadata": {},
   "outputs": [
    {
     "name": "stdout",
     "output_type": "stream",
     "text": [
      "Epoch=0, Train accuracy:=0.500 , Loss:=0.742\n",
      "Epoch=1, Train accuracy:=0.500 , Loss:=0.727\n",
      "Epoch=2, Train accuracy:=0.500 , Loss:=0.719\n",
      "Epoch=3, Train accuracy:=0.500 , Loss:=0.711\n",
      "Epoch=4, Train accuracy:=0.500 , Loss:=0.703\n",
      "Epoch=5, Train accuracy:=0.500 , Loss:=0.694\n",
      "Epoch=6, Train accuracy:=0.500 , Loss:=0.684\n",
      "Epoch=7, Train accuracy:=0.500 , Loss:=0.677\n",
      "Epoch=8, Train accuracy:=0.500 , Loss:=0.670\n",
      "Epoch=9, Train accuracy:=0.800 , Loss:=0.666\n",
      "Epoch=10, Train accuracy:=0.900 , Loss:=0.658\n",
      "Epoch=11, Train accuracy:=1.000 , Loss:=0.642\n",
      "Epoch=12, Train accuracy:=1.000 , Loss:=0.632\n",
      "Epoch=13, Train accuracy:=1.000 , Loss:=0.627\n",
      "Epoch=14, Train accuracy:=1.000 , Loss:=0.620\n",
      "Epoch=15, Train accuracy:=0.900 , Loss:=0.613\n",
      "Epoch=16, Train accuracy:=1.000 , Loss:=0.588\n",
      "Epoch=17, Train accuracy:=1.000 , Loss:=0.592\n",
      "Epoch=18, Train accuracy:=1.000 , Loss:=0.562\n",
      "Epoch=19, Train accuracy:=1.000 , Loss:=0.552\n",
      "Epoch=20, Train accuracy:=1.000 , Loss:=0.539\n",
      "Epoch=21, Train accuracy:=1.000 , Loss:=0.523\n",
      "Epoch=22, Train accuracy:=1.000 , Loss:=0.521\n",
      "Epoch=23, Train accuracy:=1.000 , Loss:=0.490\n",
      "Epoch=24, Train accuracy:=1.000 , Loss:=0.503\n",
      "Epoch=25, Train accuracy:=1.000 , Loss:=0.470\n",
      "Epoch=26, Train accuracy:=1.000 , Loss:=0.446\n",
      "Epoch=27, Train accuracy:=1.000 , Loss:=0.418\n",
      "Epoch=28, Train accuracy:=1.000 , Loss:=0.410\n",
      "Epoch=29, Train accuracy:=1.000 , Loss:=0.381\n",
      "Epoch=30, Train accuracy:=1.000 , Loss:=0.355\n",
      "Epoch=31, Train accuracy:=1.000 , Loss:=0.347\n",
      "Epoch=32, Train accuracy:=1.000 , Loss:=0.339\n",
      "Epoch=33, Train accuracy:=1.000 , Loss:=0.308\n",
      "Epoch=34, Train accuracy:=1.000 , Loss:=0.295\n",
      "Epoch=35, Train accuracy:=1.000 , Loss:=0.273\n",
      "Epoch=36, Train accuracy:=1.000 , Loss:=0.256\n",
      "Epoch=37, Train accuracy:=1.000 , Loss:=0.244\n",
      "Epoch=38, Train accuracy:=1.000 , Loss:=0.246\n",
      "Epoch=39, Train accuracy:=1.000 , Loss:=0.218\n",
      "Epoch=40, Train accuracy:=1.000 , Loss:=0.230\n",
      "Epoch=41, Train accuracy:=1.000 , Loss:=0.196\n",
      "Epoch=42, Train accuracy:=1.000 , Loss:=0.207\n",
      "Epoch=43, Train accuracy:=1.000 , Loss:=0.190\n",
      "Epoch=44, Train accuracy:=1.000 , Loss:=0.187\n",
      "Epoch=45, Train accuracy:=1.000 , Loss:=0.155\n",
      "Epoch=46, Train accuracy:=1.000 , Loss:=0.171\n",
      "Epoch=47, Train accuracy:=1.000 , Loss:=0.143\n",
      "Epoch=48, Train accuracy:=1.000 , Loss:=0.150\n",
      "Epoch=49, Train accuracy:=1.000 , Loss:=0.135\n",
      "('Test accuracy:', 0.99699998)\n"
     ]
    }
   ],
   "source": [
    "#Call the method to invoke the whole training and test workflows\n",
    "predictions = build_network()\n",
    "\n",
    "\n"
   ]
  },
  {
   "cell_type": "code",
   "execution_count": 19,
   "metadata": {},
   "outputs": [
    {
     "name": "stdout",
     "output_type": "stream",
     "text": [
      "\n",
      "Test Precision=1.00\n",
      "Test Recall=1.00\n",
      "Test F1 Score=1.00\n"
     ]
    }
   ],
   "source": [
    "#print(predictions)\n",
    "preds = []\n",
    "for i in range(len(predictions)):\n",
    "    preds.append(predict(predictions[i,:]))\n",
    "\n",
    "preds\n",
    "intLabelling = np.vectorize(lambda x: int(x))\n",
    "truth = intLabelling(testData[:,2])\n",
    "f1 = skl.metrics.f1_score(truth, preds, average='micro')  \n",
    "precision = skl.metrics.precision_score(truth, preds, average='micro')\n",
    "recall = skl.metrics.recall_score(truth, preds, average='micro')\n",
    "print('\\nTest Precision=%.2f' % (precision))\n",
    "print('Test Recall=%.2f' % (recall))\n",
    "print('Test F1 Score=%.2f' % (f1))\n",
    "    "
   ]
  },
  {
   "cell_type": "code",
   "execution_count": null,
   "metadata": {
    "collapsed": true
   },
   "outputs": [],
   "source": []
  }
 ],
 "metadata": {
  "kernelspec": {
   "display_name": "Python 2",
   "language": "python",
   "name": "python2"
  },
  "language_info": {
   "codemirror_mode": {
    "name": "ipython",
    "version": 2
   },
   "file_extension": ".py",
   "mimetype": "text/x-python",
   "name": "python",
   "nbconvert_exporter": "python",
   "pygments_lexer": "ipython2",
   "version": "2.7.10"
  }
 },
 "nbformat": 4,
 "nbformat_minor": 2
}
