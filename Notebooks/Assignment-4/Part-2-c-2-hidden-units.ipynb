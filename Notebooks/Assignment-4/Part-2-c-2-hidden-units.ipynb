{
 "cells": [
  {
   "cell_type": "code",
   "execution_count": 1,
   "metadata": {
    "collapsed": true
   },
   "outputs": [],
   "source": [
    "import tensorflow as tf\n",
    "from tensorflow.contrib.layers import fully_connected\n",
    "from tensorflow.examples.tutorials.mnist import input_data\n",
    "import os\n",
    "import numpy as np\n",
    "import matplotlib.pyplot as plt\n",
    "from skimage.transform import resize\n",
    "import math as math\n",
    "from sklearn.neighbors import NearestNeighbors\n",
    "import sklearn as skl\n",
    "from sklearn.metrics import f1_score"
   ]
  },
  {
   "cell_type": "code",
   "execution_count": 2,
   "metadata": {
    "collapsed": true
   },
   "outputs": [],
   "source": [
    "DATA_DIR = 'MNIST'\n",
    "STEPS = 1000\n",
    "MINIBATCH_SIZE = 50\n",
    "\n",
    "imgDim = 28\n",
    "imgChannels = 1\n",
    "\n",
    "input_feature_width = imgDim * imgDim\n",
    "number_of_outputs = input_feature_width\n",
    "num_hidden_units = 2\n",
    "learning_rate = 0.01"
   ]
  },
  {
   "cell_type": "code",
   "execution_count": 3,
   "metadata": {
    "collapsed": true
   },
   "outputs": [],
   "source": [
    "def get_data(mnist):\n",
    "    batch = mnist.test.next_batch(2000)\n",
    "    stratified_data, stratified_labels = get_stratified_data(batch[0], batch[1], 100)\n",
    "    #print(stratified_data)\n",
    "    #print(len(stratified_data))\n",
    "    #print(batch[0].shape)\n",
    "    #images = batch[0].reshape(1000, 784)\n",
    "    return stratified_data, stratified_labels\n",
    "\n",
    "\n",
    "def get_stratified_data(data, labels, min_size):\n",
    "    labels = np.array([np.where(r==1)[0][0] for r in labels ])\n",
    "    ret_data = {}\n",
    "    _data = []\n",
    "    _labels = []\n",
    "    #print(labels.shape)\n",
    "    for i in range(len(data)):\n",
    "        if not int(labels[i]) in ret_data:\n",
    "            ret_data[int(labels[i])] = 1\n",
    "        else:\n",
    "            if(ret_data[int(labels[i])] <= min_size):\n",
    "                ret_data[int(labels[i])] += 1\n",
    "                _data.append(data[i])\n",
    "                _labels.append(int(labels[i]))\n",
    "            else:\n",
    "                pass\n",
    "                #print(str(int(labels[i])) + \" has \" + str(min_size))\n",
    "    return _data, np.array(_labels)\n",
    "    \n"
   ]
  },
  {
   "cell_type": "code",
   "execution_count": 4,
   "metadata": {
    "collapsed": true
   },
   "outputs": [],
   "source": [
    "X = tf.placeholder(tf.float32, shape=[None, input_feature_width])\n",
    "hidden = tf.layers.dense(X, num_hidden_units)\n",
    "output = tf.layers.dense(hidden, number_of_outputs)\n",
    "reconstruction_loss = tf.reduce_mean(tf.square(output - X))\n",
    "optimizer = tf.train.AdamOptimizer(learning_rate=learning_rate)\n",
    "training_op = optimizer.minimize(reconstruction_loss)"
   ]
  },
  {
   "cell_type": "code",
   "execution_count": 5,
   "metadata": {
    "collapsed": true
   },
   "outputs": [],
   "source": [
    "init = tf.global_variables_initializer()"
   ]
  },
  {
   "cell_type": "code",
   "execution_count": 6,
   "metadata": {},
   "outputs": [
    {
     "name": "stdout",
     "output_type": "stream",
     "text": [
      "Extracting MNIST/train-images-idx3-ubyte.gz\n",
      "Extracting MNIST/train-labels-idx1-ubyte.gz\n",
      "Extracting MNIST/t10k-images-idx3-ubyte.gz\n",
      "Extracting MNIST/t10k-labels-idx1-ubyte.gz\n"
     ]
    }
   ],
   "source": [
    "mnist = input_data.read_data_sets(DATA_DIR, one_hot=True)\n",
    "X_train, labels = get_data(mnist)\n",
    "codings = hidden\n",
    "reconstuction_loss_values = []\n",
    "\n",
    "with tf.Session() as sess:\n",
    "    init.run()\n",
    "    for iteration in range(STEPS):\n",
    "        training_op.run(feed_dict={X:X_train})\n",
    "        reconstuction_loss_values.append(reconstruction_loss.eval(feed_dict={X:X_train}))\n",
    "    data_points = codings.eval(feed_dict={X:X_train})\n",
    "    data = X_train[0].reshape(1,input_feature_width)\n",
    "    codings_val1 = codings.eval(feed_dict={X:data})\n",
    "    #print(codings_val1)\n"
   ]
  },
  {
   "cell_type": "code",
   "execution_count": 7,
   "metadata": {},
   "outputs": [
    {
     "data": {
      "text/plain": [
       "[<matplotlib.lines.Line2D at 0x117be9250>]"
      ]
     },
     "execution_count": 7,
     "metadata": {},
     "output_type": "execute_result"
    },
    {
     "data": {
      "image/png": "[encoded data removed]",
      "text/plain": [
       "<matplotlib.figure.Figure at 0x10c095a50>"
      ]
     },
     "metadata": {},
     "output_type": "display_data"
    }
   ],
   "source": [
    "%matplotlib inline\n",
    "import matplotlib.pyplot as plt\n",
    "plt.plot(reconstuction_loss_values)\n"
   ]
  },
  {
   "cell_type": "markdown",
   "metadata": {},
   "source": [
    "# Reconstruction loss plotted as above"
   ]
  },
  {
   "cell_type": "code",
   "execution_count": 8,
   "metadata": {},
   "outputs": [
    {
     "name": "stdout",
     "output_type": "stream",
     "text": [
      "(1000,)\n",
      "3\n",
      "9\n",
      "(1000,)\n"
     ]
    }
   ],
   "source": [
    "print(labels.shape)\n",
    "print(labels[10])\n",
    "integer_labels = labels #np.array([np.where(r==1)[0][0] for r in labels ])\n",
    "print(integer_labels[34])\n",
    "print(integer_labels.shape)\n"
   ]
  },
  {
   "cell_type": "code",
   "execution_count": 9,
   "metadata": {},
   "outputs": [
    {
     "name": "stdout",
     "output_type": "stream",
     "text": [
      "\n",
      "Test Precision=0.20\n",
      "Test Recall=0.20\n",
      "Test F1 Score=0.20\n",
      "\n",
      "Prediction Truth    Result\n",
      "5             5     correct\n",
      "8             5     incorrect\n",
      "8             5     incorrect\n",
      "3             5     incorrect\n",
      "5             5     correct\n",
      "5             5     correct\n",
      "8             5     incorrect\n",
      "6             5     incorrect\n",
      "8             5     incorrect\n",
      "5             5     correct\n",
      "3             5     incorrect\n",
      "3             5     incorrect\n",
      "3             5     incorrect\n",
      "3             5     incorrect\n",
      "3             5     incorrect\n",
      "5             5     correct\n",
      "5             5     correct\n",
      "9             5     incorrect\n",
      "3             5     incorrect\n",
      "2             5     incorrect\n",
      "4             5     incorrect\n",
      "8             5     incorrect\n",
      "3             5     incorrect\n",
      "4             5     incorrect\n",
      "6             5     incorrect\n",
      "6             5     incorrect\n",
      "3             5     incorrect\n",
      "3             5     incorrect\n",
      "5             5     correct\n",
      "4             5     incorrect\n",
      "8             5     incorrect\n",
      "1             5     incorrect\n",
      "8             5     incorrect\n",
      "7             5     incorrect\n",
      "5             5     correct\n",
      "3             5     incorrect\n",
      "6             5     incorrect\n",
      "8             5     incorrect\n",
      "1             5     incorrect\n",
      "8             5     incorrect\n",
      "3             5     incorrect\n",
      "5             5     correct\n",
      "6             5     incorrect\n",
      "8             5     incorrect\n",
      "8             5     incorrect\n",
      "5             5     correct\n",
      "2             5     incorrect\n",
      "8             5     incorrect\n",
      "1             5     incorrect\n",
      "1             5     incorrect\n"
     ]
    }
   ],
   "source": [
    "def get_k_nearest_neighbor_indices(input_data, number_of_neighbors, index_of_the_target_node = 0):\n",
    "    nbrs = NearestNeighbors(n_neighbors=number_of_neighbors, algorithm='brute').fit(input_data)\n",
    "    distances, indices = nbrs.kneighbors(input_data)\n",
    "    return indices[index_of_the_target_node]\n",
    "\n",
    "number_to_show_for = 5\n",
    "index_of_target_node = np.where(integer_labels == number_to_show_for)[0][0]\n",
    "label_of_target_node = integer_labels[index_of_target_node]\n",
    "k_nearest_neighbor_indices = get_k_nearest_neighbor_indices(data_points, 50, index_of_target_node)\n",
    "predictions = map(lambda index: integer_labels[index], k_nearest_neighbor_indices)\n",
    "truth = np.ones((50)) * label_of_target_node\n",
    "\n",
    "intLabelling = np.vectorize(lambda x: int(x))\n",
    "truth = intLabelling(truth)\n",
    "f1 = skl.metrics.f1_score(truth, predictions, average='micro')  \n",
    "precision = skl.metrics.precision_score(truth, predictions, average='micro')\n",
    "recall = skl.metrics.recall_score(truth, predictions, average='micro')\n",
    "print('\\nTest Precision=%.2f' % (precision))\n",
    "print('Test Recall=%.2f' % (recall))\n",
    "print('Test F1 Score=%.2f' % (f1))\n",
    "\n",
    "print \"\\nPrediction\", \"Truth\" , \"   Result\"\n",
    "for i in range(len(predictions)):\n",
    "    print predictions[i],\"           \" ,int(truth[i]) , \"   \", \"correct\" if predictions[i] - truth[i] == 0 else \"incorrect\"\n",
    "\n",
    "    "
   ]
  },
  {
   "cell_type": "code",
   "execution_count": null,
   "metadata": {
    "collapsed": true
   },
   "outputs": [],
   "source": []
  },
  {
   "cell_type": "code",
   "execution_count": null,
   "metadata": {
    "collapsed": true
   },
   "outputs": [],
   "source": []
  },
  {
   "cell_type": "code",
   "execution_count": null,
   "metadata": {
    "collapsed": true
   },
   "outputs": [],
   "source": []
  },
  {
   "cell_type": "code",
   "execution_count": null,
   "metadata": {
    "collapsed": true
   },
   "outputs": [],
   "source": []
  },
  {
   "cell_type": "code",
   "execution_count": null,
   "metadata": {
    "collapsed": true
   },
   "outputs": [],
   "source": []
  },
  {
   "cell_type": "code",
   "execution_count": null,
   "metadata": {
    "collapsed": true
   },
   "outputs": [],
   "source": []
  },
  {
   "cell_type": "code",
   "execution_count": null,
   "metadata": {
    "collapsed": true
   },
   "outputs": [],
   "source": []
  },
  {
   "cell_type": "code",
   "execution_count": null,
   "metadata": {
    "collapsed": true
   },
   "outputs": [],
   "source": []
  },
  {
   "cell_type": "code",
   "execution_count": null,
   "metadata": {
    "collapsed": true
   },
   "outputs": [],
   "source": []
  },
  {
   "cell_type": "code",
   "execution_count": null,
   "metadata": {
    "collapsed": true
   },
   "outputs": [],
   "source": []
  },
  {
   "cell_type": "code",
   "execution_count": null,
   "metadata": {
    "collapsed": true
   },
   "outputs": [],
   "source": []
  },
  {
   "cell_type": "code",
   "execution_count": null,
   "metadata": {
    "collapsed": true
   },
   "outputs": [],
   "source": []
  },
  {
   "cell_type": "code",
   "execution_count": null,
   "metadata": {
    "collapsed": true
   },
   "outputs": [],
   "source": []
  },
  {
   "cell_type": "code",
   "execution_count": null,
   "metadata": {
    "collapsed": true
   },
   "outputs": [],
   "source": []
  },
  {
   "cell_type": "code",
   "execution_count": null,
   "metadata": {
    "collapsed": true
   },
   "outputs": [],
   "source": []
  },
  {
   "cell_type": "code",
   "execution_count": null,
   "metadata": {
    "collapsed": true
   },
   "outputs": [],
   "source": []
  },
  {
   "cell_type": "code",
   "execution_count": null,
   "metadata": {
    "collapsed": true
   },
   "outputs": [],
   "source": []
  },
  {
   "cell_type": "code",
   "execution_count": null,
   "metadata": {
    "collapsed": true
   },
   "outputs": [],
   "source": []
  },
  {
   "cell_type": "code",
   "execution_count": null,
   "metadata": {
    "collapsed": true
   },
   "outputs": [],
   "source": []
  },
  {
   "cell_type": "code",
   "execution_count": null,
   "metadata": {
    "collapsed": true
   },
   "outputs": [],
   "source": []
  },
  {
   "cell_type": "code",
   "execution_count": null,
   "metadata": {
    "collapsed": true
   },
   "outputs": [],
   "source": []
  },
  {
   "cell_type": "code",
   "execution_count": null,
   "metadata": {
    "collapsed": true
   },
   "outputs": [],
   "source": []
  },
  {
   "cell_type": "code",
   "execution_count": null,
   "metadata": {
    "collapsed": true
   },
   "outputs": [],
   "source": []
  },
  {
   "cell_type": "code",
   "execution_count": null,
   "metadata": {
    "collapsed": true
   },
   "outputs": [],
   "source": []
  },
  {
   "cell_type": "code",
   "execution_count": null,
   "metadata": {
    "collapsed": true
   },
   "outputs": [],
   "source": []
  }
 ],
 "metadata": {
  "kernelspec": {
   "display_name": "Python 2",
   "language": "python",
   "name": "python2"
  },
  "language_info": {
   "codemirror_mode": {
    "name": "ipython",
    "version": 2
   },
   "file_extension": ".py",
   "mimetype": "text/x-python",
   "name": "python",
   "nbconvert_exporter": "python",
   "pygments_lexer": "ipython2",
   "version": "2.7.10"
  }
 },
 "nbformat": 4,
 "nbformat_minor": 2
}
