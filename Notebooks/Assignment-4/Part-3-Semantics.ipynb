{
 "cells": [
  {
   "cell_type": "code",
   "execution_count": 1,
   "metadata": {
    "collapsed": true
   },
   "outputs": [],
   "source": [
    "import tensorflow as tf\n",
    "from tensorflow.examples.tutorials.mnist import input_data\n",
    "import csv\n",
    "import numpy as np\n",
    "import heapq\n",
    "\n",
    "\n",
    "word_vec_file = 'vectors_new.txt'"
   ]
  },
  {
   "cell_type": "code",
   "execution_count": 2,
   "metadata": {
    "collapsed": true
   },
   "outputs": [],
   "source": [
    "def getWordVectorDict():\n",
    "    reader = csv.reader(open(word_vec_file), delimiter = ' ')\n",
    "\n",
    "    word_vector_dict = {}\n",
    "    for row in reader:\n",
    "        #print row[0]\n",
    "        key = row[0]\n",
    "        if key in word_vector_dict:\n",
    "            pass\n",
    "        word_vector_dict[key] = np.array(row[1:],dtype=float)\n",
    "    return word_vector_dict"
   ]
  },
  {
   "cell_type": "code",
   "execution_count": 3,
   "metadata": {
    "collapsed": true
   },
   "outputs": [],
   "source": [
    "def get_cosine_similarity(v1,v2):\n",
    "    x = np.dot(v1,v2)/(np.linalg.norm(v1)*np.linalg.norm(v2))\n",
    "    if np.isnan(x):\n",
    "        x = 0\n",
    "    return x\n",
    "    "
   ]
  },
  {
   "cell_type": "code",
   "execution_count": 4,
   "metadata": {
    "collapsed": true
   },
   "outputs": [],
   "source": [
    "def find_most_similar(word_dict, word, number_of_results):\n",
    "    current_word_vector = word_dict[word]\n",
    "    h = []\n",
    "    for word in word_dict:\n",
    "        word_vec = word_dict[word]\n",
    "        heapq.heappush(h, (-get_cosine_similarity(current_word_vector, word_vec), word))\n",
    "    return [heapq.heappop(h)[1] for i in range(number_of_results)]"
   ]
  },
  {
   "cell_type": "code",
   "execution_count": 5,
   "metadata": {},
   "outputs": [
    {
     "data": {
      "text/plain": [
       "['life',\n",
       " 'mind',\n",
       " 'love',\n",
       " 'lives',\n",
       " 'own',\n",
       " 'kind',\n",
       " 'experience',\n",
       " 'child',\n",
       " 'perhaps',\n",
       " 'she',\n",
       " 'whose',\n",
       " 'indeed',\n",
       " 'her',\n",
       " 'same',\n",
       " 'work',\n",
       " 'true',\n",
       " 'way',\n",
       " 'once',\n",
       " 'fact',\n",
       " 'this']"
      ]
     },
     "execution_count": 5,
     "metadata": {},
     "output_type": "execute_result"
    }
   ],
   "source": [
    "word_dictionary = getWordVectorDict()\n",
    "find_most_similar(word_dictionary, 'life', 21)"
   ]
  },
  {
   "cell_type": "code",
   "execution_count": 6,
   "metadata": {},
   "outputs": [
    {
     "data": {
      "text/plain": [
       "['stanford',\n",
       " 'ucla',\n",
       " 'harvard',\n",
       " 'yale',\n",
       " 'princeton',\n",
       " 'rutgers',\n",
       " 'university',\n",
       " 'baylor',\n",
       " 'graduate',\n",
       " 'georgetown',\n",
       " 'cornell',\n",
       " 'usc',\n",
       " 'uc',\n",
       " 'hopkins',\n",
       " 'professor',\n",
       " 'berkeley',\n",
       " 'college',\n",
       " 'vanderbilt',\n",
       " 'ph.d.',\n",
       " 'purdue']"
      ]
     },
     "execution_count": 6,
     "metadata": {},
     "output_type": "execute_result"
    }
   ],
   "source": [
    "find_most_similar(word_dictionary, 'stanford', 21)"
   ]
  },
  {
   "cell_type": "code",
   "execution_count": 7,
   "metadata": {},
   "outputs": [
    {
     "data": {
      "text/plain": [
       "['market',\n",
       " 'markets',\n",
       " 'prices',\n",
       " 'stock',\n",
       " 'buying',\n",
       " 'consumer',\n",
       " 'retail',\n",
       " 'stocks',\n",
       " 'price',\n",
       " 'sales',\n",
       " 'business',\n",
       " 'trend',\n",
       " 'rise',\n",
       " 'industry',\n",
       " 'sector',\n",
       " 'investors',\n",
       " 'trading',\n",
       " 'demand',\n",
       " 'economy',\n",
       " 'higher']"
      ]
     },
     "execution_count": 7,
     "metadata": {},
     "output_type": "execute_result"
    }
   ],
   "source": [
    "find_most_similar(word_dictionary, 'market', 21)"
   ]
  },
  {
   "cell_type": "code",
   "execution_count": 8,
   "metadata": {},
   "outputs": [
    {
     "data": {
      "text/plain": [
       "['trump',\n",
       " 'casino',\n",
       " 'casinos',\n",
       " 'hilton',\n",
       " 'mogul',\n",
       " 'vegas',\n",
       " 'murdoch',\n",
       " 'taj',\n",
       " 'mgm',\n",
       " 'gambling',\n",
       " 'hollywood',\n",
       " 'rockefeller',\n",
       " 'hotel',\n",
       " 'disney',\n",
       " 'luxury',\n",
       " 'condominium',\n",
       " 'owns',\n",
       " 'viacom',\n",
       " 'worldcom',\n",
       " 'carlton']"
      ]
     },
     "execution_count": 8,
     "metadata": {},
     "output_type": "execute_result"
    }
   ],
   "source": [
    "find_most_similar(word_dictionary, 'trump', 21)"
   ]
  },
  {
   "cell_type": "code",
   "execution_count": 9,
   "metadata": {},
   "outputs": [
    {
     "data": {
      "text/plain": [
       "['public',\n",
       " 'private',\n",
       " 'office',\n",
       " 'attention',\n",
       " 'local',\n",
       " 'for',\n",
       " 'media',\n",
       " 'new',\n",
       " 'address',\n",
       " 'own',\n",
       " 'concerned',\n",
       " 'health',\n",
       " 'business',\n",
       " 'focused',\n",
       " 'services',\n",
       " 'administration',\n",
       " 'lack',\n",
       " 'critical',\n",
       " 'calls',\n",
       " 'giving']"
      ]
     },
     "execution_count": 9,
     "metadata": {},
     "output_type": "execute_result"
    }
   ],
   "source": [
    "find_most_similar(word_dictionary, 'public', 21)"
   ]
  },
  {
   "cell_type": "code",
   "execution_count": null,
   "metadata": {
    "collapsed": true
   },
   "outputs": [],
   "source": []
  },
  {
   "cell_type": "code",
   "execution_count": null,
   "metadata": {
    "collapsed": true
   },
   "outputs": [],
   "source": []
  }
 ],
 "metadata": {
  "kernelspec": {
   "display_name": "Python 2",
   "language": "python",
   "name": "python2"
  },
  "language_info": {
   "codemirror_mode": {
    "name": "ipython",
    "version": 2
   },
   "file_extension": ".py",
   "mimetype": "text/x-python",
   "name": "python",
   "nbconvert_exporter": "python",
   "pygments_lexer": "ipython2",
   "version": "2.7.10"
  }
 },
 "nbformat": 4,
 "nbformat_minor": 2
}
