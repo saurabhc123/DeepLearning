{
 "cells": [
  {
   "cell_type": "code",
   "execution_count": 1,
   "metadata": {
    "collapsed": true
   },
   "outputs": [],
   "source": [
    "import tensorflow as tf\n",
    "from tensorflow.contrib.layers import fully_connected\n",
    "from tensorflow.examples.tutorials.mnist import input_data\n",
    "import os\n",
    "import numpy as np\n",
    "import matplotlib.pyplot as plt\n",
    "from skimage.transform import resize\n",
    "import math as math\n",
    "from sklearn.neighbors import NearestNeighbors\n",
    "import sklearn as skl\n",
    "from sklearn.metrics import f1_score"
   ]
  },
  {
   "cell_type": "code",
   "execution_count": 2,
   "metadata": {
    "collapsed": true
   },
   "outputs": [],
   "source": [
    "DATA_DIR = 'MNIST'\n",
    "STEPS = 200\n",
    "MINIBATCH_SIZE = 50\n",
    "\n",
    "imgDim = 28\n",
    "imgChannels = 1\n",
    "\n",
    "input_feature_width = imgDim * imgDim\n",
    "number_of_outputs = input_feature_width\n",
    "num_hidden_units = 10\n",
    "learning_rate = 0.01"
   ]
  },
  {
   "cell_type": "code",
   "execution_count": 3,
   "metadata": {
    "collapsed": true
   },
   "outputs": [],
   "source": [
    "def get_data(mnist):\n",
    "    batch = mnist.test.next_batch(2000)\n",
    "    stratified_data, stratified_labels = get_stratified_data(batch[0], batch[1], 100)\n",
    "    #print(stratified_data)\n",
    "    #print(len(stratified_data))\n",
    "    #print(batch[0].shape)\n",
    "    #images = batch[0].reshape(1000, 784)\n",
    "    return stratified_data, stratified_labels\n",
    "\n",
    "\n",
    "def get_stratified_data(data, labels, min_size):\n",
    "    labels = np.array([np.where(r==1)[0][0] for r in labels ])\n",
    "    ret_data = {}\n",
    "    _data = []\n",
    "    _labels = []\n",
    "    #print(labels.shape)\n",
    "    for i in range(len(data)):\n",
    "        if not int(labels[i]) in ret_data:\n",
    "            ret_data[int(labels[i])] = 1\n",
    "        else:\n",
    "            if(ret_data[int(labels[i])] <= min_size):\n",
    "                ret_data[int(labels[i])] += 1\n",
    "                _data.append(data[i])\n",
    "                _labels.append(int(labels[i]))\n",
    "            else:\n",
    "                pass\n",
    "                #print(str(int(labels[i])) + \" has \" + str(min_size))\n",
    "    return _data, np.array(_labels)\n",
    "    \n"
   ]
  },
  {
   "cell_type": "code",
   "execution_count": 4,
   "metadata": {
    "collapsed": true
   },
   "outputs": [],
   "source": [
    "l2_reg = 0.0001\n",
    "he_init = tf.contrib.layers.variance_scaling_initializer()\n",
    "l2_regularizer = tf.contrib.layers.l2_regularizer(l2_reg)\n",
    "\n",
    "X = tf.placeholder(tf.float32, shape=[None, input_feature_width])\n",
    "hidden = tf.layers.dense(X, num_hidden_units, activation=tf.nn.elu, kernel_initializer=he_init, kernel_regularizer=l2_regularizer)\n",
    "output = tf.layers.dense(hidden, number_of_outputs, activation=None, kernel_initializer=he_init, kernel_regularizer=l2_regularizer)\n",
    "reconstruction_loss = tf.reduce_mean(tf.square(output - X))\n",
    "optimizer = tf.train.AdamOptimizer(learning_rate=learning_rate)\n",
    "training_op = optimizer.minimize(reconstruction_loss)"
   ]
  },
  {
   "cell_type": "code",
   "execution_count": 5,
   "metadata": {
    "collapsed": true
   },
   "outputs": [],
   "source": [
    "init = tf.global_variables_initializer()"
   ]
  },
  {
   "cell_type": "code",
   "execution_count": 6,
   "metadata": {},
   "outputs": [
    {
     "name": "stdout",
     "output_type": "stream",
     "text": [
      "Extracting MNIST/train-images-idx3-ubyte.gz\n",
      "Extracting MNIST/train-labels-idx1-ubyte.gz\n",
      "Extracting MNIST/t10k-images-idx3-ubyte.gz\n",
      "Extracting MNIST/t10k-labels-idx1-ubyte.gz\n"
     ]
    }
   ],
   "source": [
    "mnist = input_data.read_data_sets(DATA_DIR, one_hot=True)\n",
    "X_train, labels = get_data(mnist)\n",
    "codings = hidden\n",
    "reconstuction_loss_values = []\n",
    "\n",
    "with tf.Session() as sess:\n",
    "    init.run()\n",
    "    for iteration in range(STEPS):\n",
    "        training_op.run(feed_dict={X:X_train})\n",
    "        reconstuction_loss_values.append(reconstruction_loss.eval(feed_dict={X:X_train}))\n",
    "    data_points = codings.eval(feed_dict={X:X_train})\n",
    "    data = X_train[0].reshape(1,input_feature_width)\n",
    "    codings_val1 = codings.eval(feed_dict={X:data})\n",
    "    #print(codings_val1)\n"
   ]
  },
  {
   "cell_type": "code",
   "execution_count": 7,
   "metadata": {},
   "outputs": [
    {
     "data": {
      "text/plain": [
       "[<matplotlib.lines.Line2D at 0x116da04d0>]"
      ]
     },
     "execution_count": 7,
     "metadata": {},
     "output_type": "execute_result"
    },
    {
     "data": {
      "image/png": "[encoded data removed]",
      "text/plain": [
       "<matplotlib.figure.Figure at 0x10b17fa50>"
      ]
     },
     "metadata": {},
     "output_type": "display_data"
    }
   ],
   "source": [
    "%matplotlib inline\n",
    "import matplotlib.pyplot as plt\n",
    "plt.plot(reconstuction_loss_values)\n"
   ]
  },
  {
   "cell_type": "markdown",
   "metadata": {},
   "source": [
    "# Reconstruction loss plotted as above for 10 hidden units."
   ]
  }
 ],
 "metadata": {
  "kernelspec": {
   "display_name": "Python 2",
   "language": "python",
   "name": "python2"
  },
  "language_info": {
   "codemirror_mode": {
    "name": "ipython",
    "version": 2
   },
   "file_extension": ".py",
   "mimetype": "text/x-python",
   "name": "python",
   "nbconvert_exporter": "python",
   "pygments_lexer": "ipython2",
   "version": "2.7.10"
  }
 },
 "nbformat": 4,
 "nbformat_minor": 2
}
